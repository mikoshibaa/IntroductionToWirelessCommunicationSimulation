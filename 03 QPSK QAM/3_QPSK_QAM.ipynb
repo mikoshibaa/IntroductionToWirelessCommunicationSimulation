{
  "cells": [
    {
      "cell_type": "markdown",
      "metadata": {
        "id": "76HZHMZjehjx"
      },
      "source": [
        "# 3 QPSK, QAM"
      ]
    },
    {
      "cell_type": "markdown",
      "metadata": {
        "id": "PFBpf-Ezehjx"
      },
      "source": [
        "## Pythonのバージョン確認と，必要なライブラリをインポートする．"
      ]
    },
    {
      "cell_type": "code",
      "execution_count": 42,
      "metadata": {
        "colab": {
          "base_uri": "https://localhost:8080/"
        },
        "id": "c_8vCj-kCn2s",
        "outputId": "520789ae-39dd-41a4-ba5e-9c4ae308c8ca"
      },
      "outputs": [
        {
          "output_type": "stream",
          "name": "stdout",
          "text": [
            "Python 3.7.13\n"
          ]
        }
      ],
      "source": [
        "!python3 --version\n",
        "\n",
        "import random"
      ]
    },
    {
      "cell_type": "code",
      "execution_count": null,
      "metadata": {
        "id": "WQOQ-43civq5"
      },
      "outputs": [],
      "source": [
        "import matplotlib as makeMSL\n",
        "import matplotlib.pyplot as plt\n",
        "import numpy as np\n",
        "import math"
      ]
    },
    {
      "cell_type": "code",
      "execution_count": null,
      "metadata": {
        "id": "Vrx4O4zXuKOD"
      },
      "outputs": [],
      "source": []
    },
    {
      "cell_type": "markdown",
      "metadata": {
        "id": "l8KQMf29fkVg"
      },
      "source": [
        "### 以下は$\\mbox{erfc}$関数を読み込むためのライブラリ"
      ]
    },
    {
      "cell_type": "code",
      "execution_count": null,
      "metadata": {
        "id": "FHNNDNTAfarX"
      },
      "outputs": [],
      "source": [
        "from scipy import special"
      ]
    },
    {
      "cell_type": "code",
      "execution_count": null,
      "metadata": {
        "colab": {
          "base_uri": "https://localhost:8080/",
          "height": 279
        },
        "id": "D1_JxkuCfwyR",
        "outputId": "2d0ab2d8-5360-4ef1-8ec1-fc4072b13466"
      },
      "outputs": [
        {
          "data": {
            "image/png": "[encoded data removed]",
            "text/plain": [
              "<Figure size 432x288 with 1 Axes>"
            ]
          },
          "metadata": {},
          "output_type": "display_data"
        }
      ],
      "source": [
        "x = np.linspace(-3, 3)\n",
        "plt.plot(x, special.erfc(x))\n",
        "plt.xlabel('$x$')\n",
        "plt.ylabel('$erfc(x)$')\n",
        "plt.show()"
      ]
    },
    {
      "cell_type": "code",
      "execution_count": null,
      "metadata": {
        "colab": {
          "base_uri": "https://localhost:8080/",
          "height": 280
        },
        "id": "TTnmTvpjgFW-",
        "outputId": "28f1dba8-791a-4554-e4b7-f4270fcfd5cc"
      },
      "outputs": [
        {
          "data": {
            "image/png": "[encoded data removed]",
            "text/plain": [
              "<Figure size 432x288 with 1 Axes>"
            ]
          },
          "metadata": {},
          "output_type": "display_data"
        }
      ],
      "source": [
        "snr = np.linspace(0, 10)\n",
        "plt.plot(\n",
        "    snr, \n",
        "    0.5 * special.erfc(\n",
        "        np.sqrt(\n",
        "            np.power(10, snr / 10.0 ) \n",
        "        )\n",
        "    )\n",
        ")\n",
        "plt.yscale('log')\n",
        "plt.xlabel('snr[dB]')\n",
        "plt.ylabel('$0.5  erfc(\\sqrt{snr})$')\n",
        "plt.show()"
      ]
    },
    {
      "cell_type": "markdown",
      "metadata": {
        "id": "ufUgKEj7lhZV"
      },
      "source": [
        "## PSK等のための関数準備"
      ]
    },
    {
      "cell_type": "markdown",
      "metadata": {
        "id": "Yz1bBS98VIpv"
      },
      "source": [
        "### M系列を静的に作成する関数"
      ]
    },
    {
      "cell_type": "code",
      "execution_count": null,
      "metadata": {
        "id": "qwa7f9kTVRTu"
      },
      "outputs": [],
      "source": [
        "'''\n",
        "  M系列を静的に作成する関数\n",
        "  @param 略\n",
        "  @return M系列 np\n",
        "'''\n",
        "\n",
        "def createMLS(\n",
        "    N = 7, #次数\n",
        "    a = 3, #帰還タップ\n",
        "    b = 7, #帰還タップ\n",
        "    X = 1000, # M系列の個数\n",
        "):\n",
        "  \n",
        "  MLS = np.empty(X, dtype = int)\n",
        "\n",
        "  for i in range(X) :\n",
        "    if i < N :\n",
        "      MLS[i] = random.randrange(2)\n",
        "    else :\n",
        "      MLS[i] = MLS[i - a] ^ MLS[i - b]\n",
        "\n",
        "  return MLS\n"
      ]
    },
    {
      "cell_type": "markdown",
      "metadata": {
        "id": "lK0Hrfr51F7W"
      },
      "source": [
        "### M系列からデータを生成する\n"
      ]
    },
    {
      "cell_type": "code",
      "execution_count": null,
      "metadata": {
        "id": "sgSgyCHb1T34"
      },
      "outputs": [],
      "source": [
        "'''\n",
        "01配列から整数を返す関数\n",
        "  @param bits                        01Numpy\n",
        "  @return intBit                      整数\n",
        "'''\n",
        "def getIntFromBits(bits) :\n",
        "  intBit = 0\n",
        "  base = 1\n",
        "\n",
        "  for i in range(bits.size):\n",
        "    intBit += bits[bits.size - 1 - i] * base\n",
        "    base *= 2\n",
        "  \n",
        "  return intBit\n",
        "\n",
        "'''\n",
        "  M系列からデータを生成する\n",
        "  @param MLS                       元になるM系列データ\n",
        "  @param bitNum                    生成データのビット数\n",
        "  @return dataOrigin                 生成されたデータ     (元になるM系列データの大きさ) * （整数）\n",
        "'''\n",
        "def createData(MLS, bitNum = 1) : \n",
        "  #次のインデックス参照処理時に配列外参照を避けるため，同じM系列を２つもってきて長さ２倍に連結させる\n",
        "  MLS2 = np.concatenate( [MLS, MLS] )\n",
        "\n",
        "  return np.array(\n",
        "      [  \n",
        "          getIntFromBits( MLS2[ i : i + bitNum ] )\n",
        "            for i in range( MLS.size )\n",
        "      ],\n",
        "      dtype = int\n",
        "  )"
      ]
    },
    {
      "cell_type": "markdown",
      "metadata": {
        "id": "eRQ63UrBv-5B"
      },
      "source": [
        "#### 例"
      ]
    },
    {
      "cell_type": "code",
      "execution_count": null,
      "metadata": {
        "colab": {
          "base_uri": "https://localhost:8080/"
        },
        "id": "GzTL207Hrqm3",
        "outputId": "87793b6d-4eb4-46e0-e383-00b4ba06dc69"
      },
      "outputs": [
        {
          "name": "stdout",
          "output_type": "stream",
          "text": [
            "M系列\n",
            "[0 1 0 1 0 1 1 0 0 1]\n",
            "2ビットのデータ\n",
            "[1 2 1 2 1 3 2 0 1 2]\n"
          ]
        }
      ],
      "source": [
        "#10個のM系列\n",
        "MLSexample = createMLS(X = 10)\n",
        "\n",
        "print(\"M系列\")\n",
        "print(MLSexample)\n",
        "\n",
        "#２ビットのデータを生成\n",
        "dataOriginExample = createData(\n",
        "    MLSexample, bitNum= 2\n",
        "  )\n",
        "\n",
        "print(\"2ビットのデータ\")\n",
        "print( dataOriginExample )"
      ]
    },
    {
      "cell_type": "markdown",
      "metadata": {
        "id": "ur-n9hhDma3O"
      },
      "source": [
        "### PSK変調\n",
        "\n",
        "BPSKの場合，$0 \\mapsto -1, 1 \\mapsto 1$とする． \\\\\n",
        "QPSKの場合，データ$x$に対して$x \\mapsto \\exp[j (2  x + 1) \\pi /4]$ \\\\\n",
        "一般に多値数$M$に対してデータ$x$から偏角を$\\frac{2\\pi}{M}x$とすることを考える．"
      ]
    },
    {
      "cell_type": "code",
      "execution_count": null,
      "metadata": {
        "id": "xbz6NRBOmkSf"
      },
      "outputs": [],
      "source": [
        "'''\n",
        "  0/1を-1/+1に復調\n",
        "  @param dataOrigin     np もとの0/1データ\n",
        "  @param encodeMode   str 復調方式\n",
        "  @return dataEncoded   np -1/+1データ\n",
        "'''\n",
        "\n",
        "def encode(dataOrigin, encodeMode = \"BPSK\"):\n",
        "  if encodeMode == \"BPSK\":\n",
        "    dataEncoded = np.where( dataOrigin == 0, -1, 1 )\n",
        "    return dataEncoded\n",
        "  \n",
        "  elif encodeMode == \"QPSK\":\n",
        "    dataEncoded = np.exp(\n",
        "        1j * (2 * dataOrigin + 1) * math.pi / 4.0\n",
        "    )\n",
        "    return dataEncoded"
      ]
    },
    {
      "cell_type": "markdown",
      "metadata": {
        "id": "WLV7zx2mqSZW"
      },
      "source": [
        "#### 例"
      ]
    },
    {
      "cell_type": "code",
      "execution_count": null,
      "metadata": {
        "colab": {
          "base_uri": "https://localhost:8080/"
        },
        "id": "kGKrpYcjp-2m",
        "outputId": "2cc81f39-164a-4cf6-da3e-3800e8b6d93d"
      },
      "outputs": [
        {
          "name": "stdout",
          "output_type": "stream",
          "text": [
            "M系列\n",
            "[1 0 0 1 0 0 0 1 0 0]\n",
            "2bitデータ\n",
            "[2 0 1 2 0 0 1 2 0 1]\n",
            "QPSK\n",
            "[-0.70710678-0.70710678j  0.70710678+0.70710678j -0.70710678+0.70710678j\n",
            " -0.70710678-0.70710678j  0.70710678+0.70710678j  0.70710678+0.70710678j\n",
            " -0.70710678+0.70710678j -0.70710678-0.70710678j  0.70710678+0.70710678j\n",
            " -0.70710678+0.70710678j]\n"
          ]
        }
      ],
      "source": [
        "#10個のM系列\n",
        "MLSexample = createMLS(X = 10)\n",
        "\n",
        "print(\"M系列\")\n",
        "print(MLSexample)\n",
        "\n",
        "#２ビットのデータを生成\n",
        "dataOriginExample = createData(\n",
        "    MLSexample, bitNum= 2\n",
        "  )\n",
        "\n",
        "print(\"2bitデータ\")\n",
        "print( dataOriginExample )\n",
        "\n",
        "#QPSK\n",
        "dataEncodedExample = encode(\n",
        "        dataOriginExample, encodeMode = \"QPSK\"\n",
        "        ) \n",
        "print(\"QPSK\")\n",
        "print( dataEncodedExample )"
      ]
    },
    {
      "cell_type": "markdown",
      "metadata": {
        "id": "aNe9ZwZ0vsXu"
      },
      "source": [
        "### QAM(変調)\n"
      ]
    },
    {
      "cell_type": "markdown",
      "metadata": {
        "id": "dgZxGdkhv1rB"
      },
      "source": [
        "#### アルゴリズム"
      ]
    },
    {
      "cell_type": "markdown",
      "metadata": {
        "id": "Kzi0MNmf6D6z"
      },
      "source": [
        "##### 16QAM"
      ]
    },
    {
      "cell_type": "markdown",
      "metadata": {
        "id": "NxSX0WIz4q0s"
      },
      "source": [
        "###### 信号配置の間の間隔"
      ]
    },
    {
      "cell_type": "markdown",
      "metadata": {
        "id": "nMLTr3BUv6Ru"
      },
      "source": [
        "信号配置点を\n",
        "\n",
        "$$\\mathcal{S}_4 := \\bigg\\{ \\pm I \\pm j \\  Q \n",
        "\\bigg|\n",
        "I, Q = a, 3a\n",
        "\\bigg\\}$$\n",
        "\n",
        "とおき，最大振幅を$A = 3\\sqrt{2} a$とおく，平均電力$S$について第$１$象限を考えて，\n",
        "\\begin{align}\n",
        "S &= \\frac{1}{2} \\cdot \\frac{\n",
        "  (a^2 + a^2) + \n",
        "  \\big\\{a^2 + (3a)^2\\big\\} + \n",
        "  \\big\\{(3a)^2 + a^2 \\big\\} + \n",
        "  \\big\\{ (3a)^2 + (3a)^2 \\big\\}\n",
        "  }{4} \\\\\n",
        "  &= \n",
        "  \\frac{1}{2}\\cdot2 \\cdot 2 \\cdot \\frac{a^2 + (3a)^2}{4} \\\\\n",
        "  &= 5a^2 = \\frac{5}{18} A^2\n",
        "\\end{align}\n",
        "である．これが$P_S = 1$のとき\n",
        "$$\n",
        "a = \\frac{1}{\\sqrt{5} }\n",
        "$$\n",
        "とわかる．"
      ]
    },
    {
      "cell_type": "markdown",
      "metadata": {
        "id": "_bGtw6xq6LeI"
      },
      "source": [
        "###### 信号点配置\n",
        "\n",
        "$4$ビットのデータ$x_1 x_2 x_3 x_4$のうち上位$2$ビットを実部，下位$2$ビットを虚部として変調する．すなわち変調された信号を$s$とおくと\n",
        "\n",
        "$$\n",
        "s = a\\big[2 (x_1 x_2) - 3\\big] + j a\\big[ 2 (x_3 x_4) - 3 \\big]\n",
        "$$"
      ]
    },
    {
      "cell_type": "markdown",
      "metadata": {
        "id": "x21O5GLz-gH2"
      },
      "source": [
        "##### 64QAM"
      ]
    },
    {
      "cell_type": "markdown",
      "metadata": {
        "id": "Jkk6hpPl9YAn"
      },
      "source": [
        "###### 信号配置の間の間隔"
      ]
    },
    {
      "cell_type": "markdown",
      "metadata": {
        "id": "kkqCGLyt7uRB"
      },
      "source": [
        "信号点配置を$$\\mathcal{S}_{64} := \\bigg\\{ \\pm I \\pm j \\  Q \n",
        "\\bigg|\n",
        "I, Q = a, 3a, 5a, 7a\n",
        "\\bigg\\}$$\n",
        "\n",
        "とおき，最大振幅を$A = 5\\sqrt{2} a$とおく，平均電力$S$について第$1$象限を考えて，\n",
        "\\begin{align}\n",
        "S &= \\frac{1}{2} \\cdot 2 \\cdot 4 \\cdot \\frac{a^2 + (3a)^2 + (5a)^2 + (7a)^2}{16}\n",
        "  \\\\\n",
        "  &= 21a^2\n",
        "\\end{align}\n",
        "である．これが$P_S = 1$のとき\n",
        "$$\n",
        "a = \\frac{1}{\\sqrt{21} }\n",
        "$$\n",
        "とわかる．"
      ]
    },
    {
      "cell_type": "markdown",
      "metadata": {
        "id": "64L1nNsX9rAG"
      },
      "source": [
        "###### 信号配置"
      ]
    },
    {
      "cell_type": "markdown",
      "metadata": {
        "id": "CYOeThYb9ugu"
      },
      "source": [
        "$6$ビットのデータ$x_1 x_2 x_3 x_4 x_5 x_6$のうち上位$3$ビットを実部，下位$3$ビットを虚部として変調する．すなわち変調された信号を$s$とおくと\n",
        "\n",
        "$$\n",
        "s = a\\big[2 (x_1 x_2 x_3) - 7\\big] + j a\\big[ 2 (x_4 x_5 x_6) - 7 \\big]\n",
        "$$"
      ]
    },
    {
      "cell_type": "code",
      "execution_count": null,
      "metadata": {
        "id": "vcyPzu7G7r7U"
      },
      "outputs": [],
      "source": []
    },
    {
      "cell_type": "markdown",
      "metadata": {
        "id": "5gCDVVeO-otX"
      },
      "source": [
        "##### 256QAM"
      ]
    },
    {
      "cell_type": "markdown",
      "metadata": {
        "id": "yuH-pyv0-otY"
      },
      "source": [
        "###### 信号配置の間の間隔"
      ]
    },
    {
      "cell_type": "markdown",
      "metadata": {
        "id": "hzEgddhP-otY"
      },
      "source": [
        "信号点配置を$$\\mathcal{S}_{256} := \\bigg\\{ \\pm I \\pm j \\  Q \n",
        "\\bigg|\n",
        "I, Q = a, 3a, 5a, 7a, 9a, 11a, 13a, 15a\n",
        "\\bigg\\}$$\n",
        "\n",
        "とおき，最大振幅を$A = 15\\sqrt{2} a$とおく，平均電力$S$について第$1$象限を考えて，\n",
        "\\begin{align}\n",
        "S &= \\frac{1}{2} \\cdot 2 \\cdot 16 \\cdot \\frac{a^2 + (3a)^2 + (5a)^2 + (7a)^2+\n",
        "(9a)^2 + (11a)^2 + (13a)^2 + (15a)^2\n",
        "}{64}\n",
        "  \\\\\n",
        "  &= 170a^2\n",
        "\\end{align}\n",
        "である．これが$P_S = 1$のとき\n",
        "$$\n",
        "a = \\frac{1}{\\sqrt{170} }\n",
        "$$\n",
        "とわかる．"
      ]
    },
    {
      "cell_type": "markdown",
      "metadata": {
        "id": "q4rxK-YX-otY"
      },
      "source": [
        "###### 信号配置"
      ]
    },
    {
      "cell_type": "markdown",
      "metadata": {
        "id": "00EX3hmy-otY"
      },
      "source": [
        "$8$ビットのデータ$x_1 x_2 x_3 x_4 x_5 x_6 x_7 x_8$のうち上位$4$ビットを実部，下位$4$ビットを虚部として変調する．すなわち変調された信号を$s$とおくと\n",
        "\n",
        "$$\n",
        "s = a\\big[2 (x_1 x_2 x_3 x_4) - 15\\big] + j a\\big[ 2 (x_4 x_5 x_6) - 15 \\big]\n",
        "$$"
      ]
    },
    {
      "cell_type": "code",
      "execution_count": null,
      "metadata": {
        "id": "VWlLDiWT-otY"
      },
      "outputs": [],
      "source": []
    },
    {
      "cell_type": "markdown",
      "metadata": {
        "id": "MfpR7odWBPfO"
      },
      "source": [
        "#### 実装"
      ]
    },
    {
      "cell_type": "code",
      "execution_count": null,
      "metadata": {
        "id": "DiXBpW8IBY0z"
      },
      "outputs": [],
      "source": [
        "'''\n",
        "  @param dataOrigin 変調する対象のデータ\n",
        "  @param Mbit       多値数[bit] (= 2, 4, 6) 単位がビットであることに注意\n",
        "  @return dataEncoded 変調されたデータ\n",
        "'''\n",
        "def encodeQAM(\n",
        "    dataOrigin,\n",
        "    Mbit,  \n",
        "    P_S = 1\n",
        ") :\n",
        "  #信号点配置の間隔2aの半分a\n",
        "  if Mbit == 4 :\n",
        "    a = P_S / math.sqrt(5)\n",
        "  elif Mbit == 6 :\n",
        "    a = P_S / math.sqrt(21)\n",
        "  elif Mbit == 8 :\n",
        "    a = P_S / math.sqrt(170)\n",
        "  \n",
        "  #変調されたデータの実部\n",
        "  dataOriginUpperBits = dataOrigin >> (Mbit//2)\n",
        "  dataEncodedRealPart = a * ( 2 * dataOriginUpperBits - (Mbit//2 << 1) + 1 )\n",
        "\n",
        "  #変調されたデータの虚部\n",
        "  maskLowerBits = sum( [1 << bit for bit in range (Mbit//2)] )\n",
        "  dataOriginLowerBits = dataOrigin & maskLowerBits\n",
        "  dataEncodedImaginaryPart = a * ( 2 * dataOriginLowerBits - (Mbit//2 << 1) + 1 )\n",
        "\n",
        "  #変調されたデータ全体\n",
        "  dataEncoded = dataEncodedRealPart + 1j * dataEncodedImaginaryPart\n",
        "\n",
        "  return dataEncoded"
      ]
    },
    {
      "cell_type": "markdown",
      "metadata": {
        "id": "2o5THT2GGZQ8"
      },
      "source": [
        "##### 例"
      ]
    },
    {
      "cell_type": "code",
      "execution_count": null,
      "metadata": {
        "colab": {
          "base_uri": "https://localhost:8080/",
          "height": 977
        },
        "id": "icIeuqTxGbRd",
        "outputId": "2ebb36e9-04be-4fc4-b5b4-3ff48db10e9b"
      },
      "outputs": [
        {
          "name": "stdout",
          "output_type": "stream",
          "text": [
            "4ビットデータ\n",
            "[ 3  6 12  8  0  0  1  3  6 13 11  6 13 10  5 11  7 14 13 10  4  8  1  3\n",
            "  6 12  9  2  4  8  1  2  4  8  0  0  0  1  2  4  9  2  4  9  3  6 13 10\n",
            "  4  9  3  7 15 14 13 11  7 14 12  8  0  1  3  7 15 15 15 15 14 12  8  1\n",
            "  3  7 14 13 11  6 12  8  1  2  5 10  4  9  2  5 11  7 15 15 14 13 10  5\n",
            " 10  4  8  1]\n",
            "16QAM\n",
            "[-1.34164079+1.34164079j -0.4472136 +0.4472136j   1.34164079-1.34164079j\n",
            "  0.4472136 -1.34164079j -1.34164079-1.34164079j -1.34164079-1.34164079j\n",
            " -1.34164079-0.4472136j  -1.34164079+1.34164079j -0.4472136 +0.4472136j\n",
            "  1.34164079-0.4472136j   0.4472136 +1.34164079j -0.4472136 +0.4472136j\n",
            "  1.34164079-0.4472136j   0.4472136 +0.4472136j  -0.4472136 -0.4472136j\n",
            "  0.4472136 +1.34164079j -0.4472136 +1.34164079j  1.34164079+0.4472136j\n",
            "  1.34164079-0.4472136j   0.4472136 +0.4472136j  -0.4472136 -1.34164079j\n",
            "  0.4472136 -1.34164079j -1.34164079-0.4472136j  -1.34164079+1.34164079j\n",
            " -0.4472136 +0.4472136j   1.34164079-1.34164079j  0.4472136 -0.4472136j\n",
            " -1.34164079+0.4472136j  -0.4472136 -1.34164079j  0.4472136 -1.34164079j\n",
            " -1.34164079-0.4472136j  -1.34164079+0.4472136j  -0.4472136 -1.34164079j\n",
            "  0.4472136 -1.34164079j -1.34164079-1.34164079j -1.34164079-1.34164079j\n",
            " -1.34164079-1.34164079j -1.34164079-0.4472136j  -1.34164079+0.4472136j\n",
            " -0.4472136 -1.34164079j  0.4472136 -0.4472136j  -1.34164079+0.4472136j\n",
            " -0.4472136 -1.34164079j  0.4472136 -0.4472136j  -1.34164079+1.34164079j\n",
            " -0.4472136 +0.4472136j   1.34164079-0.4472136j   0.4472136 +0.4472136j\n",
            " -0.4472136 -1.34164079j  0.4472136 -0.4472136j  -1.34164079+1.34164079j\n",
            " -0.4472136 +1.34164079j  1.34164079+1.34164079j  1.34164079+0.4472136j\n",
            "  1.34164079-0.4472136j   0.4472136 +1.34164079j -0.4472136 +1.34164079j\n",
            "  1.34164079+0.4472136j   1.34164079-1.34164079j  0.4472136 -1.34164079j\n",
            " -1.34164079-1.34164079j -1.34164079-0.4472136j  -1.34164079+1.34164079j\n",
            " -0.4472136 +1.34164079j  1.34164079+1.34164079j  1.34164079+1.34164079j\n",
            "  1.34164079+1.34164079j  1.34164079+1.34164079j  1.34164079+0.4472136j\n",
            "  1.34164079-1.34164079j  0.4472136 -1.34164079j -1.34164079-0.4472136j\n",
            " -1.34164079+1.34164079j -0.4472136 +1.34164079j  1.34164079+0.4472136j\n",
            "  1.34164079-0.4472136j   0.4472136 +1.34164079j -0.4472136 +0.4472136j\n",
            "  1.34164079-1.34164079j  0.4472136 -1.34164079j -1.34164079-0.4472136j\n",
            " -1.34164079+0.4472136j  -0.4472136 -0.4472136j   0.4472136 +0.4472136j\n",
            " -0.4472136 -1.34164079j  0.4472136 -0.4472136j  -1.34164079+0.4472136j\n",
            " -0.4472136 -0.4472136j   0.4472136 +1.34164079j -0.4472136 +1.34164079j\n",
            "  1.34164079+1.34164079j  1.34164079+1.34164079j  1.34164079+0.4472136j\n",
            "  1.34164079-0.4472136j   0.4472136 +0.4472136j  -0.4472136 -0.4472136j\n",
            "  0.4472136 +0.4472136j  -0.4472136 -1.34164079j  0.4472136 -1.34164079j\n",
            " -1.34164079-0.4472136j ]\n"
          ]
        },
        {
          "data": {
            "image/png": "[encoded data removed]",
            "text/plain": [
              "<Figure size 432x288 with 1 Axes>"
            ]
          },
          "metadata": {},
          "output_type": "display_data"
        }
      ],
      "source": [
        "#4ビットのデータを生成\n",
        "dataOrigin4bitExample = createData(\n",
        "    createMLS(X = 100), bitNum= 4\n",
        "  )\n",
        "\n",
        "print( \"4ビットデータ\" )\n",
        "print( dataOrigin4bitExample )\n",
        "\n",
        "#16QAM\n",
        "dataEncodedQAMexample = encodeQAM( dataOrigin4bitExample, Mbit = 4)\n",
        "\n",
        "print( \"16QAM\" )\n",
        "print( dataEncodedQAMexample )\n",
        "\n",
        "#図示\n",
        "plt.scatter(\n",
        "    dataEncodedQAMexample.real,\n",
        "    dataEncodedQAMexample.imag\n",
        ")\n",
        "plt.show()"
      ]
    },
    {
      "cell_type": "markdown",
      "metadata": {
        "id": "GOYREKkkqdxK"
      },
      "source": [
        "### ガウス確率変数をサンプリングする関数(Box-Muller法)"
      ]
    },
    {
      "cell_type": "markdown",
      "metadata": {
        "id": "FWIDQwvsoHyO"
      },
      "source": [
        "#### Box-Muller法の概要\n",
        "一様分布に従う確率変数$x_1, x_2 \\sim U(0,1)$を次の変換$(x_1, x_2) \\mapsto (y_1, y_2)$を施すことで，変換先の確率変数は標準正規分布に従う．すなわち \\\\\n",
        "\n",
        "$$\n",
        "y_1 = \\sqrt{\n",
        "  -2 \\ln{x_1}\n",
        "} \\cdot \\cos 2 \\pi x_2 \\\\\n",
        "y_2 = \\sqrt{\n",
        "  -2 \\ln{x_2}\n",
        "} \\cdot \\sin 2 \\pi x_1\n",
        "$$\n",
        "という変換に対して\n",
        "\n",
        "$$\n",
        "y_1, y_2 \\sim \\mathcal{N}(0, 1)\n",
        "$$\n",
        "となる．\n",
        "\n",
        "また，平均$\\mu$,分散$\\sigma^2$のガウス分布$\\mathcal{N}(\\mu, \\sigma^2)$に従う確率変数$z \\sim \\mathcal{N}(\\mu, \\sigma^2)$のサンプリングは\n",
        "$$\n",
        "z = \\sigma \\cdot y + \\mu\n",
        "$$\n",
        "をとすることで十分."
      ]
    },
    {
      "cell_type": "markdown",
      "metadata": {
        "id": "ffgAAiJdz-ol"
      },
      "source": [
        "#### サンプリング関数"
      ]
    },
    {
      "cell_type": "code",
      "execution_count": null,
      "metadata": {
        "id": "Td2mcfwktOgT"
      },
      "outputs": [],
      "source": [
        "'''\n",
        "ガウス分布に従う確率変数をサンプリングする\n",
        "  @param mean    float     平均 \n",
        "  @param variance float     分散\n",
        "\n",
        "  @return gaussian float     ガウス分布に従う確率変数１つ(isComplex == Frue )\n",
        "  @return gaussian complex ガウス分布に従う確率変数2つ(isComplex == True )\n",
        "'''\n",
        "\n",
        "def gaussianByBoxMuller(\n",
        "    mean = 0.0,\n",
        "    variance = 1.0,\n",
        "    isComplex = False\n",
        ") :\n",
        "  #確率変数x_1, x_2 ~ U(0, 1)\n",
        "  x_1 = random.uniform(0.0, 1.0)\n",
        "  x_2 = random.uniform(0.0, 1.0)\n",
        "\n",
        "  #確率変数x_1, x_2を変換して標準正規分布に従う確率変数y_1, y_2とする\n",
        "  y_1 = math.sqrt(-2.0 * math.log(x_1)) * math.cos(2.0 * math.pi * x_2)\n",
        "  y_2 = math.sqrt(-2.0 * math.log(x_2)) * math.sin(2.0 * math.pi * x_1)\n",
        "\n",
        "  #するとy_1, y_2 ~ N(0, 1)になるので\n",
        "  #G分布が欲しいならy_1 ~ N(0, 1), \n",
        "  #CN分布が欲しいならy = (y_1 + j *  y_2) ~ CN(0, 1)\n",
        "\n",
        "  if isComplex == False :\n",
        "    gaussian = math.sqrt( variance ) * y_1 + mean\n",
        "    return gaussian\n",
        "\n",
        "  else : \n",
        "    gaussianRealPart = math.sqrt( variance ) * y_1 + mean\n",
        "    gaussianImaginaryPart = math.sqrt( variance ) * y_2 + mean\n",
        "\n",
        "    gaussian =  gaussianRealPart + 1j * gaussianImaginaryPart\n",
        "    \n",
        "  return gaussian"
      ]
    },
    {
      "cell_type": "markdown",
      "metadata": {
        "id": "UCLu4pzp068I"
      },
      "source": [
        "### SNRから分散を計算する関数"
      ]
    },
    {
      "cell_type": "markdown",
      "metadata": {
        "id": "NrQyV2Cv1iqN"
      },
      "source": [
        "$$\n",
        "SNR [\\mbox{dB}]  = 10 \\log_{10} \\frac{P_S}{P_N} = 10 \\log_{10} \\frac{1}{ 2 \\sigma^2 }\n",
        "$$\n",
        "より\n",
        "$$\n",
        "\\mbox{分散} \\sigma^2 = \\frac{1}{2} \\cdot 10^{- \\mbox{SNR}/10 }\n",
        "$$"
      ]
    },
    {
      "cell_type": "code",
      "execution_count": null,
      "metadata": {
        "id": "FyBBR5Xu28hz"
      },
      "outputs": [],
      "source": [
        "def calcVarianceFromSNR(\n",
        "    snr\n",
        "):\n",
        "  return 0.5 * math.pow(10.0, - snr / 10.0 )"
      ]
    },
    {
      "cell_type": "markdown",
      "metadata": {
        "id": "lcIbMZgJhwcI"
      },
      "source": [
        "### $\\frac{ E_b }{ N_0 }$から分散を計算する関数\n",
        "\n",
        "$$\n",
        "\\left\\{\n",
        "\\begin{array}{ll}\n",
        "P_S &= \\log_2 M \\times E_b \\\\\n",
        "\\frac{E_b}{N_0} &= 10 \\log_{10} \\Big( \\frac{ E_b }{ 2 \\sigma^2 } \\Big) \n",
        "\\end{array} \n",
        "\\right.\n",
        "$$\n",
        "\n",
        "$$\n",
        "\\therefore \\mbox{分散} \\sigma^2 = \\frac{P_S}{2 \\log_2 M } 10^{\n",
        " - E_b/N_0 \\big/ 10\n",
        "}\n",
        "$$\n"
      ]
    },
    {
      "cell_type": "code",
      "execution_count": null,
      "metadata": {
        "id": "Ogm38OyNkhFe"
      },
      "outputs": [],
      "source": [
        "'''\n",
        "  @param EbN0 float １ビットあたりの電力と雑音の比\n",
        "  @param P_S  float 送信電力\n",
        "  @param Mbit 　int   多値数M[bit] 単位がビットであることに注意\n",
        "'''\n",
        "def calcVarianceFromEbN0(\n",
        "    EbN0,\n",
        "    P_S = 1,\n",
        "    Mbit = 1\n",
        ") :\n",
        "  return (\n",
        "      P_S /\n",
        "      (2.0 * Mbit)\n",
        "  ) * math.pow(10, - EbN0 / 10)"
      ]
    },
    {
      "cell_type": "markdown",
      "metadata": {
        "id": "cftfrRP-6S-L"
      },
      "source": [
        "### PSK 復調\n",
        "ノイズが乗った信号$y$を復調する． \\\\\n",
        "BPSKの場合，$y$がマイナスなら$-1$として送られたと見なし，元のデータを$0$とする． $y$がプラスなら$+1$として送られたと見なし，元のデータを$1$とする． \\\\\n",
        "すなわち\n",
        "$$\n",
        "\\hat{x} = \n",
        "\\left\\{\n",
        "\\begin{array}{ll}\n",
        "0  &  ( \\mbox{if} \\ y \\leq 0 ) \\\\\n",
        "1 & ( \\mbox{otherwise}  )\n",
        "\\end{array} \n",
        "\\right.\n",
        "$$\n",
        "である．\n",
        "\n",
        "\n",
        "QPSKの場合$\\exp\\Big[j \\frac{ (2  x + 1) \\pi } { 4}\\Big]\\ (x = 0, 1, 2, 3)$とノルムが最も近いものを予測結果とする.すなわち，\n",
        "\n",
        "$$\n",
        "\\hat{x} = \\mbox{argmin}_{x \\in \\{ 0, 1, 2, 3 \\} } \\Bigg\\| y - \\exp\\Big[j \\frac{ (2  x + 1) \\pi } { 4}\\Big] \\Bigg\\|\n",
        "$$"
      ]
    },
    {
      "cell_type": "code",
      "execution_count": null,
      "metadata": {
        "id": "dRQZBKgZ9dHl"
      },
      "outputs": [],
      "source": [
        "'''\n",
        "  受け取った信号を復調\n",
        "  @param dataReceived  np 受け取ったデータ\n",
        "  @param decodeMode   str 復調方式\n",
        "  @return dataDecoded  np  データ\n",
        "'''\n",
        "\n",
        "def decode(dataReceived, decodeMode = \"BPSK\"):\n",
        "  if decodeMode == \"BPSK\":\n",
        "    dataDecoded = np.where( dataReceived <= 0, 0, 1 )\n",
        "  \n",
        "  elif decodeMode == \"QPSK\":\n",
        "    simbolList = np.array([0, 1, 2, 3])\n",
        "    \n",
        "    dataDecoded = np.array([\n",
        "        np.argmin(\n",
        "            abs(\n",
        "              data - \n",
        "              np.exp(1j * (2 * simbolList + 1) * math.pi / 4)\n",
        "            )\n",
        "        )\n",
        "        for data in dataReceived\n",
        "    ])\n",
        "\n",
        "  return dataDecoded"
      ]
    },
    {
      "cell_type": "markdown",
      "metadata": {
        "id": "--Z0JZip-hzE"
      },
      "source": [
        "#### 例"
      ]
    },
    {
      "cell_type": "code",
      "execution_count": null,
      "metadata": {
        "colab": {
          "base_uri": "https://localhost:8080/"
        },
        "id": "OkSf7TkM-rOE",
        "outputId": "64e28db4-b475-4bda-a061-9501dbf0c10f"
      },
      "outputs": [
        {
          "name": "stdout",
          "output_type": "stream",
          "text": [
            "元データ\n",
            "[1 2 1 2 0 1 2 1 3 2]\n",
            "QPSK\n",
            "[-0.70710678+0.70710678j -0.70710678-0.70710678j -0.70710678+0.70710678j\n",
            " -0.70710678-0.70710678j  0.70710678+0.70710678j -0.70710678+0.70710678j\n",
            " -0.70710678-0.70710678j -0.70710678+0.70710678j  0.70710678-0.70710678j\n",
            " -0.70710678-0.70710678j]\n",
            "ガウスノイズを乗せたデータ\n",
            "[-1.43499952+0.81968543j -1.43499952-0.59452813j -1.43499952+0.81968543j\n",
            " -1.43499952-0.59452813j -0.02078596+0.81968543j -1.43499952+0.81968543j\n",
            " -1.43499952-0.59452813j -1.43499952+0.81968543j -0.02078596-0.59452813j\n",
            " -1.43499952-0.59452813j]\n",
            "復調した結果\n",
            "[1 2 1 2 1 1 2 1 2 2]\n"
          ]
        }
      ],
      "source": [
        "#QPSK\n",
        "print(\"元データ\")\n",
        "print( dataOriginExample )\n",
        "\n",
        "\n",
        "print(\"QPSK\")\n",
        "print(dataEncodedExample)\n",
        "\n",
        "#ノイズを載せる\n",
        "dataReceivedExample = dataEncodedExample + gaussianByBoxMuller( \n",
        "    mean = 0.0,\n",
        "    variance = 0.4,\n",
        "    isComplex = True )\n",
        "\n",
        "print(\"ガウスノイズを乗せたデータ\")\n",
        "print( dataReceivedExample )\n",
        "\n",
        "#復調\n",
        "dataDecodedExample = decode( dataReceivedExample,  \"QPSK\")\n",
        "\n",
        "print(\"復調した結果\")\n",
        "print( dataDecodedExample )"
      ]
    },
    {
      "cell_type": "markdown",
      "metadata": {
        "id": "scXYHRArPnP6"
      },
      "source": [
        "### QAM 復調\n",
        "16QAMを例に挙げる． \\\\\n",
        "受け取った信号$y$に対して信号候補$s(x) \\in \\mathcal{S}_{16}$と近いものを予測結果$\\hat{x}$とする.すなわち\n",
        "\n",
        "$$\n",
        "\\hat{x} = \\mbox{arg min}_{x \\in \\{ 0,1,...,15\\}}\n",
        "\\Bigg\\| y - s(x) \\Bigg\\|\n",
        "$$"
      ]
    },
    {
      "cell_type": "code",
      "execution_count": null,
      "metadata": {
        "id": "QL1IBwH0RL99"
      },
      "outputs": [],
      "source": [
        "'''\n",
        "  @param dataReceived np   受け取った信号\n",
        "  @param Mbit          int   QAMの多値数[bit] 単位がビットであることに注意\n",
        "  @param P_S          float 平均信号電力\n",
        "\n",
        "  @return dataDecoded np   予測結果 \n",
        "'''\n",
        "def decodeQAM(\n",
        "    dataReceived,\n",
        "    Mbit,\n",
        "    P_S = 1\n",
        ") :\n",
        "#信号点配置の間隔2aの半分a\n",
        "  if Mbit == 4 :\n",
        "    a = P_S / math.sqrt(5)\n",
        "  elif Mbit == 6 :\n",
        "    a = P_S / math.sqrt(21)\n",
        "  elif Mbit == 8 :\n",
        "    a = P_S / math.sqrt(170)\n",
        "\n",
        "  #信号点候補\n",
        "  symbolList = np.array([\n",
        "      a * ( 2 * (symbol >> (Mbit//2)) - (Mbit//2 << 1) + 1 ) + 1j *\n",
        "      a * ( 2 * (symbol & sum( [1 << bit for bit in range (Mbit//2)] ) ) - (Mbit//2 << 1) + 1 )\n",
        "      for symbol in range(1 << Mbit)\n",
        "  ])\n",
        "\n",
        "  #信号予測\n",
        "  dataDecoded = np.array([\n",
        "        np.argmin(\n",
        "            abs(data - symbolList ) \n",
        "        )\n",
        "        for data in dataReceived\n",
        "    ])\n",
        "\n",
        "  return dataDecoded"
      ]
    },
    {
      "cell_type": "markdown",
      "metadata": {
        "id": "sMOuU61SQFFP"
      },
      "source": [
        "### BER計算\n",
        "送信したデータセットと，復調したデータセットの中身のうち正しく予測したものの割合"
      ]
    },
    {
      "cell_type": "code",
      "execution_count": null,
      "metadata": {
        "id": "zNkDLIUJQZmB"
      },
      "outputs": [],
      "source": [
        "'''\n",
        "  BER\n",
        "  @param dataOrigin    np   送信したデータセット\n",
        "  @param dataDecoded np   予測したデータセット\n",
        "  @param nonRated     bool 割合ではなく回数を返すかどうか\n",
        "  @return               float ビット誤り率(BER: Bit Error Rate)\n",
        "'''\n",
        "def calcBER(\n",
        "    dataOrigin,\n",
        "    dataDecoded,\n",
        "    nonRated = False\n",
        ") : \n",
        "  if nonRated == False:\n",
        "    return np.count_nonzero(\n",
        "        dataOrigin != dataDecoded\n",
        "    ) / dataOrigin.size\n",
        "  \n",
        "  else :\n",
        "    return np.count_nonzero(\n",
        "        dataOrigin != dataDecoded\n",
        "    )"
      ]
    },
    {
      "cell_type": "markdown",
      "metadata": {
        "id": "XtvVAE3ZSA6I"
      },
      "source": [
        "### 以上をまとめたSNRに対してBERを計算する関数\n",
        "1. M系列を用いて送信データを作成する\n",
        "2. 送信データを変調し，送信信号を作\n",
        "成する\n",
        "3. 平均 $0$ ，分散 $2σ^2$の白色ガウス雑音(Box-Mullerで\n",
        "作った雑音)を送信信号に加え，受信信号とする\n",
        "4. 受信信号を適当な変換により受信データに復調する\n",
        "5. 受信データと送信データを比較し，ビット誤り率\n",
        "(BER:Bit Error Rate)を算出する"
      ]
    },
    {
      "cell_type": "code",
      "execution_count": null,
      "metadata": {
        "id": "jdNlZ0QaSJa8"
      },
      "outputs": [],
      "source": [
        "'''\n",
        "  @param snr        SNR(信号対雑音電力比) [dB]\n",
        "  @param dataSize  試行回数\n",
        "  @return ber       ビット誤り率(BER: Bit Error Rate)\n",
        "'''\n",
        "def calcBERfromSNR(\n",
        "    snr,\n",
        "    mode,\n",
        "    dataSize = 100000\n",
        ") : \n",
        "  if mode == \"QPSK\":\n",
        "    encodeMode = \"QPSK\"\n",
        "    decodeMode = \"QPSK\"\n",
        "    #M系列で送信データを作成\n",
        "    MLS = createMLS(X = dataSize)\n",
        "    dataOrigin = createData(MLS, bitNum = 2)\n",
        "\n",
        "    #送信データXY( = 00, 01, 10, 11)をQPSKで変調し，送信信号を作成する\n",
        "    dataEncoded = encode(dataOrigin, encodeMode)\n",
        "\n",
        "    #平均０,分散2σ^2 の白色雑音(Box-Mullerで作った雑音)を送信信号に加え，受信信号とする\n",
        "    dataReceived = dataEncoded + [\n",
        "                      gaussianByBoxMuller(mean = 0.0, \n",
        "                                          variance = 1.0 * calcVarianceFromSNR(snr),\n",
        "                                          isComplex = True)\n",
        "                      for _ in range(dataSize)\n",
        "                    ]\n",
        "\n",
        "    #受信信号を00~11の受信データに復調する\n",
        "    dataDecoded = decode(dataReceived, decodeMode)\n",
        "\n",
        "    #受信データと送信データを比較し，ビット誤り率(BER:Bit Error Rate)を算出する\n",
        "    ber = calcBER(dataOrigin, dataDecoded)\n",
        "\n",
        "\n",
        "  if mode == \"BPSK\":\n",
        "    encodeMode = \"BPSK\"\n",
        "    decodeMode = \"BPSK\"\n",
        "    #M系列で送信データを作成\n",
        "    dataOrigin = createMLS(X = dataSize)\n",
        "\n",
        "    #送信データの1を１，0を-1に変調し，送信信号を作成する\n",
        "    dataEncoded = encode(dataOrigin, encodeMode = \"BPSK\")\n",
        "\n",
        "    #平均０,分散2σ^2 の白色雑音(Box-Mullerで作った雑音)を送信信号に加え，受信信号とする\n",
        "    dataReceived = dataEncoded + [\n",
        "                      gaussianByBoxMuller(mean = 0.0, variance = 1.0 * calcVarianceFromSNR(snr) ) \n",
        "                      for _ in range(dataSize)\n",
        "                    ]\n",
        "\n",
        "    #受信信号を0と1の受信データに復調する\n",
        "    dataDecoded = decode(dataReceived, decodeMode = \"BPSK\")\n",
        "\n",
        "    #受信データと送信データを比較し，ビット誤り率(BER:Bit Error Rate)を算出する\n",
        "    ber = calcBER( dataOrigin, dataDecoded)\n",
        "\n",
        "  return ber"
      ]
    },
    {
      "cell_type": "markdown",
      "metadata": {
        "id": "0HKWD411rVHo"
      },
      "source": [
        "### PSK $E_b/N_0$に対してBERを計算する関数\n",
        "1. M系列を用いて送信データを作成する\n",
        "2. 送信データを変調し，送信信号を作成する\n",
        "3. 平均 $0$ ，分散 $2σ^2$の白色ガウス雑音(Box-Mullerで\n",
        "作った雑音)を送信信号に加え，受信信号とする\n",
        "4. 受信信号を適当な変換により受信データに復調する\n",
        "5. 受信データと送信データを比較し，ビット誤り率\n",
        "(BER:Bit Error Rate)を算出する"
      ]
    },
    {
      "cell_type": "code",
      "execution_count": null,
      "metadata": {
        "id": "6qqMkcrjrVHo"
      },
      "outputs": [],
      "source": [
        "'''\n",
        "  @param EbN0     1ビットあたりの電力と雑音の比 [dB]\n",
        "  @param dataSize  試行回数\n",
        "  @return ber       ビット誤り率(BER: Bit Error Rate)\n",
        "'''\n",
        "def calcBERfromEbN0(\n",
        "    EbN0,\n",
        "    mode,\n",
        "    dataSize = 100000\n",
        ") : \n",
        "  if mode == \"QPSK\":\n",
        "    encodeMode = \"QPSK\"\n",
        "    decodeMode = \"QPSK\"\n",
        "    #M系列で送信データを作成\n",
        "    MLS = createMLS(X = dataSize)\n",
        "    dataOrigin = createData(MLS, bitNum = 2)\n",
        "\n",
        "    #送信データXY( = 00, 01, 10, 11)をQPSKで変調し，送信信号を作成する\n",
        "    dataEncoded = encode(dataOrigin, encodeMode)\n",
        "\n",
        "    #平均０,分散2σ^2 の白色雑音(Box-Mullerで作った雑音)を送信信号に加え，受信信号とする\n",
        "    dataReceived = dataEncoded + [\n",
        "                      gaussianByBoxMuller(mean = 0.0, \n",
        "                                          variance = 1.0 * calcVarianceFromEbN0( EbN0 , Mbit = 2),\n",
        "                                          isComplex = True)\n",
        "                      for _ in range(dataSize)\n",
        "                    ]\n",
        "\n",
        "    #受信信号を00~11の受信データに復調する\n",
        "    dataDecoded = decode(dataReceived, decodeMode)\n",
        "\n",
        "    #受信データと送信データを比較し，ビット誤り率(BER:Bit Error Rate)を算出する\n",
        "    ber = calcBER(dataOrigin, dataDecoded)\n",
        "\n",
        "\n",
        "  if mode == \"BPSK\":\n",
        "    encodeMode = \"BPSK\"\n",
        "    decodeMode = \"BPSK\"\n",
        "    #M系列で送信データを作成\n",
        "    dataOrigin = createMLS(X = dataSize)\n",
        "\n",
        "    #送信データの1を１，0を-1に変調し，送信信号を作成する\n",
        "    dataEncoded = encode(dataOrigin, encodeMode = \"BPSK\")\n",
        "\n",
        "    #平均０,分散2σ^2 の白色雑音(Box-Mullerで作った雑音)を送信信号に加え，受信信号とする\n",
        "    dataReceived = dataEncoded + [\n",
        "                      gaussianByBoxMuller(mean = 0.0, variance = 1.0 * calcVarianceFromEbN0( EbN0 , Mbit = 1) ) \n",
        "                      for _ in range(dataSize)\n",
        "                    ]\n",
        "\n",
        "    #受信信号を0と1の受信データに復調する\n",
        "    dataDecoded = decode(dataReceived, decodeMode = \"BPSK\")\n",
        "\n",
        "    #受信データと送信データを比較し，ビット誤り率(BER:Bit Error Rate)を算出する\n",
        "    ber = calcBER( dataOrigin, dataDecoded)\n",
        "\n",
        "  return ber"
      ]
    },
    {
      "cell_type": "code",
      "execution_count": null,
      "metadata": {
        "id": "4_QgCUlVYQeM"
      },
      "outputs": [],
      "source": [
        "'''\n",
        "  @param EbN0     1ビットあたりの電力と雑音の比 [dB]\n",
        "  @param dataSize  試行回数\n",
        "  @return ber       ビット誤り率(BER: Bit Error Rate)\n",
        "'''\n",
        "def calcBERfromEbN0(\n",
        "    EbN0,\n",
        "    mode,\n",
        "    dataSize = 100000\n",
        ") : \n",
        "  if mode == \"QPSK\":\n",
        "    encodeMode = \"QPSK\"\n",
        "    decodeMode = \"QPSK\"\n",
        "    #M系列で送信データを作成\n",
        "    MLS = createMLS(X = dataSize)\n",
        "    dataOrigin = createData(MLS, bitNum = 2)\n",
        "\n",
        "    #送信データXY( = 00, 01, 10, 11)をQPSKで変調し，送信信号を作成する\n",
        "    dataEncoded = encode(dataOrigin, encodeMode)\n",
        "\n",
        "    #平均０,分散2σ^2 の白色雑音(Box-Mullerで作った雑音)を送信信号に加え，受信信号とする\n",
        "    dataReceived = dataEncoded + [\n",
        "                      gaussianByBoxMuller(mean = 0.0, \n",
        "                                          variance = 1.0 * calcVarianceFromEbN0( EbN0 , Mbit = 2),\n",
        "                                          isComplex = True)\n",
        "                      for _ in range(dataSize)\n",
        "                    ]\n",
        "\n",
        "    #受信信号を00~11の受信データに復調する\n",
        "    dataDecoded = decode(dataReceived, decodeMode)\n",
        "\n",
        "    #受信データと送信データを比較し，ビット誤り率(BER:Bit Error Rate)を算出する\n",
        "    ber = calcBER(dataOrigin, dataDecoded)\n",
        "\n",
        "\n",
        "  if mode == \"BPSK\":\n",
        "    encodeMode = \"BPSK\"\n",
        "    decodeMode = \"BPSK\"\n",
        "    #M系列で送信データを作成\n",
        "    dataOrigin = createMLS(X = dataSize)\n",
        "\n",
        "    #送信データの1を１，0を-1に変調し，送信信号を作成する\n",
        "    dataEncoded = encode(dataOrigin, encodeMode = \"BPSK\")\n",
        "\n",
        "    #平均０,分散2σ^2 の白色雑音(Box-Mullerで作った雑音)を送信信号に加え，受信信号とする\n",
        "    dataReceived = dataEncoded + [\n",
        "                      gaussianByBoxMuller(mean = 0.0, variance = 1.0 * calcVarianceFromEbN0( EbN0 , Mbit = 1) ) \n",
        "                      for _ in range(dataSize)\n",
        "                    ]\n",
        "\n",
        "    #受信信号を0と1の受信データに復調する\n",
        "    dataDecoded = decode(dataReceived, decodeMode = \"BPSK\")\n",
        "\n",
        "    #受信データと送信データを比較し，ビット誤り率(BER:Bit Error Rate)を算出する\n",
        "    ber = calcBER( dataOrigin, dataDecoded)\n",
        "\n",
        "  return ber"
      ]
    },
    {
      "cell_type": "markdown",
      "metadata": {
        "id": "4J19CeHyYi1q"
      },
      "source": [
        "### QAM $E_b/N_0$に対してBERを計算する関数"
      ]
    },
    {
      "cell_type": "code",
      "execution_count": null,
      "metadata": {
        "id": "q-RfdK1zYi1q"
      },
      "outputs": [],
      "source": [
        "'''\n",
        "  @param EbN0     1ビットあたりの電力と雑音の比 [dB]\n",
        "  @param Mbit      多値数[bit] 単位がビットであることに注意\n",
        "  @param dataSize  試行回数\n",
        "  @return ber       ビット誤り率(BER: Bit Error Rate)\n",
        "'''\n",
        "def calcBERfromEbN0ByQAM(\n",
        "    EbN0,\n",
        "    Mbit,\n",
        "    dataSize = 100000,\n",
        "    debugMode = False\n",
        ") : \n",
        "  #M系列で送信データを作成\n",
        "  MLS = createMLS(X = dataSize)\n",
        "  dataOrigin = createData(MLS, bitNum = Mbit)\n",
        "\n",
        "  #送信データをQPSKで変調し，送信信号を作成する\n",
        "  dataEncoded = encodeQAM(dataOrigin, Mbit)\n",
        "\n",
        "  #平均０,分散2σ^2 の白色雑音(Box-Mullerで作った雑音)を送信信号に加え，受信信号とする\n",
        "  dataReceived = dataEncoded + [\n",
        "                    gaussianByBoxMuller(mean = 0.0, \n",
        "                                        variance = 1.0 * calcVarianceFromEbN0( EbN0, Mbit ),\n",
        "                                        isComplex = True)\n",
        "                    for _ in range(dataSize)\n",
        "                  ]\n",
        "\n",
        "  #受信信号を復調する\n",
        "  dataDecoded = decodeQAM(dataReceived, Mbit)\n",
        "\n",
        "  #受信データと送信データを比較し，ビット誤り率(BER:Bit Error Rate)を算出する\n",
        "  ber = calcBER(dataOrigin, dataDecoded, debugMode)\n",
        "\n",
        "  return ber"
      ]
    },
    {
      "cell_type": "markdown",
      "metadata": {
        "id": "2G8yBgYUQKAx"
      },
      "source": [
        "## 1 Simulation of PQSK"
      ]
    },
    {
      "cell_type": "markdown",
      "metadata": {
        "id": "zWAJk0MIRWBW"
      },
      "source": [
        "### パラメータ"
      ]
    },
    {
      "cell_type": "code",
      "execution_count": 49,
      "metadata": {
        "id": "qYOY15lMbBr2"
      },
      "outputs": [],
      "source": [
        "#試行回数\n",
        "X = 1000000\n",
        "\n",
        "#SNR 0 ~ 10[dB]\n",
        "SNR_MIN = 0\n",
        "SNR_MAX = 10\n",
        "\n"
      ]
    },
    {
      "cell_type": "code",
      "execution_count": 50,
      "metadata": {
        "id": "c_OruVKpbcJC"
      },
      "outputs": [],
      "source": [
        "#定義域(SNR)\n",
        "N = (SNR_MAX - SNR_MIN) * 10\n",
        "SNR = np.linspace(SNR_MIN, SNR_MAX, N)\n"
      ]
    },
    {
      "cell_type": "markdown",
      "metadata": {
        "id": "f1aa6GGGmW1Z"
      },
      "source": [
        "### 1.1 SNR\n",
        "横軸 SNR:0∼10 [dB]，縦軸 BER(対数表示 %e)のグラフを描く."
      ]
    },
    {
      "cell_type": "markdown",
      "metadata": {
        "id": "q116CI2xp9u1"
      },
      "source": [
        "#### 実行結果"
      ]
    },
    {
      "cell_type": "code",
      "execution_count": 51,
      "metadata": {
        "id": "0125Oj-qmWIr"
      },
      "outputs": [],
      "source": [
        "#値域(BER)\n",
        "BER_QPSK_SNR = [ calcBERfromSNR(\n",
        "    snr = SNR[n],\n",
        "    mode = \"QPSK\",\n",
        "    dataSize = X\n",
        "    ) \n",
        "for n in range (N) ]\n",
        "\n",
        "np.savetxt('BER_QPSK_SNR.csv', BER_QPSK_SNR)"
      ]
    },
    {
      "cell_type": "code",
      "execution_count": 53,
      "metadata": {
        "colab": {
          "base_uri": "https://localhost:8080/",
          "height": 279
        },
        "id": "EzoEoCahY-nE",
        "outputId": "4a932283-1327-4ae3-a1b9-d3a248b1bf9f"
      },
      "outputs": [
        {
          "output_type": "display_data",
          "data": {
            "text/plain": [
              "<Figure size 432x288 with 1 Axes>"
            ],
            "image/png": "[encoded data removed]"
          },
          "metadata": {
            "needs_background": "light"
          }
        }
      ],
      "source": [
        "plt.plot(\n",
        "    SNR,\n",
        "    np.loadtxt('BER_QPSK_SNR.csv', delimiter = ','),\n",
        "    label = \"QPSK\"\n",
        ")\n",
        "\n",
        "\n",
        "plt.yscale('log')\n",
        "\n",
        "plt.xlabel(\"SNR[dB]\")\n",
        "plt.ylabel(\"BER\")\n",
        "\n",
        "plt.legend()\n",
        "\n",
        "plt.savefig(\"BER_SNR_QPSK.png\")\n",
        "\n",
        "plt.show()"
      ]
    },
    {
      "cell_type": "markdown",
      "metadata": {
        "id": "NrKE4DZEqmVa"
      },
      "source": [
        "### 1.2 $E_b/N_0$\n",
        "横軸 Eb/N0:0∼10 [dB]，縦軸 BER(%e)のグラフを描く."
      ]
    },
    {
      "cell_type": "code",
      "execution_count": 60,
      "metadata": {
        "id": "UdBd51IYsaQg"
      },
      "outputs": [],
      "source": [
        "#試行回数\n",
        "X = 1000000\n",
        "\n",
        "#EbN0 0 ~ 10[dB]\n",
        "EbN0_MIN = 0\n",
        "EbN0_MAX = 30"
      ]
    },
    {
      "cell_type": "code",
      "execution_count": 57,
      "metadata": {
        "id": "scnYIDKwseBZ"
      },
      "outputs": [],
      "source": [
        "#定義域(EbN0)\n",
        "N = (EbN0_MAX - EbN0_MIN) * 10\n",
        "EbN0 = np.linspace(EbN0_MIN, EbN0_MAX, N)\n"
      ]
    },
    {
      "cell_type": "markdown",
      "metadata": {
        "id": "lhJFH1flrChg"
      },
      "source": [
        "#### 実行結果"
      ]
    },
    {
      "cell_type": "code",
      "execution_count": 61,
      "metadata": {
        "id": "Thnwxn36rF6v"
      },
      "outputs": [],
      "source": [
        "BER_QPSK_EbN0 = [\n",
        "    calcBERfromEbN0(\n",
        "        EbN0 = EbN0[n],\n",
        "        mode = \"QPSK\",\n",
        "        dataSize = X\n",
        "    )\n",
        "    for n in range(N)\n",
        "]\n",
        "\n",
        "np.savetxt('BER_QPSK_EbN0.csv', BER_QPSK_EbN0)"
      ]
    },
    {
      "cell_type": "code",
      "execution_count": 62,
      "metadata": {
        "colab": {
          "base_uri": "https://localhost:8080/",
          "height": 289
        },
        "id": "jcsbQ04esrIp",
        "outputId": "63c2a4de-0b27-463f-83eb-9a48e4c3daea"
      },
      "outputs": [
        {
          "output_type": "display_data",
          "data": {
            "text/plain": [
              "<Figure size 432x288 with 1 Axes>"
            ],
            "image/png": "[encoded data removed]"
          },
          "metadata": {
            "needs_background": "light"
          }
        }
      ],
      "source": [
        "plt.plot(\n",
        "    EbN0,\n",
        "    np.loadtxt('BER_QPSK_EbN0.csv', \n",
        "                                delimiter = ','),\n",
        "    label = \"QPSK\"\n",
        ")\n",
        "\n",
        "\n",
        "plt.yscale('log')\n",
        "\n",
        "plt.xlim( 0, 30 )\n",
        "plt.ylim( 10 ** (-4), 1 )\n",
        "\n",
        "plt.xlabel(\"$E_b/N_0$[dB]\")\n",
        "plt.ylabel(\"BER\")\n",
        "\n",
        "plt.legend()\n",
        "\n",
        "plt.savefig(\"BER_QPSK_EbN0.png\")\n",
        "\n",
        "\n",
        "plt.show()"
      ]
    },
    {
      "cell_type": "markdown",
      "metadata": {
        "id": "xr17OmcEaEkh"
      },
      "source": [
        "## 2 M-QAM"
      ]
    },
    {
      "cell_type": "markdown",
      "metadata": {
        "id": "nBIeFrCfabSk"
      },
      "source": [
        "### パラメータ"
      ]
    },
    {
      "cell_type": "code",
      "execution_count": null,
      "metadata": {
        "id": "doXvlWIRabSk"
      },
      "outputs": [],
      "source": [
        "#試行回数\n",
        "X = 1000000\n",
        "\n",
        "#EbN0 0 ~ 10[dB]\n",
        "EbN0_MIN = 0\n",
        "EbN0_MAX = 30"
      ]
    },
    {
      "cell_type": "code",
      "execution_count": null,
      "metadata": {
        "id": "wgnFcDPWabSk"
      },
      "outputs": [],
      "source": [
        "#定義域(EbN0)\n",
        "N = (EbN0_MAX - EbN0_MIN) * 10\n",
        "EbN0 = np.linspace(EbN0_MIN, EbN0_MAX, N)\n"
      ]
    },
    {
      "cell_type": "markdown",
      "metadata": {
        "id": "xeU3ceh3ahPd"
      },
      "source": [
        "### 実行"
      ]
    },
    {
      "cell_type": "code",
      "execution_count": null,
      "metadata": {
        "id": "X_FgdXzlfIaP"
      },
      "outputs": [],
      "source": [
        "#16QAM\n",
        "BER_16QAM_EbN0 = [\n",
        "    calcBERfromEbN0ByQAM(\n",
        "        EbN0 = EbN0[n],\n",
        "        Mbit = 4,\n",
        "        dataSize = X,\n",
        "    )\n",
        "    for n in range(N)\n",
        "]\n",
        "\n",
        "np.savetxt('BER_16QAM_EbN0.csv', BER_16QAM_EbN0)"
      ]
    },
    {
      "cell_type": "code",
      "execution_count": null,
      "metadata": {
        "colab": {
          "base_uri": "https://localhost:8080/",
          "height": 289
        },
        "id": "fTQj1weYfaab",
        "outputId": "426fc6b2-9373-43b2-8637-b6ed317cdfdc"
      },
      "outputs": [
        {
          "data": {
            "image/png": "[encoded data removed]",
            "text/plain": [
              "<Figure size 432x288 with 1 Axes>"
            ]
          },
          "metadata": {},
          "output_type": "display_data"
        }
      ],
      "source": [
        "#16QAMの実行結果\n",
        "plt.plot(\n",
        "    EbN0,\n",
        "    np.loadtxt('BER_16QAM_EbN0.csv', \n",
        "                                delimiter = ','),\n",
        "    label = \"16QAM\"\n",
        ")\n",
        "\n",
        "plt.yscale('log')\n",
        "\n",
        "plt.xlim( 0, 30 )\n",
        "plt.ylim( 10 ** (-4), 1 )\n",
        "\n",
        "plt.xlabel(\"$E_b/N_0$[dB]\")\n",
        "plt.ylabel(\"BER\")\n",
        "\n",
        "plt.legend()\n",
        "\n",
        "plt.savefig(\"16QAM_BER_EbN0.png\")\n",
        "\n",
        "plt.show()"
      ]
    },
    {
      "cell_type": "code",
      "execution_count": null,
      "metadata": {
        "id": "OOYbxirsfNkS"
      },
      "outputs": [],
      "source": [
        "#64QAM\n",
        "\n",
        "#時間がかかるので0~30[dB]のEbN0を0~10, 10~20, 20~30に分けて実行する\n",
        "\n",
        "#0~10[dB]\n",
        "BER_64QAM_EbN0_01 = [\n",
        "    calcBERfromEbN0ByQAM(\n",
        "        EbN0 = EbN0[n],\n",
        "        Mbit = 6,\n",
        "        dataSize = X\n",
        "    )\n",
        "    for n in range(0, N // 3)\n",
        "]\n",
        "\n",
        "np.savetxt('BER_64QAM_EbN0_01.csv', BER_64QAM_EbN0_01)"
      ]
    },
    {
      "cell_type": "code",
      "execution_count": null,
      "metadata": {
        "colab": {
          "background_save": true
        },
        "id": "t03pjL3oYQ4W"
      },
      "outputs": [],
      "source": [
        "#10~20[dB]\n",
        "BER_64QAM_EbN0_02 = [\n",
        "    calcBERfromEbN0ByQAM(\n",
        "        EbN0 = EbN0[n],\n",
        "        Mbit = 6,\n",
        "        dataSize = X\n",
        "    )\n",
        "    for n in range(N // 3, (2 * N) // 3)\n",
        "]\n",
        "\n",
        "np.savetxt('BER_64QAM_EbN0_02.csv', BER_64QAM_EbN0_02)"
      ]
    },
    {
      "cell_type": "code",
      "execution_count": 35,
      "metadata": {
        "id": "m9fPWmv_YVY_"
      },
      "outputs": [],
      "source": [
        "#20~30[dB]\n",
        "BER_64QAM_EbN0_03 = [\n",
        "    calcBERfromEbN0ByQAM(\n",
        "        EbN0 = EbN0[n],\n",
        "        Mbit = 6,\n",
        "        dataSize = X\n",
        "    )\n",
        "    for n in range((2 * N) // 3, N)\n",
        "]\n",
        "\n",
        "np.savetxt('BER_64QAM_EbN0_03.csv', BER_64QAM_EbN0_03)"
      ]
    },
    {
      "cell_type": "code",
      "execution_count": 38,
      "metadata": {
        "id": "JHETOsJeYesg"
      },
      "outputs": [],
      "source": [
        "#結合\n",
        "BER_64QAM_EbN0_01_ = np.loadtxt('BER_64QAM_EbN0_01.csv', delimiter = ',')\n",
        "BER_64QAM_EbN0_02_ = np.loadtxt('BER_64QAM_EbN0_02.csv', delimiter = ',')\n",
        "BER_64QAM_EbN0_03_ = np.loadtxt('BER_64QAM_EbN0_03.csv', delimiter = ',')\n",
        "\n",
        "BER_64QAM_EbN0 = np.concatenate(\n",
        "    (\n",
        "    BER_64QAM_EbN0_01_,\n",
        "    BER_64QAM_EbN0_02_,\n",
        "    BER_64QAM_EbN0_03_\n",
        "     )\n",
        ")"
      ]
    },
    {
      "cell_type": "code",
      "execution_count": 39,
      "metadata": {
        "colab": {
          "base_uri": "https://localhost:8080/",
          "height": 289
        },
        "id": "xMiGrOWOiFHB",
        "outputId": "292d3191-d0a1-47cb-a486-9e3b40190d07"
      },
      "outputs": [
        {
          "output_type": "display_data",
          "data": {
            "text/plain": [
              "<Figure size 432x288 with 1 Axes>"
            ],
            "image/png": "[encoded data removed]"
          },
          "metadata": {
            "needs_background": "light"
          }
        }
      ],
      "source": [
        "#64QAMの実行結果\n",
        "plt.plot(\n",
        "    EbN0,\n",
        "    BER_64QAM_EbN0,\n",
        "    label = \"64QAM\"\n",
        ")\n",
        "\n",
        "\n",
        "plt.xlim( 0, 30 )\n",
        "plt.ylim( 10 ** (-4), 1 )\n",
        "\n",
        "plt.yscale('log')\n",
        "\n",
        "plt.xlabel(\"$E_b/N_0$[dB]\")\n",
        "plt.ylabel(\"BER\")\n",
        "\n",
        "plt.legend()\n",
        "\n",
        "plt.savefig(\"64QAM_BER_EbN0.png\")\n",
        "\n",
        "plt.show()"
      ]
    },
    {
      "cell_type": "code",
      "execution_count": 41,
      "metadata": {
        "id": "zDCuGXuHfT6Q"
      },
      "outputs": [],
      "source": [
        "#256QAM\n",
        "\n",
        "#時間がかかるので0~30[dB]のEbN0を0~10, 10~20, 20~30に分けて実行する\n",
        "\n",
        "#0~10[dB]\n",
        "BER_256QAM_EbN0_01 = [\n",
        "    calcBERfromEbN0ByQAM(\n",
        "        EbN0 = EbN0[n],\n",
        "        Mbit = 8,\n",
        "        dataSize = X\n",
        "    )\n",
        "    for n in range(0, N // 3)\n",
        "]\n",
        "\n",
        "np.savetxt('BER_256QAM_EbN0_01.csv', BER_256QAM_EbN0_01)"
      ]
    },
    {
      "cell_type": "code",
      "source": [
        "#10~20[dB]\n",
        "BER_256QAM_EbN0_02 = [\n",
        "    calcBERfromEbN0ByQAM(\n",
        "        EbN0 = EbN0[n],\n",
        "        Mbit = 8,\n",
        "        dataSize = X\n",
        "    )\n",
        "    for n in range(N // 3, (N * 2) // 3)\n",
        "]\n",
        "\n",
        "np.savetxt('BER_256QAM_EbN0_02.csv', BER_256QAM_EbN0_02)"
      ],
      "metadata": {
        "id": "Gq-nxNuHas1J"
      },
      "execution_count": 43,
      "outputs": []
    },
    {
      "cell_type": "code",
      "source": [
        "#20~30[dB]\n",
        "BER_256QAM_EbN0_03 = [\n",
        "    calcBERfromEbN0ByQAM(\n",
        "        EbN0 = EbN0[n],\n",
        "        Mbit = 8,\n",
        "        dataSize = X\n",
        "    )\n",
        "    for n in range( (2 * N) // 3, N)\n",
        "]\n",
        "\n",
        "np.savetxt('BER_256QAM_EbN0_03.csv', BER_256QAM_EbN0_03)"
      ],
      "metadata": {
        "id": "zUbmBZBPa4ne"
      },
      "execution_count": 44,
      "outputs": []
    },
    {
      "cell_type": "code",
      "source": [
        "#結合\n",
        "BER_256QAM_EbN0_01_ = np.loadtxt('BER_256QAM_EbN0_01.csv', delimiter = ',')\n",
        "BER_256QAM_EbN0_02_ = np.loadtxt('BER_256QAM_EbN0_02.csv', delimiter = ',')\n",
        "BER_256QAM_EbN0_03_ = np.loadtxt('BER_256QAM_EbN0_03.csv', delimiter = ',')\n",
        "\n",
        "BER_256QAM_EbN0 = np.concatenate(\n",
        "    (\n",
        "    BER_256QAM_EbN0_01_,\n",
        "    BER_256QAM_EbN0_02_,\n",
        "    BER_256QAM_EbN0_03_\n",
        "     )\n",
        ")"
      ],
      "metadata": {
        "id": "OzeHrWeqbCBG"
      },
      "execution_count": 45,
      "outputs": []
    },
    {
      "cell_type": "code",
      "execution_count": 46,
      "metadata": {
        "colab": {
          "base_uri": "https://localhost:8080/",
          "height": 289
        },
        "id": "zVt20hYyaiia",
        "outputId": "61f54846-2835-4a66-a9f1-cae9aaeca45b"
      },
      "outputs": [
        {
          "output_type": "display_data",
          "data": {
            "text/plain": [
              "<Figure size 432x288 with 1 Axes>"
            ],
            "image/png": "[encoded data removed]"
          },
          "metadata": {
            "needs_background": "light"
          }
        }
      ],
      "source": [
        "#256QAMの実行結果\n",
        "plt.plot(\n",
        "    EbN0,\n",
        "    BER_256QAM_EbN0,\n",
        "    label = \"256QAM\"\n",
        ")\n",
        "\n",
        "\n",
        "plt.xlim( 0, 30 )\n",
        "plt.ylim( 10 ** (-4), 1 )\n",
        "\n",
        "plt.yscale('log')\n",
        "\n",
        "plt.xlabel(\"$E_b/N_0$[dB]\")\n",
        "plt.ylabel(\"BER\")\n",
        "\n",
        "plt.legend()\n",
        "\n",
        "plt.savefig(\"256QAM_BER_EbN0.png\")\n",
        "\n",
        "plt.show()"
      ]
    },
    {
      "cell_type": "code",
      "execution_count": 47,
      "metadata": {
        "colab": {
          "base_uri": "https://localhost:8080/",
          "height": 289
        },
        "id": "pyK7d1DsiZcw",
        "outputId": "39ce1102-c249-4292-bfd1-641b6270144f"
      },
      "outputs": [
        {
          "output_type": "display_data",
          "data": {
            "text/plain": [
              "<Figure size 432x288 with 1 Axes>"
            ],
            "image/png": "[encoded data removed]"
          },
          "metadata": {
            "needs_background": "light"
          }
        }
      ],
      "source": [
        "#16QAM, 64QAM, 256QAMのBER-Eb/N0グラフ\n",
        "\n",
        "plt.plot(\n",
        "    EbN0,\n",
        "    BER_16QAM_EbN0,\n",
        "    label = \"16QAM\"\n",
        ")\n",
        "\n",
        "plt.plot(\n",
        "    EbN0,\n",
        "    BER_64QAM_EbN0,\n",
        "    label = \"64QAM\"\n",
        ")\n",
        "\n",
        "plt.plot(\n",
        "    EbN0,\n",
        "    BER_256QAM_EbN0,\n",
        "    label = \"256QAM\"\n",
        ")\n",
        "\n",
        "\n",
        "plt.xlim( 0, 30 )\n",
        "plt.ylim( 10 ** (-4), 1 )\n",
        "\n",
        "\n",
        "plt.yscale('log')\n",
        "\n",
        "plt.xlabel(\"$E_b/N_0$[dB]\")\n",
        "plt.ylabel(\"BER\")\n",
        "\n",
        "plt.legend()\n",
        "\n",
        "plt.savefig(\"MQAM_BER_EbN0.png\")\n",
        "\n",
        "plt.show()"
      ]
    }
  ],
  "metadata": {
    "colab": {
      "collapsed_sections": [
        "x21O5GLz-gH2"
      ],
      "name": "3 QPSK QAM.ipynb",
      "provenance": []
    },
    "kernelspec": {
      "display_name": "Python 3",
      "name": "python3"
    },
    "language_info": {
      "name": "python"
    },
    "gpuClass": "standard"
  },
  "nbformat": 4,
  "nbformat_minor": 0
}