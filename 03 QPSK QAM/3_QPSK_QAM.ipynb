{
  "cells": [
    {
      "cell_type": "markdown",
      "metadata": {
        "id": "76HZHMZjehjx"
      },
      "source": [
        "# 3 QPSK QAM"
      ]
    },
    {
      "cell_type": "code",
      "source": [
        "from google.colab import drive\n",
        "drive.mount('/content/drive')"
      ],
      "metadata": {
        "colab": {
          "base_uri": "https://localhost:8080/"
        },
        "id": "HqCs49ybJx7p",
        "outputId": "8bfcd58e-e3a4-446b-9c12-7d4928b5087b"
      },
      "execution_count": null,
      "outputs": [
        {
          "output_type": "stream",
          "name": "stdout",
          "text": [
            "Mounted at /content/drive\n"
          ]
        }
      ]
    },
    {
      "cell_type": "code",
      "source": [
        "path = \"/content/drive/My Drive/Colab Notebooks\""
      ],
      "metadata": {
        "id": "XA8bue5mJ8lR"
      },
      "execution_count": null,
      "outputs": []
    },
    {
      "cell_type": "markdown",
      "metadata": {
        "id": "PFBpf-Ezehjx"
      },
      "source": [
        "## Pythonのバージョン確認と，必要なライブラリをインポートする．"
      ]
    },
    {
      "cell_type": "code",
      "execution_count": null,
      "metadata": {
        "colab": {
          "base_uri": "https://localhost:8080/"
        },
        "id": "c_8vCj-kCn2s",
        "outputId": "164229e8-e743-44f3-e19a-4ce443bcd0e4"
      },
      "outputs": [
        {
          "output_type": "stream",
          "name": "stdout",
          "text": [
            "Python 3.7.14\n"
          ]
        }
      ],
      "source": [
        "!python3 --version\n",
        "\n",
        "import random"
      ]
    },
    {
      "cell_type": "code",
      "execution_count": null,
      "metadata": {
        "id": "WQOQ-43civq5"
      },
      "outputs": [],
      "source": [
        "import matplotlib as makeMSL\n",
        "import matplotlib.pyplot as plt\n",
        "import numpy as np\n",
        "import math"
      ]
    },
    {
      "cell_type": "markdown",
      "metadata": {
        "id": "l8KQMf29fkVg"
      },
      "source": [
        "以下は$\\mbox{erfc}$関数を読み込むためのライブラリ"
      ]
    },
    {
      "cell_type": "code",
      "execution_count": null,
      "metadata": {
        "id": "FHNNDNTAfarX"
      },
      "outputs": [],
      "source": [
        "from scipy import special\n",
        "from scipy.linalg import sqrtm"
      ]
    },
    {
      "cell_type": "markdown",
      "source": [
        "## 通信モデルに基づいたシミュレーション用のモジュール"
      ],
      "metadata": {
        "id": "GCL330XtCyhW"
      }
    },
    {
      "cell_type": "markdown",
      "source": [
        "*  情報源\n",
        "*  情報源符号器\n",
        "*  通信路符号器\n",
        "*  通信路\n",
        "*  白色ガウス雑音\n",
        "*  通信路複復号器\n",
        "*  情報源復号器"
      ],
      "metadata": {
        "id": "AMDdNHytC71f"
      }
    },
    {
      "cell_type": "markdown",
      "source": [
        "### 情報源\n",
        "numpy.randomでも代用可"
      ],
      "metadata": {
        "id": "weIIPCeNt9Hk"
      }
    },
    {
      "cell_type": "code",
      "source": [
        "'''\n",
        "情報源クラス\n",
        "'''\n",
        "class InformationSource:\n",
        "  def __init__(self,\n",
        "                 N = 9,   #次数\n",
        "                 a = 4, b = 9 #帰還タップ\n",
        "                 ):\n",
        "    self.N = N\n",
        "    self.a = a\n",
        "    self.b = b\n",
        "\n",
        "  \n",
        "  '''\n",
        "  乱数(M系列)を発生させる\n",
        "  @param informationSize int             発生させる乱数の個数\n",
        "  @return information     numpy.ndarray 乱数\n",
        "  '''\n",
        "  def outputInformation(self, informationSize):\n",
        "    information = np.empty(informationSize, dtype = int)\n",
        "\n",
        "    for i in range(informationSize):\n",
        "      if i < self.N :\n",
        "        information[i] = random.randrange(2)\n",
        "      else :\n",
        "        information[i] = information[i - self.a] ^ information[i - self.b]\n",
        "\n",
        "    return information"
      ],
      "metadata": {
        "id": "aWzPKbUUt8SH"
      },
      "execution_count": null,
      "outputs": []
    },
    {
      "cell_type": "markdown",
      "source": [
        "### 情報源符号器"
      ],
      "metadata": {
        "id": "BdzINIyq3JMC"
      }
    },
    {
      "cell_type": "code",
      "source": [
        "'''\n",
        "情報源符号器\n",
        "'''\n",
        "class Encoder:\n",
        "  '''\n",
        "  @param M int 符号のビット数\n",
        "  '''\n",
        "  def __init__(self,\n",
        "               M #符号のビット数\n",
        "               ) :\n",
        "    self.M = M\n",
        "\n",
        "    #２進数のマスク\n",
        "    self.mask = np.array([1 << bit for bit in range(M)])\n",
        "  \n",
        "  '''\n",
        "  0/1乱数をM[bit]の符号にする\n",
        "  @param information numpy.ndarray 0/1の乱数(情報)\n",
        "  @return data        numpy.ndarray 符号\n",
        "  '''\n",
        "  def encode(self,\n",
        "             information):\n",
        "    information2 = np.concatenate([information, information])\n",
        "\n",
        "    data = np.array([\n",
        "        self.mask @ information2[i: i + self.M] \n",
        "        for i in range(information.size)\n",
        "    ])\n",
        "    data = np.reshape(data, (1, data.size))\n",
        "\n",
        "    return data\n",
        "\n",
        "    return np.array([\n",
        "        np.array([self.mask @ information2[i: i + self.M] ])\n",
        "        for i in range(information.size)\n",
        "    ])\n",
        "    \n",
        "    '''\n",
        "    return np.array([\n",
        "        self.mask @ information2[i: i + self.M]\n",
        "        for i in range(information.size)\n",
        "    ])\n",
        "    '''"
      ],
      "metadata": {
        "id": "YHgrrmSw3NLE"
      },
      "execution_count": null,
      "outputs": []
    },
    {
      "cell_type": "markdown",
      "source": [
        "### 通信路符号器"
      ],
      "metadata": {
        "id": "t3Cb1L_0Gmdw"
      }
    },
    {
      "cell_type": "markdown",
      "source": [
        "Mは単位が[bit]とする\n",
        "**MPSKのとき**$$\\mathbb{Z} \\mapsto \\mathbb{C}:x\\mapsto \\sqrt{P_s} \\cdot  \\exp\\Big(j\\frac{2\\pi}{2^M}x\\Big)$$  <br>\n",
        "\n",
        "**MQAMのとき**<br>データ$x$を上位ビット$x^U$，下位ビット$x^L$に分けて\n",
        "$$\n",
        "f:\\times2d - (2^{M/2} - 1)d\n",
        "$$\n",
        "を作用させてそれぞれ複素信号$s$の実部$s^I$と虚部$s^Q$とする． <br>\n",
        "ただし$2d$は信号点間隔であり，電力$\\mathbb{E}\\big[|s|^2\\big]$を$P_S$に固定するとき\n",
        "$$\n",
        "P_S = \n",
        "\\frac{1}{2^M} \\cdot\n",
        "\\sum_{x \\in \\{0, 1, \\cdots 2^M - 1\\} }\n",
        "  \\Bigg\\| f(x^U) + jf(x^L) \\Bigg\\|^2\n",
        "$$\n",
        "\n",
        "より$d$は以下のように確定する.\n",
        "\n",
        "$$\n",
        "d = \\sqrt{\\frac{3}{2} \\frac{P_S}{2^M - 1 } }\n",
        "$$"
      ],
      "metadata": {
        "id": "g4U9BMQtG9-k"
      }
    },
    {
      "cell_type": "code",
      "source": [
        "'''\n",
        "通信路符号器\n",
        "'''\n",
        "class Modulator:\n",
        "  '''\n",
        "  constructor\n",
        "  @param M              int   多値数[bit] 単位がビットであることに注意\n",
        "  @param mode          str   変調方式 ex) mode = \"PSK\", mode = \"QAM\"\n",
        "  @param isGrayCode    bool  グレイコードにするか否か\n",
        "  @param powerOfSignal float １シンボルあたりの送信電力 (１ビットあたりの送信電力ではない！)\n",
        "  '''\n",
        "  def __init__(self,\n",
        "               M,\n",
        "               mode,\n",
        "               isGrayCode = True,\n",
        "               powerOfSignal  = 1.0\n",
        "               ):\n",
        "    \n",
        "    self.M = M\n",
        "    self.mode = mode\n",
        "    self.isGrayCode = isGrayCode\n",
        "    self.powerOfSignal = powerOfSignal\n",
        "\n",
        "    if mode == \"QAM\":\n",
        "      self.d = math.sqrt(\n",
        "          1.5 * self.powerOfSignal / ( (1 << self.M) - 1 )\n",
        "      )\n",
        "    \n",
        "    elif mode == \"PSK\":\n",
        "      self.A  = math.sqrt( self.powerOfSignal )\n",
        "\n",
        "  '''\n",
        "  変調\n",
        "  @param data     np.ndarray データ\n",
        "  @return symbol  np.ndarray シンボル\n",
        "  '''\n",
        "  def modulate(self,data):\n",
        "    if self.mode == \"PSK\":\n",
        "      if self.isGrayCode == True:\n",
        "        data = self.grayEncode(data)\n",
        "      return self.A * np.exp(1j * 2.0 * np.pi/ (1 << self.M) * data)\n",
        "    \n",
        "    if self.mode == \"QAM\":\n",
        "      x_U = self.sliceUpperBit(data)\n",
        "      if self.isGrayCode == True:\n",
        "        x_U = self.grayEncode(x_U)\n",
        "\n",
        "      x_L = self.sliceLowerBit(data)\n",
        "      if self.isGrayCode  == True:\n",
        "        x_L = self.grayEncode(x_L)\n",
        "\n",
        "      s_I = self.f(x_U)\n",
        "      s_Q = self.f(x_L)\n",
        "      return s_I + 1j * s_Q\n",
        "  \n",
        "  '''\n",
        "  上位ビット取得\n",
        "  @param x    np.ndarray {0, 1, ..., 2^M - 1} データ\n",
        "  @return x_U np.ndarray 上位ビット\n",
        "  '''\n",
        "  def sliceUpperBit(self, x) :\n",
        "    return (\n",
        "        x >> (self.M//2)\n",
        "    )\n",
        "  \n",
        "  '''\n",
        "  下位ビット取得\n",
        "  @param x    np.ndarray {0, 1, ..., 2^M - 1} データ\n",
        "  @return x_D np.ndarray 下位ビット\n",
        "  '''\n",
        "  def sliceLowerBit(self, x) :\n",
        "    return x & (\n",
        "        ( 1 << (self.M//2) ) - 1\n",
        "    )\n",
        "  \n",
        "  '''\n",
        "  M/2ビットを等間隔に配置\n",
        "  @param x_           np.ndarray  M/2ビットのデータ\n",
        "  @return symbolPart   np.ndarray  信号点のI/Q座標\n",
        "  '''\n",
        "  def f(self, x_):\n",
        "    return self.d * (\n",
        "          x_ * 2 - (\n",
        "              (1 << (self.M//2) ) - 1\n",
        "            )\n",
        "        )\n",
        "  \n",
        "  '''\n",
        "  グレイコードにする\n",
        "  @param n            array_like integer\n",
        "  @return              array_like gray coded object\n",
        "  '''\n",
        "  def grayEncode(self, n):\n",
        "    return n ^ n >> 1\n",
        "  \n",
        "  '''\n",
        "  グレイコードから直す\n",
        "  @param n           array_like gray coded object\n",
        "  @return             array_like gray decoded object\n",
        "  '''\n",
        "  def grayDecode(self, n):\n",
        "    i = isinstance(n, int)\n",
        "    n = np.array([n]) if i else n.copy()\n",
        "    m = n >> 1\n",
        "    while not (m == 0).all():\n",
        "        n ^= m\n",
        "        m >>= 1\n",
        "    return n[0] if i else n\n",
        "  \n",
        "  '''\n",
        "  信号点配置の表示と電力を計算する\n",
        "  '''\n",
        "  def debug(self):\n",
        "    dataSet = np.arange(1 << self.M)\n",
        "    dataset = self.grayEncode(dataSet)\n",
        "    symbolSet = self.modulate(dataSet)\n",
        "\n",
        "    plt.scatter( symbolSet.real, symbolSet.imag, label = \"{}{}\".format(1 << self.M, self.mode))\n",
        "    for n in range(1 << self.M):\n",
        "      data = dataSet[n]\n",
        "      symbol = symbolSet[n]\n",
        "      plt.annotate(\"${}$\".format( format(data, 'b') ), xy = (symbol.real, symbol.imag))\n",
        "\n",
        "    plt.xlabel(\"I\")\n",
        "    plt.ylabel(\"Q\")\n",
        "\n",
        "\n",
        "    plt.legend()\n",
        "    plt.savefig(\"{}{}.png\".format(\n",
        "        1 << self.M,\n",
        "        self.mode  \n",
        "      )\n",
        "    )\n",
        "\n",
        "    plt.show()\n",
        "\n",
        "    print(\"calculated power of signal: {}\".format(\n",
        "        math.sqrt(\n",
        "          np.mean( np.abs(symbolSet) ** 2 )\n",
        "        )\n",
        "      )\n",
        "    )"
      ],
      "metadata": {
        "id": "pF8dDwEnoywv"
      },
      "execution_count": null,
      "outputs": []
    },
    {
      "cell_type": "code",
      "source": [
        "modulatorTest = Modulator(\n",
        "    M = 4,\n",
        "    mode = \"QAM\",\n",
        "    isGrayCode = True\n",
        ")\n",
        "\n",
        "modulatorTest.debug()"
      ],
      "metadata": {
        "colab": {
          "base_uri": "https://localhost:8080/",
          "height": 296
        },
        "id": "f2C4N0n5owgc",
        "outputId": "ae06f13d-bc74-4a22-d926-08626e21cc45"
      },
      "execution_count": null,
      "outputs": [
        {
          "output_type": "display_data",
          "data": {
            "text/plain": [
              "<Figure size 432x288 with 1 Axes>"
            ],
            "image/png": "[encoded data removed]"
          },
          "metadata": {
            "needs_background": "light"
          }
        },
        {
          "output_type": "stream",
          "name": "stdout",
          "text": [
            "calculated power of signal: 1.0\n"
          ]
        }
      ]
    },
    {
      "cell_type": "markdown",
      "source": [
        "### 通信路"
      ],
      "metadata": {
        "id": "C-gpsH--YApR"
      }
    },
    {
      "cell_type": "code",
      "source": [
        "'''\n",
        "通信路\n",
        "'''\n",
        "class Channel:\n",
        "  '''\n",
        "  @param channelMatrix np.ndarray チャネル行列H\n",
        "  '''\n",
        "  def __init__(self, channelMatrix):\n",
        "    self.channelMatrix = channelMatrix\n",
        "  \n",
        "  '''\n",
        "  シンボルsを通信路Hに通して出力( y = Hu 出力)\n",
        "  @param symbol np.ndarray 入力シンボル\n",
        "  @reutrn         np.ndarray 出力シンボル\n",
        "  '''\n",
        "  def transport(self, symbol):\n",
        "    return self.channelMatrix @ symbol"
      ],
      "metadata": {
        "id": "4eb_i4P7YCj1"
      },
      "execution_count": null,
      "outputs": []
    },
    {
      "cell_type": "code",
      "source": [
        "'''\n",
        "クロネッカーモデル通信路\n",
        "'''\n",
        "class KroneckerChannel(Channel):\n",
        "  '''\n",
        "  @paran Nt   送信アンテナ数\n",
        "  @paran Nr   受信アンテナ数\n",
        "  @param rho 相関係数\n",
        "  @param\n",
        "  '''\n",
        "  def __init__(self, Nt, Nr, rho):\n",
        "    self.Nt = Nt\n",
        "    self.Nr = Nr\n",
        "    self.rho = rho\n",
        "    \n",
        "    self.Rt = self.Nt * self.exponentialCorrelationMatrix(self.Nt, self.rho)\n",
        "    self.G = self.gaussianMatrix(self.Nr, self.Nt)\n",
        "    self.Rr = self.Nr * self.exponentialCorrelationMatrix(self.Nr, self.rho)\n",
        "    self.kappa = np.trace(self.Rt)\n",
        "\n",
        "\n",
        "    self.H = self.calcKroneckerChannel(self.Rt, self.G, self.Rr, self.kappa)\n",
        "  \n",
        "  def exponentialCorrelationMatrix(self, N, rho):\n",
        "    mat = np.array([\n",
        "        [ i - j for j in range(N) ]\n",
        "        for i in range(N)\n",
        "    ])\n",
        "    mat = np.abs(mat)\n",
        "    mat = np.power(rho, mat)\n",
        "    return mat\n",
        "  \n",
        "  def gaussianMatrix(self, rowNum, colNum):\n",
        "    mat = np.array([\n",
        "        [\n",
        "            random.gauss(mu = 0, sigma = np.sqrt(0.5) ) + 1j * random.gauss(mu = 0, sigma = np.sqrt(0.5) ) \n",
        "            for col in range(colNum)\n",
        "        ]\n",
        "        for row in range(rowNum)\n",
        "    ])\n",
        "    return mat\n",
        "  \n",
        "  '''\n",
        "  H = Rr^{1/2} G ( Rr^{1/2} )^H / \\sqrt{\\kappa}\n",
        "  '''\n",
        "  def calcKroneckerChannel(self, Rt, G, Rr, kappa):\n",
        "    return sqrtm(Rr) @ G @ (sqrtm(Rt)).conj().T / np.sqrt(kappa)\n",
        "\n",
        "  def debug(self):\n",
        "    print(\"start debug\")\n",
        "    #print( self.exponentialCorrelationMatrix(3, 0) )\n",
        "    \n",
        "    Rt = np.zeros( (self.Nt, self.Nt) )\n",
        "    \n",
        "    N = 1000\n",
        "    for n in range(N):\n",
        "      G = self.gaussianMatrix(self.Nr, self.Nt)\n",
        "      H = self.calcKroneckerChannel(self.Rt, G, self.Rr, self.kappa)\n",
        "\n",
        "      Rt_ = H.conj().T @ H\n",
        "\n",
        "      Rt = Rt + Rt_\n",
        "    \n",
        "    Rt /= N\n",
        "    print(\"Rt/Nr{}\".format( Rt/self.Nr ))\n",
        "\n",
        "\n",
        "    print(\"end debug\")"
      ],
      "metadata": {
        "id": "lHESuGVd7g54"
      },
      "execution_count": null,
      "outputs": []
    },
    {
      "cell_type": "markdown",
      "source": [
        "### 白色ガウス雑音加算器\n",
        "複素ガウス分布に従う雑音$\\boldsymbol{n}$をBox-Muller法で発生させる．\n",
        "$$\n",
        "\\boldsymbol{n} \\sim \\mathcal{CN}( 0, \\sigma^2  )\n",
        "$$\n",
        "実部と虚部は$\\mathcal{N}(0, \\sigma^2/2)$に従うことに注意"
      ],
      "metadata": {
        "id": "oZqG0ypDZ93B"
      }
    },
    {
      "cell_type": "code",
      "source": [
        "class AwgnAdder:\n",
        "  '''\n",
        "  constructor\n",
        "  '''\n",
        "  def __init__(self):\n",
        "    return\n",
        "  \n",
        "  '''\n",
        "  シンボルにガウスノイズn ~ CN(0, σ^2)をのせて返す\n",
        "  @param symbol  np.ndarray       シンボル\n",
        "  @param variance float            分散\n",
        "  @return symbolNoizes np.ndarray ノイズが加算されたシンボル\n",
        "  '''\n",
        "  def addAwgn(self, symbol, variance):\n",
        "    noizeVector = np.array([\n",
        "          self.generateGaussian(variance) for _ in range(symbol.size)\n",
        "        ])\n",
        "    noizeMatrix = noizeVector.reshape( symbol.shape )\n",
        "    return symbol + noizeMatrix\n",
        "\n",
        "  ''''\n",
        "  複素標準ガウス雑音n ~ CN(0, σ^2)生成\n",
        "  @param variance float     分散σ^2\n",
        "  @return gaussian complex 複素標準ガウス雑音n ~ CN(0, σ^2)\n",
        "  '''\n",
        "  def generateGaussian(self, variance):\n",
        "    #確率変数x_1, x_2 ~ U(0, 1)\n",
        "    x_1 = random.uniform(0.0, 1.0)\n",
        "    x_2 = random.uniform(0.0, 1.0)\n",
        "\n",
        "    #確率変数x_1, x_2を変換して標準正規分布に従う確率変数y_1, y_2とする\n",
        "    y_1 = np.sqrt(-2.0 * np.log(x_1)) * np.cos(2.0 * np.pi * x_2)\n",
        "    y_2 = np.sqrt(-2.0 * np.log(x_1)) * np.sin(2.0 * np.pi * x_2)\n",
        "\n",
        "    return np.sqrt( variance / 2.0) * (y_1 + 1j * y_2)"
      ],
      "metadata": {
        "id": "OhMcx7v4aCjU"
      },
      "execution_count": null,
      "outputs": []
    },
    {
      "cell_type": "markdown",
      "source": [
        "### 通信路複復号器\n",
        "\n",
        "***MPSK M$[\\rm{bit}]$*** のとき <br>\n",
        "受け取った信号$y$に対して\n",
        "$$\n",
        "\\hat{x} = \\rm{round} \\Bigg( \n",
        "  \\frac{\n",
        "  \\rm{arg}(y)\n",
        "}{\n",
        "  2 \\pi / 2^M\n",
        "} \\Bigg)\n",
        "$$\n",
        "と復調する．<br>\n",
        "\n",
        "***MQAM M$[\\rm{bit}]$***のとき <br>\n",
        "受け取った信号$y = y^I + j y^Q$に対して\n",
        "$$\n",
        "\\hat{x}^{(\\cdot)}  = \\rm{round}\\Bigg(\n",
        "  \\frac{1}{2}\n",
        "  \\bigg\\{\n",
        "    \\frac{y^{(\\cdot)} }{d} + 2^{M/2} - 1\n",
        "  \\bigg\\}\n",
        "  \\Bigg)\n",
        "$$\n",
        "として上位ビット$\\hat{x}^U$および下位ビット$\\hat{x}^D$と復調する. <br>\n",
        "ただし$\\hat{x}^{(\\cdot)} < 0$のとき$\\hat{x}^{(\\cdot)} = 0$, $\\hat{x}^{(\\cdot)} \\geq 2^{M/2}$のとき$\\hat{x}^{(\\cdot)} = 2^{M/2} - 1$とする．<br>\n",
        "\n",
        "また，計算量はあるが確実な方法として最小ノルムを指定するシンボルを推定地にする復調法も実装した．すなわち\n",
        "$$\n",
        "\\hat{x} = \\rm{arg min}_{x \\in \\{0, 1, \\cdots, 2^M-1\\} } \\Big\\| \\rm{modulate} (x) - y \\Big\\|\n",
        "$$"
      ],
      "metadata": {
        "id": "VTqNKLB4UoND"
      }
    },
    {
      "cell_type": "code",
      "source": [
        "class Demodulator(Modulator):\n",
        "  '''\n",
        "  constructor\n",
        "  @param M              int   多値数[bit] 単位がビットであることに注意\n",
        "  @param mode          str   変調方式 ex) mode = \"PSK\", mode = \"QAM\"\n",
        "  @param argmin         bool argminで復調するか否か\n",
        "  @param powerOfSignal float １シンボルあたりの送信電力 (１ビットあたりの送信電力ではない！)\n",
        "  '''\n",
        "  def __init__(self,\n",
        "               M,\n",
        "               mode,\n",
        "               isGrayCode = True,\n",
        "               powerOfSignal  = 1.0,\n",
        "               argmin = False\n",
        "               ):\n",
        "    super().__init__(M, mode, isGrayCode, powerOfSignal)\n",
        "    self.argmin = argmin\n",
        "    self.dataOrigin = np.arange(1 << self.M)\n",
        "    if self.isGrayCode == True:\n",
        "      self.dataOrigin =  self.grayEncode( self.dataOrigin )\n",
        "    self.symbolOrigin = self.modulate(self.dataOrigin)\n",
        "    \n",
        "    \n",
        "\n",
        "  '''\n",
        "  復調\n",
        "  @param symbolReceived         np.ndarray 受け取ったシンボル\n",
        "  @return dataDemodulated       np.ndarray 復調されたデータ\n",
        "  '''\n",
        "  def demodulate(self, symbolReceived):\n",
        "    if self.argmin == True:\n",
        "      dataDemodulated =  np.array([\n",
        "          np.argmin(\n",
        "              abs(self.symbolOrigin - symbolReceived_) \n",
        "          )\n",
        "          for symbolReceived_ in symbolReceived\n",
        "      ])\n",
        "\n",
        "      if self.isGrayCode == True:\n",
        "        dataDemodulated = self.grayDecode( dataDemodulated )\n",
        "\n",
        "    elif self.mode == \"PSK\":\n",
        "      dataDemodulated = np.angle( symbolReceived )\n",
        "      dataDemodulated = dataDemodulated / (\n",
        "          2.0 * np.pi / ( 1 << self.M )\n",
        "      )\n",
        "      dataDemodulated = dataDemodulated.round()\n",
        "      dataDemodulated = np.array(dataDemodulated.round(), dtype = 'int')\n",
        "      dataDemodulated = np.where(dataDemodulated < 0,\n",
        "                                   dataDemodulated + (1 << self.M),\n",
        "                                   dataDemodulated)\n",
        "      if self.isGrayCode == True:\n",
        "        dataDemodulated = self.grayDecode( dataDemodulated )\n",
        "    \n",
        "    elif self.mode == \"QAM\":\n",
        "      x_U = symbolReceived.real / self.d + (1 << self.M//2) - 1\n",
        "      x_U /= 2.0\n",
        "      x_U = x_U.round()\n",
        "      x_U = np.array(x_U, dtype = 'int')\n",
        "      x_U = np.where(x_U < 0, 0, x_U)\n",
        "      x_U = np.where(x_U > ( (1 << self.M//2) - 1), (1 << self.M//2) - 1, x_U)\n",
        "\n",
        "      x_L = symbolReceived.imag / self.d + (1 << self.M//2) - 1\n",
        "      x_L /= 2.0\n",
        "      x_L = x_L.round()\n",
        "      x_L = np.array(x_L, dtype = 'int')\n",
        "      x_L = np.where(x_L < 0, 0, x_L)\n",
        "      x_L = np.where(x_L > ( (1 << self.M//2) - 1), (1 << self.M//2) - 1, x_L)\n",
        "\n",
        "      if self.isGrayCode == True:\n",
        "        x_U = self.grayDecode(x_U)\n",
        "        x_L = self.grayDecode(x_L)\n",
        "      \n",
        "      dataDemodulated = (x_U << self.M//2) + x_L\n",
        "    \n",
        "    return dataDemodulated\n",
        "  \n",
        "  '''\n",
        "  信号点配置の表示と電力を計算する\n",
        "  '''\n",
        "  def debug(self):\n",
        "    dataSet = np.arange(1 << self.M)\n",
        "    symbolSet = self.modulate(dataSet)\n",
        "\n",
        "    dataDemodulated = self.demodulate( symbolSet )\n",
        "    print(\"data origin: {}\".format(dataSet))\n",
        "    print(\"data demodulated {}: \".format(dataDemodulated) )"
      ],
      "metadata": {
        "id": "d5qKyhXuZg80"
      },
      "execution_count": null,
      "outputs": []
    },
    {
      "cell_type": "markdown",
      "source": [
        "## その他のモジュール"
      ],
      "metadata": {
        "id": "DYly3wlsBONE"
      }
    },
    {
      "cell_type": "markdown",
      "metadata": {
        "id": "nkqtpBWdJOF-"
      },
      "source": [
        "### $\\rm{SNR}$もしくは$\\frac{E_b}{N_0}$から雑音$\\boldsymbol{n} $の分散$\\sigma^2$を計算する関数"
      ]
    },
    {
      "cell_type": "markdown",
      "metadata": {
        "id": "1H6lcgzMJOF-"
      },
      "source": [
        "**SN比から雑音の分散を計算**<br>繰り返し記述しておくが，雑音$ \\boldsymbol{n}$の実部，虚部はそれぞれ$\\mathcal{N} (0, \\sigma^2/2)$に従う.\n",
        "$$\n",
        "\\rm{SNR} [\\mbox{dB}]  = 10 \\log_{10} \\frac{P_S}{P_N} = 10 \\log_{10} \\frac{1}{  \\sigma^2 }\n",
        "$$\n",
        "\n",
        "$$\n",
        "\\therefore\n",
        "\\rm{分散} \\sigma^2 = 10^{- \\rm{SNR}/10 }\n",
        "$$\n",
        "\n",
        "**$\\frac{ E_b }{ N_0 }$から雑音の分散を計算**<br>\n",
        "\n",
        "\n",
        "$$\n",
        "\\begin{cases}\n",
        "P_S &= M[\\rm{bit}] \\times E_b \\\\\n",
        "\\frac{E_b}{N_0} &= 10 \\log_{10} \\Big( \\frac{ E_b }{ \\sigma^2 } \\Big) \n",
        "\\end{cases}\n",
        "$$\n",
        "\n",
        "\n",
        "$$\n",
        "\\therefore \\mbox{分散} \\sigma^2 = \\frac{P_S}{ M[\\rm{bit}] } 10^{\n",
        " - E_b/N_0 \\big/ 10\n",
        "}\n",
        "$$"
      ]
    },
    {
      "cell_type": "code",
      "source": [
        "'''\n",
        "雑音分散を計算\n",
        "@param rate          float     SNR or EbN0\n",
        "@param rateMode    str      \"SNR\" or \"EbN0\"\n",
        "@param M            int      多値数[bit]\n",
        "@param P_S          float    信号電力\n",
        "@return variance      float    雑音の分散\n",
        "'''\n",
        "def calcVariance(\n",
        "    rate,\n",
        "    rateMode,\n",
        "    M,\n",
        "    P_S = 1.0\n",
        "):\n",
        "  if rateMode == \"SNR\" :\n",
        "    return np.power(10.0, - rate / 10.0 )\n",
        "  \n",
        "  elif rateMode == \"EbN0\":\n",
        "    return P_S / M * np.power(10.0, - rate / 10.0)"
      ],
      "metadata": {
        "id": "fOwE_Cqlk3qY"
      },
      "execution_count": null,
      "outputs": []
    },
    {
      "cell_type": "markdown",
      "metadata": {
        "id": "D9ctFA5WMnWP"
      },
      "source": [
        "### SER/BER計算機\n",
        "送信したデータセットと，復調したデータセットの中身のうち正しく予測したものの割合"
      ]
    },
    {
      "cell_type": "code",
      "execution_count": null,
      "metadata": {
        "id": "6hd7y37ZMnWQ"
      },
      "outputs": [],
      "source": [
        "'''\n",
        "SER/BER計算機\n",
        "@param M              int 多値数[bit]\n",
        "@param errrorMode     str \"SER\" or \"BER\"\n",
        "'''\n",
        "class ErrorCalculator:\n",
        "  def __init__(self, M, errorMode) :\n",
        "    self.M = M\n",
        "    self.errorMode = errorMode\n",
        "\n",
        "  \n",
        "  '''\n",
        "  SER or BER計算\n",
        "  @param dataOrigin        変調する前のデータ\n",
        "  @param dataDemodulated 復調したデータ\n",
        "  '''\n",
        "  def calcError(self,\n",
        "                dataOrigin,\n",
        "                dataDemodulated):\n",
        "    if self.errorMode == \"SER\":\n",
        "      return self.calcSER(dataOrigin, dataDemodulated)\n",
        "    \n",
        "    elif self.errorMode == \"BER\":\n",
        "      return self.calcBER(dataOrigin, dataDemodulated)\n",
        "\n",
        "  '''\n",
        "  SER計算\n",
        "  @param dataOrigin        変調する前のデータ\n",
        "  @param dataDemodulated 復調したデータ\n",
        "  '''\n",
        "  def calcSER(self, \n",
        "              dataOrigin,\n",
        "              dataDemodulated):\n",
        "    return np.count_nonzero(\n",
        "        dataOrigin != dataDemodulated\n",
        "    ) / dataOrigin.size\n",
        "\n",
        "  '''\n",
        "  BER計算\n",
        "  @param dataOrigin        変調する前のデータ\n",
        "  @param dataDemodulated 復調したデータ\n",
        "  '''\n",
        "  def calcBER(self,\n",
        "              dataOrigin,\n",
        "              dataDemodulated):\n",
        "    dataDelta = dataOrigin ^ dataDemodulated\n",
        "    dataDeltaBits = np.array([\n",
        "        self.transformBitsFromInt(data)\n",
        "        for data in dataDelta\n",
        "        ])\n",
        "    '''\n",
        "    or\n",
        "    dataDeltaBits = self.transformBitsFromInt(data)\n",
        "    '''\n",
        "\n",
        "    deltaCnt = np.sum( dataDeltaBits )\n",
        "\n",
        "    return deltaCnt / dataDeltaBits.size\n",
        "\n",
        "  '''\n",
        "  整数を{0,1}^(桁数)に変換\n",
        "  @param integer          int        変換する整数\n",
        "  @return bits             np.ndarray 変換された0/1ビット配列\n",
        "  '''\n",
        "  def transformBitsFromInt(self, integer):\n",
        "    return np.array([\n",
        "        ( integer & (1 << m) ) >> m\n",
        "        for m in range( self.M )\n",
        "    ])\n"
      ]
    },
    {
      "cell_type": "markdown",
      "source": [
        "### SER, BERの理論式\n",
        "\n",
        "$M$[bit]個のビット列からなるシンボル誤り率$P_{\\rm{SER}}$は，ビット誤り率$P_{\\rm{BER}}$と\n",
        "$$\n",
        "P_\\rm{BER} = \\frac{2^{M-1}}{2^M - 1} P_\\rm{SER}\n",
        "$$\n",
        "という関係がある．<br>\n",
        "\n",
        "**PSK**の理論式\n",
        "$M = 1$(BPSK)のとき\n",
        "$$\n",
        "P_\\rm{SER} = \\frac{1}{2} \\rm{erfc}( \\sqrt{\\gamma} )\n",
        "$$\n",
        "\n",
        "それ以外\n",
        "$$\n",
        "P_\\rm{SER} \\simeq \\rm{erfc} \\Bigg(\\sqrt{\\gamma} \\sin \\frac{\\pi}{2^M}\\Bigg)\n",
        "$$\n",
        "\n",
        "**QAM**の理論式\n",
        "\n",
        "$$\n",
        "P_\\rm{SER} \\simeq 2\\Big(1 - \\frac{1}{ 2^{M/2} } \\Big) \\rm{erfc}\n",
        "\\Bigg[ \n",
        "\\sqrt{ \\frac{3}{2(2^M - 1)} \\cdot \\gamma}\n",
        "\\Bigg]\n",
        "$$\n",
        "ただし$\\gamma_p$は最大振幅を持つ信号の電力対雑音電力比\n",
        "\n",
        "あるいは\n",
        "$$\n",
        "P_{BER} = P_{SER} if PSK \\\\\n",
        "P_{BER} = \\alpha \\ \\rm{erfc}\\Big( \\sqrt{\n",
        "  \\frac{\\gamma}{\\beta}\n",
        "}  \\Big)\n",
        "$$\n",
        "\n",
        "| | | |\n",
        "| --- | --- | --- |\n",
        "|  | $\\alpha$ | $\\beta$ |\n",
        "| QPSK | 1/2 | 2 |\n",
        "| 16QAM | 3/8 | 10 |\n",
        "| 64QAM | 7/24 | 42 |\n",
        "| 256QAM | 15/64 | 42 | \n",
        "| 1024QAM | 31/160 | 682 |\n"
      ],
      "metadata": {
        "id": "C-bZqZ1iLrRA"
      }
    },
    {
      "cell_type": "code",
      "source": [
        "'''\n",
        "SNR or Eb/N0によるSER or BERの理論式\n",
        "@param M            int     多値数[bit]\n",
        "@param mode        str    \"PSK\" or \"QAM\"\n",
        "@param gammaMode str    \"EbN0\" or \"SNR\"\n",
        "@param gamma      float   SN比\n",
        "@param errorMode   str    \"SER\" or \"BER\"\n",
        "\n",
        "@return P_e       float 誤り率(P_SER or P_BER)\n",
        "'''\n",
        "def errorTheoreticalValue(\n",
        "    M,\n",
        "    mode,\n",
        "    gammaMode,\n",
        "    gamma,\n",
        "    errorMode\n",
        ") :\n",
        "  if gammaMode == \"EbN0\":\n",
        "    gamma *= M\n",
        "  \n",
        "\n",
        "\n",
        "  if mode == \"PSK\":\n",
        "    P_SER = special.erfc(\n",
        "        np.sqrt(gamma) * np.sin( np.pi / (1 << M) )\n",
        "    )\n",
        "    if M == 1:\n",
        "      P_SER /= 2\n",
        "  \n",
        "\n",
        "  elif mode == \"QAM\":\n",
        "    P_SER = 2.0 * (1.0 - 1.0/(1<< M//2) ) * special.erfc( np.sqrt(\n",
        "          3.0 / (2.0 * ( (1 << M) - 1) ) * gamma\n",
        "        )\n",
        "      )\n",
        "\n",
        "\n",
        "\n",
        "  if errorMode == \"SER\":\n",
        "    return P_SER\n",
        " \n",
        "\n",
        "  elif errorMode == \"BER\":\n",
        "    if mode == \"QAM\":\n",
        "      if M > 10:\n",
        "        P_BER = P_SER / M\n",
        "        #P_BER = (1 << (M  - 1)) / ( (1 << M) - 1) * P_SER\n",
        "      else:  \n",
        "        if M == 4: #16QAM\n",
        "          alpha, beta = 3/8, 10\n",
        "        elif M == 6: #64QAM\n",
        "          alpha, beta = 7/24, 42\n",
        "        elif M == 8: #256QAM\n",
        "          alpha, beta = 15/64, 170\n",
        "        elif M == 10: #1024QAM\n",
        "          alpha, beta = 31/160, 682\n",
        "        P_BER = alpha * special.erfc( np.sqrt( gamma / beta ) )\n",
        "      \n",
        "    else: #PSK\n",
        "      P_BER = P_SER / M\n",
        "      #P_BER = (1 << (M  - 1)) / ( (1 << M) - 1) * P_SER\n",
        " \n",
        "    return P_BER"
      ],
      "metadata": {
        "id": "-eAYtYhdoZQt"
      },
      "execution_count": null,
      "outputs": []
    },
    {
      "cell_type": "markdown",
      "metadata": {
        "id": "2G8yBgYUQKAx"
      },
      "source": [
        "## Simulation of PSK"
      ]
    },
    {
      "cell_type": "markdown",
      "source": [
        "### BPSK"
      ],
      "metadata": {
        "id": "YP7e0uaTNd_1"
      }
    },
    {
      "cell_type": "markdown",
      "metadata": {
        "id": "zWAJk0MIRWBW"
      },
      "source": [
        "パラメータ\n",
        "\n",
        "|    |    |\n",
        "| ---- | ---- |\n",
        "| 変調方式 | PSK |\n",
        "| 多値数 | 2(BPSK) |\n",
        "|  試行回数  |  100万回  |\n",
        "|  SNR(=EbN0)  |  0[dB]~30[dB]  |\n",
        "| 送信電力 | 1 |"
      ]
    },
    {
      "cell_type": "code",
      "execution_count": null,
      "metadata": {
        "id": "qYOY15lMbBr2"
      },
      "outputs": [],
      "source": [
        "#変調方式\n",
        "mode = \"PSK\"\n",
        "\n",
        "#多値数\n",
        "M = 1\n",
        "\n",
        "#試行回数\n",
        "informationSize = 1000000\n",
        "\n",
        "#SNR\n",
        "rateMode = \"SNR\"\n",
        "SNR_MIN = 0\n",
        "SNR_MAX = 30\n",
        "\n",
        "#定義域(SNR)\n",
        "N = (SNR_MAX - SNR_MIN) + 1\n",
        "SNR = np.linspace(SNR_MIN, SNR_MAX, N)\n",
        "\n",
        "#送信電力\n",
        "powerOfSignal = 1.0"
      ]
    },
    {
      "cell_type": "markdown",
      "source": [
        "通信モデル等設定"
      ],
      "metadata": {
        "id": "iUzZklEYOJav"
      }
    },
    {
      "cell_type": "code",
      "execution_count": null,
      "metadata": {
        "id": "c_OruVKpbcJC"
      },
      "outputs": [],
      "source": [
        "#informationSource = InformationSource()\n",
        "#encoder = Encoder(M = M)\n",
        "modulator = Modulator(M = M, mode = mode, powerOfSignal = powerOfSignal)\n",
        "channel = Channel(channelMatrix = np.array([1]) )\n",
        "awgnAdder = AwgnAdder()\n",
        "demodulator = Demodulator(M = M, mode = mode, powerOfSignal = powerOfSignal)\n",
        "\n",
        "errorCalculator = ErrorCalculator(M = M)"
      ]
    },
    {
      "cell_type": "code",
      "source": [
        "#乱数データ\n",
        "dataOrigin = np.random.randint(low = 0, high = 1 << M, size = [1, informationSize])\n",
        "\n",
        "#データを変調しておく\n",
        "symbol = modulator.modulate(dataOrigin)"
      ],
      "metadata": {
        "id": "3JgTtkpDcA2d"
      },
      "execution_count": null,
      "outputs": []
    },
    {
      "cell_type": "markdown",
      "metadata": {
        "id": "f1aa6GGGmW1Z"
      },
      "source": [
        "#### 実行結果\n",
        "横軸 SNR:0∼10 [dB]，縦軸 BER(対数表示)のグラフを描く."
      ]
    },
    {
      "cell_type": "code",
      "source": [
        "BER_SNR_BPSK = np.zeros(shape = SNR.shape)\n",
        "\n",
        "for n in range(N):\n",
        "  #シンボルsを通信路Hに通しノイズnをのせる\n",
        "  symbolTransported = channel.transport(symbol)\n",
        "\n",
        "  symbolNoized = awgnAdder.addAwgn(\n",
        "                                    symbolTransported, \n",
        "                                    calcVariance(\n",
        "                                        rate = SNR[n], rateMode = rateMode,\n",
        "                                        M = M, P_S = powerOfSignal)\n",
        "                                  )\n",
        "  \n",
        "  #復調\n",
        "  dataDemodulated = demodulator.demodulate(symbolNoized)\n",
        "\n",
        "  #元のデータと復調データを照らし合わせてBER計算\n",
        "  ber = errorCalculator.calcBER(dataOrigin, dataDemodulated)\n",
        "\n",
        "  BER_SNR_BPSK[n] = ber\n",
        "\n",
        "  print(\"SNR:{}  BER:{}\".format(SNR[n], ber))\n",
        "\n",
        "np.savetxt(\"BER_SNR_BPSK.csv\",\n",
        "           np.stack([\n",
        "               SNR,\n",
        "               BER_SNR_BPSK\n",
        "           ])\n",
        "        )"
      ],
      "metadata": {
        "id": "xU2HYUTY2NQm",
        "colab": {
          "base_uri": "https://localhost:8080/"
        },
        "outputId": "366d47d4-1b37-4ac5-d186-eadcd6946b00"
      },
      "execution_count": null,
      "outputs": [
        {
          "output_type": "stream",
          "name": "stdout",
          "text": [
            "SNR:0.0  BER:0.078718\n",
            "SNR:1.0  BER:0.056319\n",
            "SNR:2.0  BER:0.037589\n",
            "SNR:3.0  BER:0.02278\n",
            "SNR:4.0  BER:0.012437\n",
            "SNR:5.0  BER:0.006159\n",
            "SNR:6.0  BER:0.002349\n",
            "SNR:7.0  BER:0.000838\n",
            "SNR:8.0  BER:0.000192\n",
            "SNR:9.0  BER:3.3e-05\n",
            "SNR:10.0  BER:7e-06\n",
            "SNR:11.0  BER:0.0\n",
            "SNR:12.0  BER:0.0\n",
            "SNR:13.0  BER:0.0\n",
            "SNR:14.0  BER:0.0\n",
            "SNR:15.0  BER:0.0\n",
            "SNR:16.0  BER:0.0\n",
            "SNR:17.0  BER:0.0\n",
            "SNR:18.0  BER:0.0\n",
            "SNR:19.0  BER:0.0\n",
            "SNR:20.0  BER:0.0\n",
            "SNR:21.0  BER:0.0\n",
            "SNR:22.0  BER:0.0\n",
            "SNR:23.0  BER:0.0\n",
            "SNR:24.0  BER:0.0\n",
            "SNR:25.0  BER:0.0\n",
            "SNR:26.0  BER:0.0\n",
            "SNR:27.0  BER:0.0\n",
            "SNR:28.0  BER:0.0\n",
            "SNR:29.0  BER:0.0\n",
            "SNR:30.0  BER:0.0\n"
          ]
        }
      ]
    },
    {
      "cell_type": "code",
      "source": [
        "plt.plot(\n",
        "    SNR,\n",
        "    0.5 * special.erfc(\n",
        "        np.sqrt(\n",
        "            np.power(10, SNR / 10.0 ) \n",
        "        )\n",
        "    ),\n",
        "    ':m',\n",
        "    label = \"Theoretical value\"\n",
        ")\n",
        "\n",
        "plt.plot(\n",
        "    np.loadtxt(\"BER_SNR_BPSK.csv\")[0],\n",
        "    np.loadtxt(\"BER_SNR_BPSK.csv\")[1],\n",
        "    'or',\n",
        "    label = \"BPSK simulated\"\n",
        ")\n",
        "\n",
        "plt.yscale('log')\n",
        "\n",
        "plt.xlabel(\"SNR[dB]\")\n",
        "plt.ylabel(\"BER\")\n",
        "\n",
        "plt.ylim(10 ** (-5), 1)\n",
        "\n",
        "plt.legend()\n",
        "\n",
        "plt.savefig(\"BER_SNR_BPSK.png\")\n",
        "\n",
        "plt.show()"
      ],
      "metadata": {
        "colab": {
          "base_uri": "https://localhost:8080/",
          "height": 285
        },
        "id": "6jHM8v_o7ASZ",
        "outputId": "f7438a26-cfd9-4098-e14d-de5675bd13cd"
      },
      "execution_count": null,
      "outputs": [
        {
          "output_type": "display_data",
          "data": {
            "text/plain": [
              "<Figure size 432x288 with 1 Axes>"
            ],
            "image/png": "[encoded data removed]"
          },
          "metadata": {
            "needs_background": "light"
          }
        }
      ]
    },
    {
      "cell_type": "markdown",
      "source": [
        "### QPSK"
      ],
      "metadata": {
        "id": "6UPDu8H6EZjD"
      }
    },
    {
      "cell_type": "markdown",
      "source": [
        "#### SER-Eb/N0"
      ],
      "metadata": {
        "id": "BB8v9PDkRvuL"
      }
    },
    {
      "cell_type": "markdown",
      "metadata": {
        "id": "DCdKMmDQEZjM"
      },
      "source": [
        "パラメータ\n",
        "\n",
        "|    |    |\n",
        "| ---- | ---- |\n",
        "| 変調方式 | PSK |\n",
        "| 多値数 | 4(QPSK) |\n",
        "|  試行回数  |  100万回  |\n",
        "|  $E_b/N_0$  |  0[dB]~30[dB]  |\n",
        "| 送信電力 | 1 |"
      ]
    },
    {
      "cell_type": "code",
      "execution_count": null,
      "metadata": {
        "id": "TUdEYwBQEZjM"
      },
      "outputs": [],
      "source": [
        "#変調方式\n",
        "mode = \"PSK\"\n",
        "\n",
        "#多値数\n",
        "M = 2\n",
        "\n",
        "#試行回数\n",
        "iterationNum = 1000000\n",
        "\n",
        "#Eb/N0\n",
        "rateMode = \"EbN0\"\n",
        "EbN0_MIN = 0\n",
        "EbN0_MAX = 30\n",
        "\n",
        "#定義域\n",
        "N = (EbN0_MAX - EbN0_MIN) + 1\n",
        "EbN0 = np.linspace(EbN0_MIN, EbN0_MAX, N)\n",
        "\n",
        "#送信電力\n",
        "powerOfSignal = 1.0"
      ]
    },
    {
      "cell_type": "markdown",
      "source": [
        "通信モデル等設定"
      ],
      "metadata": {
        "id": "tKtzaGMxEZjM"
      }
    },
    {
      "cell_type": "code",
      "execution_count": null,
      "metadata": {
        "id": "TD1-7gOrEZjM",
        "colab": {
          "base_uri": "https://localhost:8080/",
          "height": 205
        },
        "outputId": "3be9bb10-e904-4763-d42b-55b01bf06ab4"
      },
      "outputs": [
        {
          "output_type": "error",
          "ename": "TypeError",
          "evalue": "ignored",
          "traceback": [
            "\u001b[0;31m---------------------------------------------------------------------------\u001b[0m",
            "\u001b[0;31mTypeError\u001b[0m                                 Traceback (most recent call last)",
            "\u001b[0;32m<ipython-input-70-c9e17c192ff0>\u001b[0m in \u001b[0;36m<module>\u001b[0;34m\u001b[0m\n\u001b[1;32m      4\u001b[0m \u001b[0mdemodulator\u001b[0m \u001b[0;34m=\u001b[0m \u001b[0mDemodulator\u001b[0m\u001b[0;34m(\u001b[0m\u001b[0mM\u001b[0m \u001b[0;34m=\u001b[0m \u001b[0mM\u001b[0m\u001b[0;34m,\u001b[0m \u001b[0mmode\u001b[0m \u001b[0;34m=\u001b[0m \u001b[0mmode\u001b[0m\u001b[0;34m,\u001b[0m \u001b[0mpowerOfSignal\u001b[0m \u001b[0;34m=\u001b[0m \u001b[0mpowerOfSignal\u001b[0m\u001b[0;34m)\u001b[0m\u001b[0;34m\u001b[0m\u001b[0;34m\u001b[0m\u001b[0m\n\u001b[1;32m      5\u001b[0m \u001b[0;34m\u001b[0m\u001b[0m\n\u001b[0;32m----> 6\u001b[0;31m \u001b[0merrorCalculator\u001b[0m \u001b[0;34m=\u001b[0m \u001b[0mErrorCalculator\u001b[0m\u001b[0;34m(\u001b[0m\u001b[0mM\u001b[0m \u001b[0;34m=\u001b[0m \u001b[0mM\u001b[0m\u001b[0;34m)\u001b[0m\u001b[0;34m\u001b[0m\u001b[0;34m\u001b[0m\u001b[0m\n\u001b[0m",
            "\u001b[0;31mTypeError\u001b[0m: __init__() missing 1 required positional argument: 'errorMode'"
          ]
        }
      ],
      "source": [
        "modulator = Modulator(M = M, mode = mode, powerOfSignal = powerOfSignal)\n",
        "channel = Channel(channelMatrix = np.array([1]) )\n",
        "awgnAdder = AwgnAdder()\n",
        "demodulator = Demodulator(M = M, mode = mode, powerOfSignal = powerOfSignal)\n",
        "\n",
        "errorCalculator = ErrorCalculator(M = M)"
      ]
    },
    {
      "cell_type": "code",
      "source": [
        "#乱数データ\n",
        "dataOrigin = np.random.randint(low = 0, high = 1 << M, size = [1, iterationNum])\n",
        "\n",
        "#データを変調しておく\n",
        "symbol = modulator.modulate(dataOrigin)"
      ],
      "metadata": {
        "id": "fCTyNkihEZjN"
      },
      "execution_count": null,
      "outputs": []
    },
    {
      "cell_type": "code",
      "source": [
        "dataOrigin"
      ],
      "metadata": {
        "colab": {
          "base_uri": "https://localhost:8080/"
        },
        "id": "AprkdtNaaLtM",
        "outputId": "9daf253e-9527-4996-e26d-61baa53c3799"
      },
      "execution_count": null,
      "outputs": [
        {
          "output_type": "execute_result",
          "data": {
            "text/plain": [
              "array([[0, 3, 1, ..., 0, 0, 1]])"
            ]
          },
          "metadata": {},
          "execution_count": 92
        }
      ]
    },
    {
      "cell_type": "markdown",
      "metadata": {
        "id": "lhgpZ4X4EZjN"
      },
      "source": [
        "##### 実行結果\n",
        "横軸 $E_b/N_0$[dB]，縦軸 SER(対数表示)のグラフを描く."
      ]
    },
    {
      "cell_type": "code",
      "source": [
        "SER_EbN0_QPSK = np.zeros(shape = SNR.shape)\n",
        "\n",
        "for n in range(N):\n",
        "  #シンボルsを通信路Hに通しノイズnをのせる\n",
        "  symbolTransported = channel.transport(symbol)\n",
        "\n",
        "  symbolNoized = awgnAdder.addAwgn(\n",
        "                                    symbolTransported, \n",
        "                                    calcVariance(\n",
        "                                        rate = SNR[n], rateMode = rateMode,\n",
        "                                        M = M, P_S = powerOfSignal)\n",
        "                                  )\n",
        "  \n",
        "  #復調\n",
        "  dataDemodulated = demodulator.demodulate(symbolNoized)\n",
        "\n",
        "  #元のデータと復調データを照らし合わせてSER計算\n",
        "  ser = errorCalculator.calcSER(dataOrigin, dataDemodulated)\n",
        "\n",
        "  SER_EbN0_QPSK[n] = ser\n",
        "  print(\"EbN0 :{} SER:{}\".format(EbN0[n], ser) )"
      ],
      "metadata": {
        "colab": {
          "base_uri": "https://localhost:8080/"
        },
        "outputId": "10bad337-7e3a-4de2-c129-9d9ad6d227f6",
        "id": "8TQV0siqEZjN"
      },
      "execution_count": null,
      "outputs": [
        {
          "output_type": "stream",
          "name": "stdout",
          "text": [
            "EbN0 :0.0 SER:0.150999\n",
            "EbN0 :1.0 SER:0.109952\n",
            "EbN0 :2.0 SER:0.074074\n",
            "EbN0 :3.0 SER:0.045463\n",
            "EbN0 :4.0 SER:0.025075\n",
            "EbN0 :5.0 SER:0.01182\n",
            "EbN0 :6.0 SER:0.004859\n",
            "EbN0 :7.0 SER:0.001506\n",
            "EbN0 :8.0 SER:0.000394\n",
            "EbN0 :9.0 SER:6.1e-05\n",
            "EbN0 :10.0 SER:1.7e-05\n",
            "EbN0 :11.0 SER:0.0\n",
            "EbN0 :12.0 SER:0.0\n",
            "EbN0 :13.0 SER:0.0\n",
            "EbN0 :14.0 SER:0.0\n",
            "EbN0 :15.0 SER:0.0\n",
            "EbN0 :16.0 SER:0.0\n",
            "EbN0 :17.0 SER:0.0\n",
            "EbN0 :18.0 SER:0.0\n",
            "EbN0 :19.0 SER:0.0\n",
            "EbN0 :20.0 SER:0.0\n",
            "EbN0 :21.0 SER:0.0\n",
            "EbN0 :22.0 SER:0.0\n",
            "EbN0 :23.0 SER:0.0\n",
            "EbN0 :24.0 SER:0.0\n",
            "EbN0 :25.0 SER:0.0\n",
            "EbN0 :26.0 SER:0.0\n",
            "EbN0 :27.0 SER:0.0\n",
            "EbN0 :28.0 SER:0.0\n",
            "EbN0 :29.0 SER:0.0\n",
            "EbN0 :30.0 SER:0.0\n"
          ]
        }
      ]
    },
    {
      "cell_type": "code",
      "source": [
        "np.savetxt(\"SER_EbN0_QPSK.csv\", np.stack([\n",
        "    EbN0,\n",
        "    SER_EbN0_QPSK\n",
        "]))"
      ],
      "metadata": {
        "id": "v_INjqRr_cNR"
      },
      "execution_count": null,
      "outputs": []
    },
    {
      "cell_type": "code",
      "source": [
        "plt.plot(\n",
        "    SNR,\n",
        "    special.erfc( np.sqrt( 1.0/2.0 * 2 * np.power(10, SNR/10.0) ) ) * (\n",
        "        1.0 - 1.0/4.0 * special.erfc(\n",
        "        np.sqrt( 1.0/2.0 * 2 * np.power(10, SNR / 10.0 ) )\n",
        "      )\n",
        "    )\n",
        "    ,\n",
        "    ':c',\n",
        "    label = \"Theoretical value\"\n",
        ")\n",
        "\n",
        "plt.plot(\n",
        "    np.loadtxt(\"SER_EbN0_QPSK.csv\")[0],\n",
        "    np.loadtxt(\"SER_EbN0_QPSK.csv\")[1],\n",
        "    'ob',\n",
        "    label = \"QPSK simulated\"\n",
        ")\n",
        "\n",
        "plt.yscale('log')\n",
        "\n",
        "plt.xlabel(\"$E_b/N_0$[dB]\")\n",
        "plt.ylabel(\"SER\")\n",
        "\n",
        "plt.ylim(10 ** (-6), 1)\n",
        "\n",
        "plt.legend()\n",
        "\n",
        "plt.savefig(\"SER_EbN0_QPSK.png\")\n",
        "\n",
        "plt.show()"
      ],
      "metadata": {
        "colab": {
          "base_uri": "https://localhost:8080/",
          "height": 289
        },
        "outputId": "e71bd019-159f-4c93-fd67-11bde2f67596",
        "id": "L_4ZiGsGEZjN"
      },
      "execution_count": null,
      "outputs": [
        {
          "output_type": "display_data",
          "data": {
            "text/plain": [
              "<Figure size 432x288 with 1 Axes>"
            ],
            "image/png": "[encoded data removed]"
          },
          "metadata": {
            "needs_background": "light"
          }
        }
      ]
    },
    {
      "cell_type": "markdown",
      "source": [
        "####  BER - E_b/N_0"
      ],
      "metadata": {
        "id": "cgC2E6D7SfmJ"
      }
    },
    {
      "cell_type": "markdown",
      "source": [
        "パラメータ\n",
        "\n",
        "|    |    |\n",
        "| ---- | ---- |\n",
        "| 変調方式 | PSK |\n",
        "| 多値数 | 4(QPSK) |\n",
        "|  試行回数  |  100万回  |\n",
        "|  $E_b/N_0$  |  0[dB]~30[dB]  |\n",
        "| 送信電力 | 1 |"
      ],
      "metadata": {
        "id": "8cNOOEPqVRxq"
      }
    },
    {
      "cell_type": "code",
      "source": [
        "#誤り基準\n",
        "errorMode = \"BER\"\n",
        "\n",
        "#変調方式\n",
        "mode = \"PSK\"\n",
        "\n",
        "#多値数\n",
        "M = 2\n",
        "\n",
        "#試行回数\n",
        "informationSize = 1000000\n",
        "\n",
        "#EbN0\n",
        "rateMode = \"EbN0\"\n",
        "EbN0_MIN = 0\n",
        "EbN0_MAX = 30\n",
        "\n",
        "#定義域(SNR)\n",
        "N = (EbN0_MAX - EbN0_MIN) + 1\n",
        "EbN0 = np.linspace(EbN0_MIN, EbN0_MAX, N)\n",
        "\n",
        "#送信電力\n",
        "powerOfSignal = 1.0"
      ],
      "metadata": {
        "id": "glfT6uQ8Svq4"
      },
      "execution_count": null,
      "outputs": []
    },
    {
      "cell_type": "code",
      "source": [
        "modulator = Modulator(M = M, mode = mode, powerOfSignal = powerOfSignal)\n",
        "channel = Channel(channelMatrix = np.array([1]) )\n",
        "awgnAdder = AwgnAdder()\n",
        "demodulator = Demodulator(M = M, mode = mode, powerOfSignal = powerOfSignal)\n",
        "\n",
        "errorCalculator = ErrorCalculator(M = M, errorMode = errorMode)\n",
        "\n",
        "dataOrigin = np.random.randint(low = 0, high = 1 << M, size = [1, informationSize])\n",
        "symbol = modulator.modulate(dataOrigin)"
      ],
      "metadata": {
        "id": "51-MBZIJXW0O"
      },
      "execution_count": null,
      "outputs": []
    },
    {
      "cell_type": "code",
      "source": [
        "BER_EbN0_QPSK = np.zeros(shape = EbN0.shape)\n",
        "\n",
        "for n in range(N):\n",
        "  #シンボルsを通信路Hに通しノイズnをのせる\n",
        "  symbolTransported = channel.transport(symbol)\n",
        "\n",
        "  symbolNoized = awgnAdder.addAwgn(\n",
        "                                    symbolTransported, \n",
        "                                    calcVariance(\n",
        "                                        rate = EbN0[n], rateMode = rateMode,\n",
        "                                        M = M, P_S = powerOfSignal)\n",
        "                                  )\n",
        "  \n",
        "  #復調\n",
        "  dataDemodulated = demodulator.demodulate(symbolNoized)\n",
        "\n",
        "  #元のデータと復調データを照らし合わせてBER計算\n",
        "  ber = errorCalculator.calcError(dataOrigin, dataDemodulated)\n",
        "\n",
        "  BER_EbN0_QPSK[n] = ber\n",
        "  print(\"EbN0: {} BER: {}\".format( EbN0[n], ber) )\n",
        "\n",
        "np.savetxt(path + \"/BER_EbN0_QPSK.csv\", np.stack([\n",
        "    EbN0,\n",
        "    BER_EbN0_QPSK\n",
        "]))"
      ],
      "metadata": {
        "colab": {
          "base_uri": "https://localhost:8080/"
        },
        "id": "jwQvFhDMXXoG",
        "outputId": "4e9fa05d-b336-4efd-c537-6d369ad4896a"
      },
      "execution_count": null,
      "outputs": [
        {
          "output_type": "stream",
          "name": "stdout",
          "text": [
            "EbN0: 0.0 BER: 0.078756\n",
            "EbN0: 1.0 BER: 0.056095\n",
            "EbN0: 2.0 BER: 0.037605\n",
            "EbN0: 3.0 BER: 0.0228855\n",
            "EbN0: 4.0 BER: 0.0125165\n",
            "EbN0: 5.0 BER: 0.0058905\n",
            "EbN0: 6.0 BER: 0.0023745\n",
            "EbN0: 7.0 BER: 0.0007415\n",
            "EbN0: 8.0 BER: 0.0001855\n",
            "EbN0: 9.0 BER: 3.1e-05\n",
            "EbN0: 10.0 BER: 5e-06\n",
            "EbN0: 11.0 BER: 0.0\n",
            "EbN0: 12.0 BER: 0.0\n",
            "EbN0: 13.0 BER: 0.0\n",
            "EbN0: 14.0 BER: 0.0\n",
            "EbN0: 15.0 BER: 0.0\n",
            "EbN0: 16.0 BER: 0.0\n",
            "EbN0: 17.0 BER: 0.0\n",
            "EbN0: 18.0 BER: 0.0\n",
            "EbN0: 19.0 BER: 0.0\n",
            "EbN0: 20.0 BER: 0.0\n",
            "EbN0: 21.0 BER: 0.0\n",
            "EbN0: 22.0 BER: 0.0\n",
            "EbN0: 23.0 BER: 0.0\n",
            "EbN0: 24.0 BER: 0.0\n",
            "EbN0: 25.0 BER: 0.0\n",
            "EbN0: 26.0 BER: 0.0\n",
            "EbN0: 27.0 BER: 0.0\n",
            "EbN0: 28.0 BER: 0.0\n",
            "EbN0: 29.0 BER: 0.0\n",
            "EbN0: 30.0 BER: 0.0\n"
          ]
        }
      ]
    },
    {
      "cell_type": "markdown",
      "metadata": {
        "id": "lhJFH1flrChg"
      },
      "source": [
        "##### 実行結果"
      ]
    },
    {
      "cell_type": "code",
      "execution_count": null,
      "metadata": {
        "colab": {
          "base_uri": "https://localhost:8080/",
          "height": 289
        },
        "id": "jcsbQ04esrIp",
        "outputId": "196f1903-d6ef-4a63-8332-3ad8122e15ea"
      },
      "outputs": [
        {
          "output_type": "display_data",
          "data": {
            "text/plain": [
              "<Figure size 432x288 with 1 Axes>"
            ],
            "image/png": "[encoded data removed]"
          },
          "metadata": {
            "needs_background": "light"
          }
        }
      ],
      "source": [
        "#理論式\n",
        "mode = \"PSK\"\n",
        "gammaMode = \"EbN0\"\n",
        "N = (EbN0_MAX - EbN0_MIN) + 1\n",
        "EbN0 = np.linspace(EbN0_MIN, EbN0_MAX, N)\n",
        "errorMode = \"BER\"\n",
        "\n",
        "plt.plot(\n",
        "    EbN0,\n",
        "    errorTheoreticalValue(\n",
        "        M = 2,\n",
        "        mode = mode,\n",
        "        gammaMode = gammaMode,\n",
        "        gamma = np.power(10.0, EbN0/10.0),\n",
        "        errorMode = errorMode\n",
        "    ),\n",
        "    ':c',\n",
        "    label = \"QPSK Theoretical Value\"\n",
        ")\n",
        "\n",
        "\n",
        "#実験結果\n",
        "plt.plot(\n",
        "    np.loadtxt(path + \"/BER_EbN0_QPSK.csv\")[0],\n",
        "    np.loadtxt(path + \"/BER_EbN0_QPSK.csv\")[1],\n",
        "    'ob',\n",
        "    label = \"QPSK simulated\"\n",
        ")\n",
        "\n",
        "plt.yscale('log')\n",
        "\n",
        "plt.xlabel(\"$E_b/N_0$[dB]\")\n",
        "plt.ylabel(\"BER\")\n",
        "\n",
        "plt.ylim(10 ** (-6), 1)\n",
        "\n",
        "plt.legend()\n",
        "\n",
        "plt.savefig(path + \"/BER_EbN0_QPSK.png\")\n",
        "\n",
        "plt.show()"
      ]
    },
    {
      "cell_type": "markdown",
      "source": [
        "### 8PSK"
      ],
      "metadata": {
        "id": "wQJZL2xNHxvI"
      }
    },
    {
      "cell_type": "markdown",
      "source": [
        "#### SER-Eb/N0"
      ],
      "metadata": {
        "id": "ek0P7OweHxvV"
      }
    },
    {
      "cell_type": "markdown",
      "metadata": {
        "id": "mFEDUCV3HxvV"
      },
      "source": [
        "パラメータ\n",
        "\n",
        "|    |    |\n",
        "| ---- | ---- |\n",
        "| 変調方式 | PSK |\n",
        "| 多値数 | 8 |\n",
        "|  試行回数  |  100万回  |\n",
        "|  $E_b/N_0$  |  0[dB]~30[dB]  |\n",
        "| 送信電力 | 1 |"
      ]
    },
    {
      "cell_type": "code",
      "execution_count": null,
      "metadata": {
        "id": "j-P-8e8iHxvV"
      },
      "outputs": [],
      "source": [
        "#誤り基準\n",
        "errorMode = \"SER\"\n",
        "\n",
        "#変調方式\n",
        "mode = \"PSK\"\n",
        "\n",
        "#多値数\n",
        "M = 3\n",
        "\n",
        "#試行回数\n",
        "iterationNum = 1000000\n",
        "\n",
        "#Eb/N0\n",
        "rateMode = \"EbN0\"\n",
        "EbN0_MIN = 0\n",
        "EbN0_MAX = 30\n",
        "\n",
        "#定義域\n",
        "N = (EbN0_MAX - EbN0_MIN) + 1\n",
        "EbN0 = np.linspace(EbN0_MIN, EbN0_MAX, N)\n",
        "\n",
        "#送信電力\n",
        "powerOfSignal = 1.0"
      ]
    },
    {
      "cell_type": "markdown",
      "source": [
        "通信モデル等設定"
      ],
      "metadata": {
        "id": "aC4E5Kh4HxvW"
      }
    },
    {
      "cell_type": "code",
      "execution_count": null,
      "metadata": {
        "id": "qxok_iOVHxvW"
      },
      "outputs": [],
      "source": [
        "modulator = Modulator(M = M, mode = mode, powerOfSignal = powerOfSignal)\n",
        "channel = Channel(channelMatrix = np.array([1]) )\n",
        "awgnAdder = AwgnAdder()\n",
        "demodulator = Demodulator(M = M, mode = mode, powerOfSignal = powerOfSignal)\n",
        "\n",
        "errorCalculator = ErrorCalculator(M = M, errorMode = errorMode)"
      ]
    },
    {
      "cell_type": "code",
      "source": [
        "#乱数データ\n",
        "dataOrigin = np.random.randint(low = 0, high = 1 << M, size = [1, iterationNum])\n",
        "\n",
        "#データを変調しておく\n",
        "symbol = modulator.modulate(dataOrigin)"
      ],
      "metadata": {
        "id": "PeVPTosFHxvW"
      },
      "execution_count": null,
      "outputs": []
    },
    {
      "cell_type": "markdown",
      "metadata": {
        "id": "q4bY1FTOHxvW"
      },
      "source": [
        "##### 実行結果\n",
        "横軸 $E_b/N_0$[dB]，縦軸 SER(対数表示)のグラフを描く."
      ]
    },
    {
      "cell_type": "code",
      "source": [
        "SER_EbN0_8PSK = np.zeros(shape = SNR.shape)\n",
        "\n",
        "for n in range(N):\n",
        "  #シンボルsを通信路Hに通しノイズnをのせる\n",
        "  symbolTransported = channel.transport(symbol)\n",
        "\n",
        "  symbolNoized = awgnAdder.addAwgn(\n",
        "                                    symbolTransported, \n",
        "                                    calcVariance(\n",
        "                                        rate = SNR[n], rateMode = rateMode,\n",
        "                                        M = M, P_S = powerOfSignal)\n",
        "                                  )\n",
        "  \n",
        "  #復調\n",
        "  dataDemodulated = demodulator.demodulate(symbolNoized)\n",
        "\n",
        "  #元のデータと復調データを照らし合わせてSER計算\n",
        "  ser = errorCalculator.calcError(dataOrigin, dataDemodulated)\n",
        "\n",
        "  SER_EbN0_8PSK[n] = ser\n",
        "  print(\"EbN0 :{} SER:{}\".format(EbN0[n], ser) )"
      ],
      "metadata": {
        "colab": {
          "base_uri": "https://localhost:8080/"
        },
        "outputId": "87bba190-7dd6-455c-fdfb-49ea363aaff1",
        "id": "Mv2YZDatHxvX"
      },
      "execution_count": null,
      "outputs": [
        {
          "output_type": "stream",
          "name": "stdout",
          "text": [
            "EbN0 :0.0 SER:0.348035\n",
            "EbN0 :1.0 SER:0.293194\n",
            "EbN0 :2.0 SER:0.237599\n",
            "EbN0 :3.0 SER:0.185289\n",
            "EbN0 :4.0 SER:0.136857\n",
            "EbN0 :5.0 SER:0.095681\n",
            "EbN0 :6.0 SER:0.061024\n",
            "EbN0 :7.0 SER:0.035619\n",
            "EbN0 :8.0 SER:0.018753\n",
            "EbN0 :9.0 SER:0.008267\n",
            "EbN0 :10.0 SER:0.003053\n",
            "EbN0 :11.0 SER:0.000897\n",
            "EbN0 :12.0 SER:0.000206\n",
            "EbN0 :13.0 SER:2.5e-05\n",
            "EbN0 :14.0 SER:2e-06\n",
            "EbN0 :15.0 SER:0.0\n",
            "EbN0 :16.0 SER:0.0\n",
            "EbN0 :17.0 SER:0.0\n",
            "EbN0 :18.0 SER:0.0\n",
            "EbN0 :19.0 SER:0.0\n",
            "EbN0 :20.0 SER:0.0\n",
            "EbN0 :21.0 SER:0.0\n",
            "EbN0 :22.0 SER:0.0\n",
            "EbN0 :23.0 SER:0.0\n",
            "EbN0 :24.0 SER:0.0\n",
            "EbN0 :25.0 SER:0.0\n",
            "EbN0 :26.0 SER:0.0\n",
            "EbN0 :27.0 SER:0.0\n",
            "EbN0 :28.0 SER:0.0\n",
            "EbN0 :29.0 SER:0.0\n",
            "EbN0 :30.0 SER:0.0\n"
          ]
        }
      ]
    },
    {
      "cell_type": "code",
      "source": [
        "np.savetxt(\"SER_EbN0_8PSK.csv\", np.stack([\n",
        "    EbN0,\n",
        "    SER_EbN0_8PSK\n",
        "]))"
      ],
      "metadata": {
        "id": "rc61OwMtHxvY"
      },
      "execution_count": null,
      "outputs": []
    },
    {
      "cell_type": "code",
      "source": [
        "EbN0 = np.loadtxt(\"SER_EbN0_8PSK.csv\")[0]\n",
        "\n",
        "plt.plot(\n",
        "    EbN0,\n",
        "    special.erfc(\n",
        "        np.sqrt( M * np.power(10, EbN0/10.0) ) * \n",
        "        np.sin(np.pi/(1<<M))\n",
        "    )\n",
        "    ,\n",
        "    ':y',\n",
        "    label = \"Theoretical value\"\n",
        ")\n",
        "\n",
        "plt.plot(\n",
        "    np.loadtxt(\"SER_EbN0_8PSK.csv\")[0],\n",
        "    np.loadtxt(\"SER_EbN0_8PSK.csv\")[1],\n",
        "    'og',\n",
        "    label = \"QPSK simulated\"\n",
        ")\n",
        "\n",
        "plt.yscale('log')\n",
        "\n",
        "plt.xlabel(\"$E_b/N_0$[dB]\")\n",
        "plt.ylabel(\"SER\")\n",
        "\n",
        "plt.ylim(10 ** (-6), 1)\n",
        "\n",
        "plt.legend()\n",
        "\n",
        "plt.savefig(\"SER_EbN0_8PSK.png\")\n",
        "\n",
        "plt.show()"
      ],
      "metadata": {
        "colab": {
          "base_uri": "https://localhost:8080/",
          "height": 289
        },
        "outputId": "dedd40ad-d5ce-4794-e740-d8a0a0d89882",
        "id": "Okgl8TwKHxvY"
      },
      "execution_count": null,
      "outputs": [
        {
          "output_type": "display_data",
          "data": {
            "text/plain": [
              "<Figure size 432x288 with 1 Axes>"
            ],
            "image/png": "[encoded data removed]"
          },
          "metadata": {
            "needs_background": "light"
          }
        }
      ]
    },
    {
      "cell_type": "markdown",
      "source": [
        "####  BER - E_b/N_0"
      ],
      "metadata": {
        "id": "5HlL3LcpHxvY"
      }
    },
    {
      "cell_type": "markdown",
      "source": [
        "パラメータ\n",
        "\n",
        "|    |    |\n",
        "| ---- | ---- |\n",
        "| 変調方式 | PSK |\n",
        "| 多値数 | 8 |\n",
        "|  試行回数  |  100万回  |\n",
        "|  $E_b/N_0$  |  0[dB]~30[dB]  |\n",
        "| 送信電力 | 1 |"
      ],
      "metadata": {
        "id": "SAxDn7dtHxvY"
      }
    },
    {
      "cell_type": "code",
      "source": [
        "#誤り基準\n",
        "errorMode = \"BER\"\n",
        "\n",
        "#変調方式\n",
        "mode = \"PSK\"\n",
        "\n",
        "#多値数\n",
        "M = 3\n",
        "\n",
        "#試行回数\n",
        "informationSize = 1000000\n",
        "\n",
        "#EbN0\n",
        "rateMode = \"EbN0\"\n",
        "EbN0_MIN = 0\n",
        "EbN0_MAX = 30\n",
        "\n",
        "#定義域(SNR)\n",
        "N = (EbN0_MAX - EbN0_MIN) + 1\n",
        "EbN0 = np.linspace(EbN0_MIN, EbN0_MAX, N)\n",
        "\n",
        "#送信電力\n",
        "powerOfSignal = 1.0"
      ],
      "metadata": {
        "id": "O-_dxZlDHxvY"
      },
      "execution_count": null,
      "outputs": []
    },
    {
      "cell_type": "code",
      "source": [
        "modulator = Modulator(M = M, mode = mode, powerOfSignal = powerOfSignal)\n",
        "channel = Channel(channelMatrix = np.array([1]) )\n",
        "awgnAdder = AwgnAdder()\n",
        "demodulator = Demodulator(M = M, mode = mode, powerOfSignal = powerOfSignal)\n",
        "\n",
        "errorCalculator = ErrorCalculator(M = M, errorMode = errorMode)\n",
        "\n",
        "dataOrigin = np.random.randint(low = 0, high = 1 << M, size = [1, informationSize])\n",
        "symbol = modulator.modulate(dataOrigin)"
      ],
      "metadata": {
        "id": "IQE3KX8YHxvY"
      },
      "execution_count": null,
      "outputs": []
    },
    {
      "cell_type": "code",
      "source": [
        "BER_EbN0_8PSK = np.zeros(shape = EbN0.shape)\n",
        "\n",
        "for n in range(N):\n",
        "  #シンボルsを通信路Hに通しノイズnをのせる\n",
        "  symbolTransported = channel.transport(symbol)\n",
        "\n",
        "  symbolNoized = awgnAdder.addAwgn(\n",
        "                                    symbolTransported, \n",
        "                                    calcVariance(\n",
        "                                        rate = EbN0[n], rateMode = rateMode,\n",
        "                                        M = M, P_S = powerOfSignal)\n",
        "                                  )\n",
        "  \n",
        "  #復調\n",
        "  dataDemodulated = demodulator.demodulate(symbolNoized)\n",
        "\n",
        "  #元のデータと復調データを照らし合わせてBER計算\n",
        "  ber = errorCalculator.calcError(dataOrigin, dataDemodulated)\n",
        "\n",
        "  BER_EbN0_8PSK[n] = ber\n",
        "  print(\"EbN0: {} BER: {}\".format( EbN0[n], ber) )\n",
        "\n",
        "np.savetxt(path + \"/BER_EbN0_8PSK.csv\", np.stack([\n",
        "    EbN0,\n",
        "    BER_EbN0_8PSK\n",
        "]))"
      ],
      "metadata": {
        "colab": {
          "base_uri": "https://localhost:8080/"
        },
        "outputId": "1ed9c4dc-0ae7-4b68-b1b0-7c7e4ffd8d57",
        "id": "9Buo-IRhHxvY"
      },
      "execution_count": null,
      "outputs": [
        {
          "output_type": "stream",
          "name": "stdout",
          "text": [
            "EbN0: 0.0 BER: 0.14718066666666665\n",
            "EbN0: 1.0 BER: 0.12328566666666667\n",
            "EbN0: 2.0 BER: 0.09958166666666667\n",
            "EbN0: 3.0 BER: 0.07723933333333333\n",
            "EbN0: 4.0 BER: 0.057114333333333336\n",
            "EbN0: 5.0 BER: 0.039870666666666665\n",
            "EbN0: 6.0 BER: 0.025568333333333332\n",
            "EbN0: 7.0 BER: 0.014918333333333334\n",
            "EbN0: 8.0 BER: 0.007782666666666667\n",
            "EbN0: 9.0 BER: 0.003374\n",
            "EbN0: 10.0 BER: 0.0012963333333333334\n",
            "EbN0: 11.0 BER: 0.0003446666666666667\n",
            "EbN0: 12.0 BER: 7.833333333333333e-05\n",
            "EbN0: 13.0 BER: 1.4333333333333334e-05\n",
            "EbN0: 14.0 BER: 1e-06\n",
            "EbN0: 15.0 BER: 0.0\n",
            "EbN0: 16.0 BER: 0.0\n",
            "EbN0: 17.0 BER: 0.0\n",
            "EbN0: 18.0 BER: 0.0\n",
            "EbN0: 19.0 BER: 0.0\n",
            "EbN0: 20.0 BER: 0.0\n",
            "EbN0: 21.0 BER: 0.0\n",
            "EbN0: 22.0 BER: 0.0\n",
            "EbN0: 23.0 BER: 0.0\n",
            "EbN0: 24.0 BER: 0.0\n",
            "EbN0: 25.0 BER: 0.0\n",
            "EbN0: 26.0 BER: 0.0\n",
            "EbN0: 27.0 BER: 0.0\n",
            "EbN0: 28.0 BER: 0.0\n",
            "EbN0: 29.0 BER: 0.0\n",
            "EbN0: 30.0 BER: 0.0\n"
          ]
        }
      ]
    },
    {
      "cell_type": "code",
      "source": [
        "np.savetxt(\"BER_EbN0_8PSK.csv\", np.stack([\n",
        "    EbN0,\n",
        "    BER_EbN0_8PSK\n",
        "]))"
      ],
      "metadata": {
        "id": "uDa-e7OGHxvZ"
      },
      "execution_count": null,
      "outputs": []
    },
    {
      "cell_type": "markdown",
      "metadata": {
        "id": "jZnfpcNeHxvZ"
      },
      "source": [
        "##### 実行結果"
      ]
    },
    {
      "cell_type": "code",
      "execution_count": null,
      "metadata": {
        "colab": {
          "base_uri": "https://localhost:8080/",
          "height": 289
        },
        "outputId": "6e4d7bf1-e609-4758-d836-ba2d0b52cb38",
        "id": "YzjeUiOwHxvZ"
      },
      "outputs": [
        {
          "output_type": "display_data",
          "data": {
            "text/plain": [
              "<Figure size 432x288 with 1 Axes>"
            ],
            "image/png": "[encoded data removed]"
          },
          "metadata": {
            "needs_background": "light"
          }
        }
      ],
      "source": [
        "#実験結果\n",
        "plt.plot(\n",
        "    np.loadtxt(path + \"/BER_EbN0_8PSK.csv\")[0],\n",
        "    np.loadtxt(path + \"/BER_EbN0_8PSK.csv\")[1],\n",
        "    'og',\n",
        "    label = \"8PSK simulated\"\n",
        ")\n",
        "\n",
        "\n",
        "#理論式\n",
        "mode = \"PSK\"\n",
        "gammaMode = \"EbN0\"\n",
        "N = (EbN0_MAX - EbN0_MIN) + 1\n",
        "EbN0 = np.linspace(EbN0_MIN, EbN0_MAX, N)\n",
        "errorMode = \"BER\"\n",
        "\n",
        "\n",
        "plt.plot(\n",
        "    EbN0,\n",
        "    errorTheoreticalValue(\n",
        "        M = 3,\n",
        "        mode = mode,\n",
        "        gammaMode = gammaMode,\n",
        "        gamma = np.power(10.0, EbN0/10.0),\n",
        "        errorMode = errorMode\n",
        "    ),\n",
        "    ':y',\n",
        "    label = \"8PSK Theoretical Value\"\n",
        ")\n",
        "\n",
        "\n",
        "plt.yscale('log')\n",
        "\n",
        "plt.xlabel(\"$E_b/N_0$[dB]\")\n",
        "plt.ylabel(\"BER\")\n",
        "\n",
        "plt.ylim(10 ** (-6), 1)\n",
        "\n",
        "plt.legend()\n",
        "\n",
        "plt.savefig(path + \"/BER_EbN0_8PSK.png\")\n",
        "\n",
        "plt.show()"
      ]
    },
    {
      "cell_type": "markdown",
      "metadata": {
        "id": "xr17OmcEaEkh"
      },
      "source": [
        "## simulation of MQAM"
      ]
    },
    {
      "cell_type": "markdown",
      "source": [
        "### 16QAM\n"
      ],
      "metadata": {
        "id": "uGXofj3zY-Cj"
      }
    },
    {
      "cell_type": "markdown",
      "source": [
        "#### BER-Eb/N0\n",
        "\n",
        "パラメータ\n",
        "\n",
        "|    |    |\n",
        "| ---- | ---- |\n",
        "| 変調方式 | QAM |\n",
        "| 多値数 | 16 |\n",
        "|  試行回数  |  100万回  |\n",
        "|  $E_b/N_0$  |  0[dB]~30[dB]  |\n",
        "| 送信電力 | 1 |"
      ],
      "metadata": {
        "id": "sFSEihJcdh4v"
      }
    },
    {
      "cell_type": "code",
      "source": [
        "#誤り基準\n",
        "errorMode = \"BER\"\n",
        "\n",
        "#変調方式\n",
        "mode = \"QAM\"\n",
        "\n",
        "#多値数\n",
        "M = 4\n",
        "\n",
        "#試行回数\n",
        "iterationNum = 1000000\n",
        "\n",
        "#Eb/N0\n",
        "rateMode = \"EbN0\"\n",
        "EbN0_MIN = 0\n",
        "EbN0_MAX = 30\n",
        "\n",
        "#定義域(SNR)\n",
        "N = (EbN0_MAX - EbN0_MIN) + 1\n",
        "EbN0 = np.linspace(EbN0_MIN, EbN0_MAX, N)\n",
        "\n",
        "#送信電力\n",
        "powerOfSignal = 1.0"
      ],
      "metadata": {
        "id": "5rJrWVmfZawJ"
      },
      "execution_count": null,
      "outputs": []
    },
    {
      "cell_type": "code",
      "source": [
        "modulator = Modulator(M = M, mode = mode, powerOfSignal = powerOfSignal)\n",
        "channel = Channel(channelMatrix = np.array([1]) )\n",
        "awgnAdder = AwgnAdder()\n",
        "demodulator = Demodulator(M = M, mode = mode, powerOfSignal = powerOfSignal)\n",
        "\n",
        "errorCalculator = ErrorCalculator(M = M, errorMode = errorMode)\n",
        "\n",
        "dataOrigin = np.random.randint(low = 0, high = 1 << M, size = [1, iterationNum])\n",
        "symbol = modulator.modulate(dataOrigin)"
      ],
      "metadata": {
        "id": "riibkClZahDR"
      },
      "execution_count": null,
      "outputs": []
    },
    {
      "cell_type": "markdown",
      "source": [
        "実行"
      ],
      "metadata": {
        "id": "m8056HYFasZ6"
      }
    },
    {
      "cell_type": "code",
      "source": [
        "BER_EbN0_16QAM = np.zeros(shape = EbN0.shape)\n",
        "\n",
        "for n in range(N):\n",
        "  #シンボルsを通信路Hに通しノイズnをのせる\n",
        "  symbolTransported = channel.transport(symbol)\n",
        "\n",
        "  symbolNoized = awgnAdder.addAwgn(\n",
        "                                    symbolTransported, \n",
        "                                    calcVariance(\n",
        "                                        rate = EbN0[n], rateMode = rateMode,\n",
        "                                        M = M, P_S = powerOfSignal)\n",
        "                                  )\n",
        "  \n",
        "  #復調\n",
        "  dataDemodulated = demodulator.demodulate(symbolNoized)\n",
        "\n",
        "  #元のデータと復調データを照らし合わせてBER計算\n",
        "  ber = errorCalculator.calcBER(dataOrigin, dataDemodulated)\n",
        "\n",
        "  BER_EbN0_16QAM[n] = ber\n",
        "  print(\"{} ber: {}\".format(EbN0[n], ber) )\n",
        "\n",
        "#保存\n",
        "np.savetxt(path + \"BER_EbN0_16QAM.csv\", np.stack([\n",
        "    EbN0,\n",
        "    BER_EbN0_16QAM\n",
        "]))"
      ],
      "metadata": {
        "colab": {
          "base_uri": "https://localhost:8080/"
        },
        "id": "2ZvnldPUauk2",
        "outputId": "4c20d766-774f-459a-b4bd-19abb3da012c"
      },
      "execution_count": null,
      "outputs": [
        {
          "output_type": "stream",
          "name": "stdout",
          "text": [
            "0.0 ber: 0.140731\n",
            "1.0 ber: 0.11884125\n",
            "2.0 ber: 0.09779325\n",
            "3.0 ber: 0.07745675\n",
            "4.0 ber: 0.0588655\n",
            "5.0 ber: 0.04184725\n",
            "6.0 ber: 0.02785675\n",
            "7.0 ber: 0.01691075\n",
            "8.0 ber: 0.00927025\n",
            "9.0 ber: 0.00446\n",
            "10.0 ber: 0.00176675\n",
            "11.0 ber: 0.00057325\n",
            "12.0 ber: 0.0001265\n",
            "13.0 ber: 2.375e-05\n",
            "14.0 ber: 3e-06\n",
            "15.0 ber: 0.0\n",
            "16.0 ber: 0.0\n",
            "17.0 ber: 0.0\n",
            "18.0 ber: 0.0\n",
            "19.0 ber: 0.0\n",
            "20.0 ber: 0.0\n",
            "21.0 ber: 0.0\n",
            "22.0 ber: 0.0\n",
            "23.0 ber: 0.0\n",
            "24.0 ber: 0.0\n",
            "25.0 ber: 0.0\n",
            "26.0 ber: 0.0\n",
            "27.0 ber: 0.0\n",
            "28.0 ber: 0.0\n",
            "29.0 ber: 0.0\n",
            "30.0 ber: 0.0\n"
          ]
        }
      ]
    },
    {
      "cell_type": "code",
      "source": [
        "path = \"/content/drive/My Drive/Colab Notebooks\""
      ],
      "metadata": {
        "id": "5TUb5DMwMsEE"
      },
      "execution_count": null,
      "outputs": []
    },
    {
      "cell_type": "code",
      "source": [
        "np.savetxt(path + \"/BER_EbN0_16QAM.csv\", np.stack([\n",
        "    EbN0,\n",
        "    BER_EbN0_16QAM\n",
        "]))"
      ],
      "metadata": {
        "id": "heEQFQFJSzGX"
      },
      "execution_count": null,
      "outputs": []
    },
    {
      "cell_type": "markdown",
      "metadata": {
        "id": "xeU3ceh3ahPd"
      },
      "source": [
        "##### 実行結果"
      ]
    },
    {
      "cell_type": "code",
      "execution_count": null,
      "metadata": {
        "colab": {
          "base_uri": "https://localhost:8080/",
          "height": 289
        },
        "id": "fTQj1weYfaab",
        "outputId": "cef43942-c122-4e3e-9a86-16e5accce0bf"
      },
      "outputs": [
        {
          "output_type": "display_data",
          "data": {
            "text/plain": [
              "<Figure size 432x288 with 1 Axes>"
            ],
            "image/png": "[encoded data removed]"
          },
          "metadata": {
            "needs_background": "light"
          }
        }
      ],
      "source": [
        "#16QAMの実行結果\n",
        "plt.plot(\n",
        "    np.loadtxt(path + \"BER_EbN0_16QAM.csv\")[0],\n",
        "    np.loadtxt(path + \"BER_EbN0_16QAM.csv\")[1],\n",
        "    'or',\n",
        "    label = \"16QAM\"\n",
        ")\n",
        "\n",
        "plt.yscale('log')\n",
        "\n",
        "plt.xlim( 0, 30 )\n",
        "plt.ylim( 5.0 * 10 ** (-5), 1 )\n",
        "\n",
        "plt.xlabel(\"$E_b/N_0$[dB]\")\n",
        "plt.ylabel(\"BER\")\n",
        "\n",
        "plt.legend()\n",
        "\n",
        "plt.savefig(path + \"/BER_EbN0_16QAM.png\")\n",
        "\n",
        "plt.show()"
      ]
    },
    {
      "cell_type": "markdown",
      "source": [
        "#### SER-Eb/N0\n",
        "\n",
        "パラメータ\n",
        "\n",
        "|    |    |\n",
        "| ---- | ---- |\n",
        "| 変調方式 | PSK |\n",
        "| 多値数 | 16 |\n",
        "|  試行回数  |  100万回  |\n",
        "|  $E_b/N_0$  |  0[dB]~30[dB]  |\n",
        "| 送信電力 | 1 |"
      ],
      "metadata": {
        "id": "n3fWKsO7dwQX"
      }
    },
    {
      "cell_type": "code",
      "source": [
        "#誤り基準\n",
        "errorMode = \"SER\"\n",
        "\n",
        "#変調方式\n",
        "mode = \"QAM\"\n",
        "\n",
        "#多値数\n",
        "M = 4\n",
        "\n",
        "#試行回数\n",
        "iterationNum = 1000000\n",
        "\n",
        "#SNR\n",
        "rateMode = \"EbN0\"\n",
        "EbN0_MIN = 0\n",
        "EbN0_MAX = 30\n",
        "\n",
        "#定義域\n",
        "N = (EbN0_MAX - EbN0_MIN) + 1\n",
        "EbN0 = np.linspace(EbN0_MIN, EbN0_MAX, N)\n",
        "\n",
        "#送信電力\n",
        "powerOfSignal = 1.0"
      ],
      "metadata": {
        "id": "xiJ0h1b7dwQX"
      },
      "execution_count": null,
      "outputs": []
    },
    {
      "cell_type": "code",
      "source": [
        "modulator = Modulator(M = M, mode = mode, powerOfSignal = powerOfSignal)\n",
        "channel = Channel(channelMatrix = np.array([1]) )\n",
        "awgnAdder = AwgnAdder()\n",
        "demodulator = Demodulator(M = M, mode = mode, powerOfSignal = powerOfSignal)\n",
        "\n",
        "errorCalculator = ErrorCalculator(M = M, errorMode = errorMode)\n",
        "\n",
        "dataOrigin = np.random.randint(low = 0, high = 1 << M, size = [1, iterationNum])\n",
        "symbol = modulator.modulate(dataOrigin)"
      ],
      "metadata": {
        "id": "LcIQJODvdwQX"
      },
      "execution_count": null,
      "outputs": []
    },
    {
      "cell_type": "markdown",
      "source": [
        "実行"
      ],
      "metadata": {
        "id": "0HDj9IrPdwQY"
      }
    },
    {
      "cell_type": "code",
      "source": [
        "SER_EbN0_16QAM = np.zeros(shape = EbN0.shape)\n",
        "\n",
        "for n in range(N):\n",
        "  #シンボルsを通信路Hに通しノイズnをのせる\n",
        "  symbolTransported = channel.transport(symbol)\n",
        "\n",
        "  symbolNoized = awgnAdder.addAwgn(\n",
        "                                    symbolTransported, \n",
        "                                    calcVariance(\n",
        "                                        rate = EbN0[n], rateMode = rateMode,\n",
        "                                        M = M, P_S = powerOfSignal)\n",
        "                                  )\n",
        "  \n",
        "  #復調\n",
        "  dataDemodulated = demodulator.demodulate(symbolNoized)\n",
        "\n",
        "  #元のデータと復調データを照らし合わせてSER計算\n",
        "  ser = errorCalculator.calcError(dataOrigin, dataDemodulated)\n",
        "\n",
        "  SER_EbN0_16QAM[n] = ser\n",
        "  print(\"{}/{} ser: {}\".format(n, N, ser) )\n",
        "\n",
        "np.savetxt(path + \"/SER_EbN0_16QAM.csv\", np.stack([\n",
        "    EbN0,\n",
        "    SER_EbN0_16QAM\n",
        "]))"
      ],
      "metadata": {
        "colab": {
          "base_uri": "https://localhost:8080/"
        },
        "outputId": "f282c205-bcfa-47fe-fa1f-21b7afe2ef5c",
        "id": "vlt6oWtNdwQY"
      },
      "execution_count": null,
      "outputs": [
        {
          "output_type": "stream",
          "name": "stdout",
          "text": [
            "0/31 ser: 0.479909\n",
            "1/31 ser: 0.417485\n",
            "2/31 ser: 0.352704\n",
            "3/31 ser: 0.285459\n",
            "4/31 ser: 0.219899\n",
            "5/31 ser: 0.160634\n",
            "6/31 ser: 0.108523\n",
            "7/31 ser: 0.066771\n",
            "8/31 ser: 0.03679\n",
            "9/31 ser: 0.017442\n",
            "10/31 ser: 0.00707\n",
            "11/31 ser: 0.002263\n",
            "12/31 ser: 0.000629\n",
            "13/31 ser: 9.5e-05\n",
            "14/31 ser: 1.3e-05\n",
            "15/31 ser: 0.0\n",
            "16/31 ser: 0.0\n",
            "17/31 ser: 0.0\n",
            "18/31 ser: 0.0\n",
            "19/31 ser: 0.0\n",
            "20/31 ser: 0.0\n",
            "21/31 ser: 0.0\n",
            "22/31 ser: 0.0\n",
            "23/31 ser: 0.0\n",
            "24/31 ser: 0.0\n",
            "25/31 ser: 0.0\n",
            "26/31 ser: 0.0\n",
            "27/31 ser: 0.0\n",
            "28/31 ser: 0.0\n",
            "29/31 ser: 0.0\n",
            "30/31 ser: 0.0\n"
          ]
        }
      ]
    },
    {
      "cell_type": "markdown",
      "metadata": {
        "id": "CPqLmEpYdwQY"
      },
      "source": [
        "##### 実行結果"
      ]
    },
    {
      "cell_type": "code",
      "execution_count": null,
      "metadata": {
        "colab": {
          "base_uri": "https://localhost:8080/",
          "height": 289
        },
        "outputId": "25c7cbee-8150-4dd5-e9b6-fc242f37b2d3",
        "id": "phciZ8ENdwQY"
      },
      "outputs": [
        {
          "output_type": "display_data",
          "data": {
            "text/plain": [
              "<Figure size 432x288 with 1 Axes>"
            ],
            "image/png": "[encoded data removed]"
          },
          "metadata": {
            "needs_background": "light"
          }
        }
      ],
      "source": [
        "#16QAMの実行結果\n",
        "plt.plot(\n",
        "    np.loadtxt(path + '/SER_EbN0_16QAM.csv')[0],\n",
        "    np.loadtxt(path + '/SER_EbN0_16QAM.csv')[1],\n",
        "    'or',\n",
        "    markersize = 2,\n",
        "    label = \"16QAM\"\n",
        ")\n",
        "\n",
        "plt.yscale('log')\n",
        "\n",
        "plt.xlim( 0, 30 )\n",
        "plt.ylim( 10 ** (-5), 1 )\n",
        "\n",
        "plt.xlabel(\"$E_b/N_0$[dB]\")\n",
        "plt.ylabel(\"SER\")\n",
        "\n",
        "plt.legend()\n",
        "\n",
        "plt.savefig(path + \"/SER_EbN0_16QAM.png\")\n",
        "\n",
        "plt.show()"
      ]
    },
    {
      "cell_type": "markdown",
      "source": [
        "### 64QAM\n"
      ],
      "metadata": {
        "id": "XH1HwIzxaKBW"
      }
    },
    {
      "cell_type": "markdown",
      "source": [
        "#### BER-Eb/N0\n",
        "\n",
        "パラメータ\n",
        "\n",
        "|    |    |\n",
        "| ---- | ---- |\n",
        "| 変調方式 | QAM |\n",
        "| 多値数 | 64 |\n",
        "|  試行回数  |  100万回  |\n",
        "|  $E_b/N_0$  |  0[dB]~30[dB]  |\n",
        "| 送信電力 | 1 |"
      ],
      "metadata": {
        "id": "V28F5MggaKBj"
      }
    },
    {
      "cell_type": "code",
      "source": [
        "#誤り基準\n",
        "errorMode = \"BER\"\n",
        "\n",
        "#変調方式\n",
        "mode = \"QAM\"\n",
        "\n",
        "#多値数\n",
        "M = 6\n",
        "\n",
        "#試行回数\n",
        "iterationNum = 1000000\n",
        "\n",
        "#Eb/N0\n",
        "rateMode = \"EbN0\"\n",
        "EbN0_MIN = 0\n",
        "EbN0_MAX = 30\n",
        "\n",
        "#定義域(SNR)\n",
        "N = (EbN0_MAX - EbN0_MIN) + 1\n",
        "EbN0 = np.linspace(EbN0_MIN, EbN0_MAX, N)\n",
        "\n",
        "#送信電力\n",
        "powerOfSignal = 1.0"
      ],
      "metadata": {
        "id": "fNCHPZ4TaKBj"
      },
      "execution_count": null,
      "outputs": []
    },
    {
      "cell_type": "code",
      "source": [
        "modulator = Modulator(M = M, mode = mode, powerOfSignal = powerOfSignal)\n",
        "channel = Channel(channelMatrix = np.array([1]) )\n",
        "awgnAdder = AwgnAdder()\n",
        "demodulator = Demodulator(M = M, mode = mode, powerOfSignal = powerOfSignal)\n",
        "\n",
        "errorCalculator = ErrorCalculator(M = M, errorMode = errorMode)\n",
        "\n",
        "dataOrigin = np.random.randint(low = 0, high = 1 << M, size = [1, iterationNum])\n",
        "symbol = modulator.modulate(dataOrigin)"
      ],
      "metadata": {
        "id": "0eBTu3U7aKBj"
      },
      "execution_count": null,
      "outputs": []
    },
    {
      "cell_type": "markdown",
      "source": [
        "実行"
      ],
      "metadata": {
        "id": "R5NLKRHkaKBj"
      }
    },
    {
      "cell_type": "code",
      "source": [
        "BER_EbN0_64QAM = np.zeros(shape = EbN0.shape)\n",
        "\n",
        "for n in range(N):\n",
        "  #シンボルsを通信路Hに通しノイズnをのせる\n",
        "  symbolTransported = channel.transport(symbol)\n",
        "\n",
        "  symbolNoized = awgnAdder.addAwgn(\n",
        "                                    symbolTransported, \n",
        "                                    calcVariance(\n",
        "                                        rate = EbN0[n], rateMode = rateMode,\n",
        "                                        M = M, P_S = powerOfSignal)\n",
        "                                  )\n",
        "  \n",
        "  #復調\n",
        "  dataDemodulated = demodulator.demodulate(symbolNoized)\n",
        "\n",
        "  #元のデータと復調データを照らし合わせてBER計算\n",
        "  ber = errorCalculator.calcError(dataOrigin, dataDemodulated)\n",
        "\n",
        "  BER_EbN0_64QAM[n] = ber\n",
        "  print(\"{} ber: {}\".format(EbN0[n], ber) )\n",
        "\n",
        "np.savetxt(path + \"/BER_EbN0_64QAM.csv\", np.stack([\n",
        "    EbN0,\n",
        "    BER_EbN0_64QAM\n",
        "]))"
      ],
      "metadata": {
        "colab": {
          "base_uri": "https://localhost:8080/"
        },
        "outputId": "acb9c153-907f-4920-fb54-a107e1c45832",
        "id": "DohHWfn2aKBj"
      },
      "execution_count": null,
      "outputs": [
        {
          "output_type": "stream",
          "name": "stdout",
          "text": [
            "0.0 ber: 0.21128733333333333\n",
            "1.0 ber: 0.19156716666666668\n",
            "2.0 ber: 0.172226\n",
            "3.0 ber: 0.1531065\n",
            "4.0 ber: 0.13375566666666666\n",
            "5.0 ber: 0.11443616666666667\n",
            "6.0 ber: 0.095591\n",
            "7.0 ber: 0.07698033333333333\n",
            "8.0 ber: 0.0599225\n",
            "9.0 ber: 0.043803666666666664\n",
            "10.0 ber: 0.030280166666666667\n",
            "11.0 ber: 0.019262166666666667\n",
            "12.0 ber: 0.011122666666666666\n",
            "13.0 ber: 0.0056805\n",
            "14.0 ber: 0.0024831666666666665\n",
            "15.0 ber: 0.0008891666666666667\n",
            "16.0 ber: 0.00023933333333333334\n",
            "17.0 ber: 4.933333333333333e-05\n",
            "18.0 ber: 6.5e-06\n",
            "19.0 ber: 3.3333333333333335e-07\n",
            "20.0 ber: 0.0\n",
            "21.0 ber: 0.0\n",
            "22.0 ber: 0.0\n",
            "23.0 ber: 0.0\n",
            "24.0 ber: 0.0\n",
            "25.0 ber: 0.0\n",
            "26.0 ber: 0.0\n",
            "27.0 ber: 0.0\n",
            "28.0 ber: 0.0\n",
            "29.0 ber: 0.0\n",
            "30.0 ber: 0.0\n"
          ]
        }
      ]
    },
    {
      "cell_type": "markdown",
      "metadata": {
        "id": "2oBenpm7aKBk"
      },
      "source": [
        "##### 実行結果"
      ]
    },
    {
      "cell_type": "code",
      "execution_count": null,
      "metadata": {
        "colab": {
          "base_uri": "https://localhost:8080/",
          "height": 289
        },
        "outputId": "0f029ba1-8fd5-443e-dcf6-736cea917a51",
        "id": "f2Q1n3PmaKBk"
      },
      "outputs": [
        {
          "output_type": "display_data",
          "data": {
            "text/plain": [
              "<Figure size 432x288 with 1 Axes>"
            ],
            "image/png": "[encoded data removed]"
          },
          "metadata": {
            "needs_background": "light"
          }
        }
      ],
      "source": [
        "#64QAMの実行結果\n",
        "plt.plot(\n",
        "    np.loadtxt(path + \"/BER_EbN0_64QAM.csv\")[0],\n",
        "    np.loadtxt(path + \"/BER_EbN0_64QAM.csv\")[1],\n",
        "    'ob',\n",
        "    label = \"64QAM\"\n",
        ")\n",
        "\n",
        "plt.yscale('log')\n",
        "\n",
        "plt.xlim( 0, 30 )\n",
        "plt.ylim( 5.0 * 10 ** (-5), 1 )\n",
        "\n",
        "plt.xlabel(\"$E_b/N_0$[dB]\")\n",
        "plt.ylabel(\"BER\")\n",
        "\n",
        "plt.legend()\n",
        "\n",
        "plt.savefig(path + \"/BER_EbN0_64QAM.png\")\n",
        "\n",
        "plt.show()"
      ]
    },
    {
      "cell_type": "markdown",
      "source": [
        "#### SER-Eb/N0\n",
        "\n",
        "パラメータ\n",
        "\n",
        "|    |    |\n",
        "| ---- | ---- |\n",
        "| 変調方式 | PSK |\n",
        "| 多値数 | 16 |\n",
        "|  試行回数  |  100万回  |\n",
        "|  $E_b/N_0$  |  0[dB]~30[dB]  |\n",
        "| 送信電力 | 1 |"
      ],
      "metadata": {
        "id": "gOujHy2Qcmxo"
      }
    },
    {
      "cell_type": "code",
      "source": [
        "#誤り基準\n",
        "errorMode = \"SER\"\n",
        "\n",
        "#変調方式\n",
        "mode = \"QAM\"\n",
        "\n",
        "#多値数\n",
        "M = 6\n",
        "\n",
        "#試行回数\n",
        "iterationNum = 1000000\n",
        "\n",
        "#SNR\n",
        "rateMode = \"EbN0\"\n",
        "EbN0_MIN = 0\n",
        "EbN0_MAX = 30\n",
        "\n",
        "#定義域\n",
        "N = (EbN0_MAX - EbN0_MIN) + 1\n",
        "EbN0 = np.linspace(EbN0_MIN, EbN0_MAX, N)\n",
        "\n",
        "#送信電力\n",
        "powerOfSignal = 1.0"
      ],
      "metadata": {
        "id": "IJvhDr1vaKBk"
      },
      "execution_count": null,
      "outputs": []
    },
    {
      "cell_type": "code",
      "source": [
        "modulator = Modulator(M = M, mode = mode, powerOfSignal = powerOfSignal)\n",
        "channel = Channel(channelMatrix = np.array([1]) )\n",
        "awgnAdder = AwgnAdder()\n",
        "demodulator = Demodulator(M = M, mode = mode, powerOfSignal = powerOfSignal)\n",
        "\n",
        "errorCalculator = ErrorCalculator(M = M, errorMode = errorMode)\n",
        "\n",
        "dataOrigin = np.random.randint(low = 0, high = 1 << M, size = [1, iterationNum])\n",
        "symbol = modulator.modulate(dataOrigin)"
      ],
      "metadata": {
        "id": "7_vUc9ghaKBk"
      },
      "execution_count": null,
      "outputs": []
    },
    {
      "cell_type": "markdown",
      "source": [
        "実行"
      ],
      "metadata": {
        "id": "0BxUB_IuaKBk"
      }
    },
    {
      "cell_type": "code",
      "source": [
        "SER_EbN0_64QAM = np.zeros(shape = EbN0.shape)\n",
        "\n",
        "for n in range(N):\n",
        "  #シンボルsを通信路Hに通しノイズnをのせる\n",
        "  symbolTransported = channel.transport(symbol)\n",
        "\n",
        "  symbolNoized = awgnAdder.addAwgn(\n",
        "                                    symbolTransported, \n",
        "                                    calcVariance(\n",
        "                                        rate = SNR[n], rateMode = rateMode,\n",
        "                                        M = M, P_S = powerOfSignal)\n",
        "                                  )\n",
        "  \n",
        "  #復調\n",
        "  dataDemodulated = demodulator.demodulate(symbolNoized)\n",
        "\n",
        "  #元のデータと復調データを照らし合わせてSER計算\n",
        "  ser = errorCalculator.calcError(dataOrigin, dataDemodulated)\n",
        "\n",
        "  SER_EbN0_64QAM[n] = ser\n",
        "  print(\"{}/{} ser: {}\".format(n, N, ser) )\n",
        "\n",
        "np.savetxt(path + \"/SER_EbN0_64QAM.csv\", np.stack([\n",
        "    EbN0,\n",
        "    SER_EbN0_64QAM\n",
        "]))"
      ],
      "metadata": {
        "colab": {
          "base_uri": "https://localhost:8080/"
        },
        "outputId": "fbbf9499-6295-44d2-a965-74e6e4212f95",
        "id": "q09O9ZClaKBl"
      },
      "execution_count": null,
      "outputs": [
        {
          "output_type": "stream",
          "name": "stdout",
          "text": [
            "0/31 ser: 0.768476\n",
            "1/31 ser: 0.728882\n",
            "2/31 ser: 0.684292\n",
            "3/31 ser: 0.632405\n",
            "4/31 ser: 0.573491\n",
            "5/31 ser: 0.507736\n",
            "6/31 ser: 0.438595\n",
            "7/31 ser: 0.364753\n",
            "8/31 ser: 0.28989\n",
            "9/31 ser: 0.218601\n",
            "10/31 ser: 0.15323\n",
            "11/31 ser: 0.099038\n",
            "12/31 ser: 0.057738\n",
            "13/31 ser: 0.029646\n",
            "14/31 ser: 0.012836\n",
            "15/31 ser: 0.0045\n",
            "16/31 ser: 0.001318\n",
            "17/31 ser: 0.000238\n",
            "18/31 ser: 4.7e-05\n",
            "19/31 ser: 3e-06\n",
            "20/31 ser: 0.0\n",
            "21/31 ser: 0.0\n",
            "22/31 ser: 0.0\n",
            "23/31 ser: 0.0\n",
            "24/31 ser: 0.0\n",
            "25/31 ser: 0.0\n",
            "26/31 ser: 0.0\n",
            "27/31 ser: 0.0\n",
            "28/31 ser: 0.0\n",
            "29/31 ser: 0.0\n",
            "30/31 ser: 0.0\n"
          ]
        }
      ]
    },
    {
      "cell_type": "markdown",
      "metadata": {
        "id": "qGMr65GmaKBl"
      },
      "source": [
        "##### 実行結果"
      ]
    },
    {
      "cell_type": "code",
      "execution_count": null,
      "metadata": {
        "colab": {
          "base_uri": "https://localhost:8080/",
          "height": 289
        },
        "outputId": "eb18f4de-6810-4f19-f6ea-7730e52f059f",
        "id": "t6phuyC-aKBl"
      },
      "outputs": [
        {
          "output_type": "display_data",
          "data": {
            "text/plain": [
              "<Figure size 432x288 with 1 Axes>"
            ],
            "image/png": "[encoded data removed]"
          },
          "metadata": {
            "needs_background": "light"
          }
        }
      ],
      "source": [
        "#64QAMの実行結果\n",
        "plt.plot(\n",
        "    np.loadtxt(path + '/SER_EbN0_64QAM.csv')[0],\n",
        "    np.loadtxt(path + '/SER_EbN0_64QAM.csv')[1],\n",
        "    'ob',\n",
        "    markersize = 2,\n",
        "    label = \"64QAM\"\n",
        ")\n",
        "\n",
        "plt.yscale('log')\n",
        "\n",
        "plt.xlim( 0, 30 )\n",
        "plt.ylim( 10 ** (-5), 1 )\n",
        "\n",
        "plt.xlabel(\"$E_b/N_0$[dB]\")\n",
        "plt.ylabel(\"SER\")\n",
        "\n",
        "plt.legend()\n",
        "\n",
        "plt.savefig(path + \"/SER_EbN0_64QAM.png\")\n",
        "\n",
        "plt.show()"
      ]
    },
    {
      "cell_type": "markdown",
      "source": [
        "### 256QAM\n"
      ],
      "metadata": {
        "id": "5iHGFuiEgd1i"
      }
    },
    {
      "cell_type": "markdown",
      "source": [
        "#### BER-Eb/N0\n",
        "\n",
        "パラメータ\n",
        "\n",
        "|    |    |\n",
        "| ---- | ---- |\n",
        "| 変調方式 | QAM |\n",
        "| 多値数 | 256 |\n",
        "|  試行回数  |  100万回  |\n",
        "|  $E_b/N_0$  |  0[dB]~30[dB]  |\n",
        "| 送信電力 | 1 |"
      ],
      "metadata": {
        "id": "-I6HLTvYgd1v"
      }
    },
    {
      "cell_type": "code",
      "source": [
        "#誤り基準\n",
        "errorMode = \"BER\"\n",
        "\n",
        "#変調方式\n",
        "mode = \"QAM\"\n",
        "\n",
        "#多値数\n",
        "M = 8\n",
        "\n",
        "#試行回数\n",
        "iterationNum = 1000000\n",
        "\n",
        "#Eb/N0\n",
        "rateMode = \"EbN0\"\n",
        "EbN0_MIN = 0\n",
        "EbN0_MAX = 30\n",
        "\n",
        "#定義域(SNR)\n",
        "N = (EbN0_MAX - EbN0_MIN) + 1\n",
        "EbN0 = np.linspace(EbN0_MIN, EbN0_MAX, N)\n",
        "\n",
        "#送信電力\n",
        "powerOfSignal = 1.0"
      ],
      "metadata": {
        "id": "DG4-b90Qgd1v"
      },
      "execution_count": null,
      "outputs": []
    },
    {
      "cell_type": "code",
      "source": [
        "modulator = Modulator(M = M, mode = mode, powerOfSignal = powerOfSignal)\n",
        "channel = Channel(channelMatrix = np.array([1]) )\n",
        "awgnAdder = AwgnAdder()\n",
        "demodulator = Demodulator(M = M, mode = mode, powerOfSignal = powerOfSignal)\n",
        "\n",
        "errorCalculator = ErrorCalculator(M = M, errorMode = errorMode)\n",
        "\n",
        "dataOrigin = np.random.randint(low = 0, high = 1 << M, size = [1, iterationNum])\n",
        "symbol = modulator.modulate(dataOrigin)"
      ],
      "metadata": {
        "id": "BCiEunbzgd1v"
      },
      "execution_count": null,
      "outputs": []
    },
    {
      "cell_type": "markdown",
      "source": [
        "実行"
      ],
      "metadata": {
        "id": "zBqGlkFygd1v"
      }
    },
    {
      "cell_type": "code",
      "source": [
        "BER_EbN0_256QAM = np.zeros(shape = EbN0.shape)\n",
        "\n",
        "for n in range(N):\n",
        "  #シンボルsを通信路Hに通しノイズnをのせる\n",
        "  symbolTransported = channel.transport(symbol)\n",
        "\n",
        "  symbolNoized = awgnAdder.addAwgn(\n",
        "                                    symbolTransported, \n",
        "                                    calcVariance(\n",
        "                                        rate = EbN0[n], rateMode = rateMode,\n",
        "                                        M = M, P_S = powerOfSignal)\n",
        "                                  )\n",
        "  \n",
        "  #復調\n",
        "  dataDemodulated = demodulator.demodulate(symbolNoized)\n",
        "\n",
        "  #元のデータと復調データを照らし合わせてBER計算\n",
        "  ber = errorCalculator.calcError(dataOrigin, dataDemodulated)\n",
        "\n",
        "  BER_EbN0_256QAM[n] = ber\n",
        "  print(\"{} ber: {}\".format(EbN0[n], ber) )\n",
        "\n",
        "np.savetxt(path + \"/BER_EbN0_256QAM.csv\", np.stack([\n",
        "    EbN0,\n",
        "    BER_EbN0_256QAM\n",
        "]))"
      ],
      "metadata": {
        "colab": {
          "base_uri": "https://localhost:8080/"
        },
        "outputId": "d8afff97-29c5-44c2-ff99-f99c56f5b9a2",
        "id": "Vgfuy9Zqgd1v"
      },
      "execution_count": null,
      "outputs": [
        {
          "output_type": "stream",
          "name": "stdout",
          "text": [
            "0.0 ber: 0.263009125\n",
            "1.0 ber: 0.247053375\n",
            "2.0 ber: 0.230735375\n",
            "3.0 ber: 0.21354475\n",
            "4.0 ber: 0.196331\n",
            "5.0 ber: 0.178886875\n",
            "6.0 ber: 0.161292625\n",
            "7.0 ber: 0.143889375\n",
            "8.0 ber: 0.12698925\n",
            "9.0 ber: 0.110336375\n",
            "10.0 ber: 0.093850125\n",
            "11.0 ber: 0.07785925\n",
            "12.0 ber: 0.062335375\n",
            "13.0 ber: 0.048029125\n",
            "14.0 ber: 0.035037375\n",
            "15.0 ber: 0.0238065\n",
            "16.0 ber: 0.014968625\n",
            "17.0 ber: 0.008398625\n",
            "18.0 ber: 0.004193625\n",
            "19.0 ber: 0.00174725\n",
            "20.0 ber: 0.000622125\n",
            "21.0 ber: 0.00016225\n",
            "22.0 ber: 3.5375e-05\n",
            "23.0 ber: 3.5e-06\n",
            "24.0 ber: 2.5e-07\n",
            "25.0 ber: 0.0\n",
            "26.0 ber: 0.0\n",
            "27.0 ber: 0.0\n",
            "28.0 ber: 0.0\n",
            "29.0 ber: 0.0\n",
            "30.0 ber: 0.0\n"
          ]
        }
      ]
    },
    {
      "cell_type": "markdown",
      "metadata": {
        "id": "tXWJA3b-gd1v"
      },
      "source": [
        "##### 実行結果"
      ]
    },
    {
      "cell_type": "code",
      "execution_count": null,
      "metadata": {
        "colab": {
          "base_uri": "https://localhost:8080/",
          "height": 289
        },
        "outputId": "d258f72f-dfd3-41e1-f9cd-d06ee212758a",
        "id": "TbDBUUhAgd1w"
      },
      "outputs": [
        {
          "output_type": "display_data",
          "data": {
            "text/plain": [
              "<Figure size 432x288 with 1 Axes>"
            ],
            "image/png": "[encoded data removed]"
          },
          "metadata": {
            "needs_background": "light"
          }
        }
      ],
      "source": [
        "#256QAMの実行結果\n",
        "plt.plot(\n",
        "    np.loadtxt(path + \"/BER_EbN0_256QAM.csv\")[0],\n",
        "    np.loadtxt(path + \"/BER_EbN0_256QAM.csv\")[1],\n",
        "    'og',\n",
        "    label = \"256QAM\"\n",
        ")\n",
        "\n",
        "plt.yscale('log')\n",
        "\n",
        "plt.xlim( 0, 30 )\n",
        "plt.ylim( 5.0 * 10 ** (-5), 1 )\n",
        "\n",
        "plt.xlabel(\"$E_b/N_0$[dB]\")\n",
        "plt.ylabel(\"BER\")\n",
        "\n",
        "plt.legend()\n",
        "\n",
        "plt.savefig(path + \"/BER_EbN0_256QAM.png\")\n",
        "\n",
        "plt.show()"
      ]
    },
    {
      "cell_type": "markdown",
      "source": [
        "#### SER-Eb/N0\n",
        "\n",
        "パラメータ\n",
        "\n",
        "|    |    |\n",
        "| ---- | ---- |\n",
        "| 変調方式 | PSK |\n",
        "| 多値数 | 256 |\n",
        "|  試行回数  |  100万回  |\n",
        "|  $E_b/N_0$  |  0[dB]~30[dB]  |\n",
        "| 送信電力 | 1 |"
      ],
      "metadata": {
        "id": "DpJyfcO6gd1w"
      }
    },
    {
      "cell_type": "code",
      "source": [
        "#誤り基準\n",
        "errorMode = \"SER\"\n",
        "\n",
        "#変調方式\n",
        "mode = \"QAM\"\n",
        "\n",
        "#多値数\n",
        "M = 8\n",
        "\n",
        "#試行回数\n",
        "iterationNum = 1000000\n",
        "\n",
        "#SNR\n",
        "rateMode = \"EbN0\"\n",
        "EbN0_MIN = 0\n",
        "EbN0_MAX = 30\n",
        "\n",
        "#定義域\n",
        "N = (EbN0_MAX - EbN0_MIN) + 1\n",
        "EbN0 = np.linspace(EbN0_MIN, EbN0_MAX, N)\n",
        "\n",
        "#送信電力\n",
        "powerOfSignal = 1.0"
      ],
      "metadata": {
        "id": "ZBBVxOQdgd1w"
      },
      "execution_count": null,
      "outputs": []
    },
    {
      "cell_type": "code",
      "source": [
        "modulator = Modulator(M = M, mode = mode, powerOfSignal = powerOfSignal)\n",
        "channel = Channel(channelMatrix = np.array([1]) )\n",
        "awgnAdder = AwgnAdder()\n",
        "demodulator = Demodulator(M = M, mode = mode, powerOfSignal = powerOfSignal)\n",
        "\n",
        "errorCalculator = ErrorCalculator(M = M, errorMode = errorMode)\n",
        "\n",
        "dataOrigin = np.random.randint(low = 0, high = 1 << M, size = [1, iterationNum])\n",
        "symbol = modulator.modulate(dataOrigin)"
      ],
      "metadata": {
        "id": "360DNeFVgd1y"
      },
      "execution_count": null,
      "outputs": []
    },
    {
      "cell_type": "markdown",
      "source": [
        "実行"
      ],
      "metadata": {
        "id": "nr1n_8R0gd1y"
      }
    },
    {
      "cell_type": "code",
      "source": [
        "SER_EbN0_256QAM = np.zeros(shape = EbN0.shape)\n",
        "\n",
        "for n in range(N):\n",
        "  #シンボルsを通信路Hに通しノイズnをのせる\n",
        "  symbolTransported = channel.transport(symbol)\n",
        "\n",
        "  symbolNoized = awgnAdder.addAwgn(\n",
        "                                    symbolTransported, \n",
        "                                    calcVariance(\n",
        "                                        rate = SNR[n], rateMode = rateMode,\n",
        "                                        M = M, P_S = powerOfSignal)\n",
        "                                  )\n",
        "  \n",
        "  #復調\n",
        "  dataDemodulated = demodulator.demodulate(symbolNoized)\n",
        "\n",
        "  #元のデータと復調データを照らし合わせてSER計算\n",
        "  ser = errorCalculator.calcError(dataOrigin, dataDemodulated)\n",
        "\n",
        "  SER_EbN0_256QAM[n] = ser\n",
        "  print(\"{}/{} ser: {}\".format(n, N, ser) )\n",
        "\n",
        "np.savetxt(path + \"/SER_EbN0_256QAM.csv\", np.stack([\n",
        "    EbN0,\n",
        "    SER_EbN0_256QAM\n",
        "]))"
      ],
      "metadata": {
        "colab": {
          "base_uri": "https://localhost:8080/"
        },
        "outputId": "b7e5c6d5-3358-418d-85c2-983574aa8fd0",
        "id": "n-UgXb-Vgd1y"
      },
      "execution_count": null,
      "outputs": [
        {
          "output_type": "stream",
          "name": "stdout",
          "text": [
            "0/31 ser: 0.916353\n",
            "1/31 ser: 0.900362\n",
            "2/31 ser: 0.881582\n",
            "3/31 ser: 0.858229\n",
            "4/31 ser: 0.829575\n",
            "5/31 ser: 0.796156\n",
            "6/31 ser: 0.757119\n",
            "7/31 ser: 0.709855\n",
            "8/31 ser: 0.655801\n",
            "9/31 ser: 0.594953\n",
            "10/31 ser: 0.525111\n",
            "11/31 ser: 0.450329\n",
            "12/31 ser: 0.372073\n",
            "13/31 ser: 0.294649\n",
            "14/31 ser: 0.219572\n",
            "15/31 ser: 0.152775\n",
            "16/31 ser: 0.097099\n",
            "17/31 ser: 0.055383\n",
            "18/31 ser: 0.027613\n",
            "19/31 ser: 0.011735\n",
            "20/31 ser: 0.003992\n",
            "21/31 ser: 0.001095\n",
            "22/31 ser: 0.000205\n",
            "23/31 ser: 3.5e-05\n",
            "24/31 ser: 3e-06\n",
            "25/31 ser: 0.0\n",
            "26/31 ser: 0.0\n",
            "27/31 ser: 0.0\n",
            "28/31 ser: 0.0\n",
            "29/31 ser: 0.0\n",
            "30/31 ser: 0.0\n"
          ]
        }
      ]
    },
    {
      "cell_type": "markdown",
      "metadata": {
        "id": "-9nYMpQcgd1y"
      },
      "source": [
        "##### 実行結果"
      ]
    },
    {
      "cell_type": "code",
      "execution_count": null,
      "metadata": {
        "colab": {
          "base_uri": "https://localhost:8080/",
          "height": 289
        },
        "outputId": "2b274d24-960b-4624-b9ab-13bf4ff7b133",
        "id": "6QmXUd8sgd1y"
      },
      "outputs": [
        {
          "output_type": "display_data",
          "data": {
            "text/plain": [
              "<Figure size 432x288 with 1 Axes>"
            ],
            "image/png": "[encoded data removed]"
          },
          "metadata": {
            "needs_background": "light"
          }
        }
      ],
      "source": [
        "#256QAMの実行結果\n",
        "plt.plot(\n",
        "    np.loadtxt(path + '/SER_EbN0_256QAM.csv')[0],\n",
        "    np.loadtxt(path + '/SER_EbN0_256QAM.csv')[1],\n",
        "    'og',\n",
        "    markersize = 2,\n",
        "    label = \"256QAM\"\n",
        ")\n",
        "\n",
        "plt.yscale('log')\n",
        "\n",
        "plt.xlim( 0, 30 )\n",
        "plt.ylim( 10 ** (-5), 1 )\n",
        "\n",
        "plt.xlabel(\"$E_b/N_0$[dB]\")\n",
        "plt.ylabel(\"SER\")\n",
        "\n",
        "plt.legend()\n",
        "\n",
        "plt.savefig(path + \"/SER_EbN0_256QAM.png\")\n",
        "\n",
        "plt.show()"
      ]
    },
    {
      "cell_type": "markdown",
      "source": [
        "## まとめ\n"
      ],
      "metadata": {
        "id": "Q5EAXpQewth8"
      }
    },
    {
      "cell_type": "markdown",
      "source": [
        "### PSK"
      ],
      "metadata": {
        "id": "4_w4obhdwv7B"
      }
    },
    {
      "cell_type": "markdown",
      "source": [
        "#### BER-Eb/N0"
      ],
      "metadata": {
        "id": "HY1SRXPKxa1p"
      }
    },
    {
      "cell_type": "code",
      "source": [
        "#実験結果\n",
        "plt.plot(\n",
        "    np.loadtxt(path + \"/BER_SNR_BPSK.csv\")[0],\n",
        "    np.loadtxt(path + \"/BER_SNR_BPSK.csv\")[1],\n",
        "    'or', \n",
        "    label = \"BPSK\"\n",
        ")\n",
        "\n",
        "plt.plot(\n",
        "    np.loadtxt(path + \"/BER_EbN0_QPSK.csv\")[0],\n",
        "    np.loadtxt(path + \"/BER_EbN0_QPSK.csv\")[1],\n",
        "    'ob',\n",
        "    label = \"QPSK\"\n",
        ")\n",
        "\n",
        "plt.plot(\n",
        "    np.loadtxt(path + \"/BER_EbN0_8PSK.csv\")[0],\n",
        "    np.loadtxt(path + \"/BER_EbN0_8PSK.csv\")[1],\n",
        "    'og',\n",
        "    label = \"8PSK\"\n",
        ")\n",
        "\n",
        "#理論式\n",
        "mode = \"PSK\"\n",
        "gammaMode = \"EbN0\"\n",
        "N = (EbN0_MAX - EbN0_MIN) + 1\n",
        "EbN0 = np.linspace(EbN0_MIN, EbN0_MAX, N)\n",
        "errorMode = \"BER\"\n",
        "\n",
        "plt.plot(\n",
        "    EbN0,\n",
        "    errorTheoreticalValue(\n",
        "        M = 1,\n",
        "        mode = mode,\n",
        "        gammaMode = gammaMode,\n",
        "        gamma = np.power(10.0, EbN0/10.0),\n",
        "        errorMode = errorMode\n",
        "    ),\n",
        "    ':m',\n",
        "    label = \"BPSK Theoretical Value\"\n",
        ")\n",
        "plt.plot(\n",
        "    EbN0,\n",
        "    errorTheoreticalValue(\n",
        "        M = 2,\n",
        "        mode = mode,\n",
        "        gammaMode = gammaMode,\n",
        "        gamma = np.power(10.0, EbN0/10.0),\n",
        "        errorMode = errorMode\n",
        "    ),\n",
        "    ':c',\n",
        "    label = \"QPSK Theoretical Value\"\n",
        ")\n",
        "plt.plot(\n",
        "    EbN0,\n",
        "    errorTheoreticalValue(\n",
        "        M = 3,\n",
        "        mode = mode,\n",
        "        gammaMode = gammaMode,\n",
        "        gamma = np.power(10.0, EbN0/10.0),\n",
        "        errorMode = errorMode\n",
        "    ),\n",
        "    ':y',\n",
        "    label = \"8PSK Theoretical Value\"\n",
        ")\n",
        "\n",
        "\n",
        "plt.xlabel(\"$E_b/N_0$\")\n",
        "plt.ylabel(\"BER\")\n",
        "\n",
        "plt.yscale(\"log\")\n",
        "\n",
        "plt.xlim(0, 15)\n",
        "plt.ylim(10 ** (-5), 1)\n",
        "\n",
        "plt.title(\"$E_b/N_0$-BER (PSK)\")\n",
        "\n",
        "plt.legend()\n",
        "\n",
        "\n",
        "plt.savefig(path + \"/BER_EbN0_PSK.png\")\n"
      ],
      "metadata": {
        "colab": {
          "base_uri": "https://localhost:8080/",
          "height": 301
        },
        "id": "ZCWGSviXwxm6",
        "outputId": "ef6dc1a1-7ec2-43e3-8077-84c8f9714082"
      },
      "execution_count": null,
      "outputs": [
        {
          "output_type": "display_data",
          "data": {
            "text/plain": [
              "<Figure size 432x288 with 1 Axes>"
            ],
            "image/png": "[encoded data removed]"
          },
          "metadata": {
            "needs_background": "light"
          }
        }
      ]
    },
    {
      "cell_type": "markdown",
      "source": [
        "#### SER-Eb/N0"
      ],
      "metadata": {
        "id": "EKskqnj0wzZJ"
      }
    },
    {
      "cell_type": "code",
      "source": [
        "#実験結果\n",
        "plt.plot(\n",
        "    np.loadtxt(path + \"/BER_SNR_BPSK.csv\")[0],\n",
        "    np.loadtxt(path + \"/BER_SNR_BPSK.csv\")[1],\n",
        "    'or', \n",
        "    label = \"BPSK\"\n",
        ")\n",
        "plt.plot(\n",
        "    np.loadtxt(path + \"/SER_EbN0_QPSK.csv\")[0],\n",
        "    np.loadtxt(path + \"/SER_EbN0_QPSK.csv\")[1],\n",
        "    'ob',\n",
        "    label = \"QPSK\"\n",
        ")\n",
        "plt.plot(\n",
        "    np.loadtxt(path + \"/SER_EbN0_8PSK.csv\")[0],\n",
        "    np.loadtxt(path + \"/SER_EbN0_8PSK.csv\")[1],\n",
        "    'og',\n",
        "    label = \"8PSK\"\n",
        ")\n",
        "\n",
        "#理論式\n",
        "mode = \"PSK\"\n",
        "gammaMode = \"EbN0\"\n",
        "N = (EbN0_MAX - EbN0_MIN) + 1\n",
        "EbN0 = np.linspace(EbN0_MIN, EbN0_MAX, N)\n",
        "errorMode = \"SER\"\n",
        "\n",
        "plt.plot(\n",
        "    EbN0,\n",
        "    errorTheoreticalValue(\n",
        "        M = 1,\n",
        "        mode = mode,\n",
        "        gammaMode = gammaMode,\n",
        "        gamma = np.power(10.0, EbN0/10.0),\n",
        "        errorMode = errorMode\n",
        "    ),\n",
        "    ':m',\n",
        "    label = \"BPSK Theoretical Value\"\n",
        ")\n",
        "plt.plot(\n",
        "    EbN0,\n",
        "    errorTheoreticalValue(\n",
        "        M = 2,\n",
        "        mode = mode,\n",
        "        gammaMode = gammaMode,\n",
        "        gamma = np.power(10.0, EbN0/10.0),\n",
        "        errorMode = errorMode\n",
        "    ),\n",
        "    ':c',\n",
        "    label = \"QPSK Theoretical Value\"\n",
        ")\n",
        "plt.plot(\n",
        "    EbN0,\n",
        "    errorTheoreticalValue(\n",
        "        M = 3,\n",
        "        mode = mode,\n",
        "        gammaMode = gammaMode,\n",
        "        gamma = np.power(10.0, EbN0/10.0),\n",
        "        errorMode = errorMode\n",
        "    ),\n",
        "    ':y',\n",
        "    label = \"8PSK Theoretical Value\"\n",
        ")\n",
        "\n",
        "plt.xlabel(\"$E_b/N_0$\")\n",
        "plt.ylabel(\"SER\")\n",
        "\n",
        "plt.yscale(\"log\")\n",
        "\n",
        "plt.xlim(0, 15)\n",
        "plt.ylim(10 ** (-5), 1)\n",
        "\n",
        "plt.title(\"$E_b/N_0$-SER (PSK)\")\n",
        "\n",
        "plt.legend()\n",
        "\n",
        "\n",
        "plt.savefig(path + \"/SER_EbN0_PSK.png\")"
      ],
      "metadata": {
        "colab": {
          "base_uri": "https://localhost:8080/",
          "height": 301
        },
        "id": "ZNjS2NEKzrpH",
        "outputId": "d775996d-0d35-430f-e48d-ec1f452e5251"
      },
      "execution_count": null,
      "outputs": [
        {
          "output_type": "display_data",
          "data": {
            "text/plain": [
              "<Figure size 432x288 with 1 Axes>"
            ],
            "image/png": "[encoded data removed]"
          },
          "metadata": {
            "needs_background": "light"
          }
        }
      ]
    },
    {
      "cell_type": "markdown",
      "source": [
        "### QAM"
      ],
      "metadata": {
        "id": "HQSb57fv0Fb6"
      }
    },
    {
      "cell_type": "markdown",
      "source": [
        "#### BER-EbN0"
      ],
      "metadata": {
        "id": "5bMAu1M70Gvq"
      }
    },
    {
      "cell_type": "code",
      "source": [
        "#実験結果\n",
        "plt.plot(\n",
        "    np.loadtxt(path + \"/BER_EbN0_16QAM.csv\")[0],\n",
        "    np.loadtxt(path + \"/BER_EbN0_16QAM.csv\")[1],\n",
        "    'or', \n",
        "    label = \"16QAM\"\n",
        ")\n",
        "plt.plot(\n",
        "    np.loadtxt(path + '/BER_EbN0_64QAM.csv')[0],\n",
        "    np.loadtxt(path + '/BER_EbN0_64QAM.csv')[1],\n",
        "    'ob',\n",
        "    label = \"64QAM\"\n",
        ")\n",
        "plt.plot(\n",
        "    np.loadtxt(path + \"/BER_EbN0_256QAM.csv\")[0],\n",
        "    np.loadtxt(path + \"/BER_EbN0_256QAM.csv\")[1],\n",
        "    'og',\n",
        "    label = \"256QAM\"\n",
        ")\n",
        "\n",
        "\n",
        "#理論式\n",
        "mode = \"QAM\"\n",
        "gammaMode = \"EbN0\"\n",
        "EbN0_MIN, EbN0_MAX = 0, 31\n",
        "N = (EbN0_MAX - EbN0_MIN) + 1\n",
        "EbN0 = np.linspace(EbN0_MIN, EbN0_MAX, N)\n",
        "errorMode = \"BER\"\n",
        "\n",
        "plt.plot(\n",
        "    EbN0,\n",
        "    errorTheoreticalValue(\n",
        "        M = 4,\n",
        "        mode = mode,\n",
        "        gammaMode = gammaMode,\n",
        "        gamma = np.power(10.0, EbN0/10.0),\n",
        "        errorMode = errorMode\n",
        "    ),\n",
        "    ':m',\n",
        "    label = \"16QAM Theoretical Value\"\n",
        ")\n",
        "plt.plot(\n",
        "    EbN0,\n",
        "    errorTheoreticalValue(\n",
        "        M = 6,\n",
        "        mode = mode,\n",
        "        gammaMode = gammaMode,\n",
        "        gamma = np.power(10.0, EbN0/10.0),\n",
        "        errorMode = errorMode\n",
        "    ),\n",
        "    ':c',\n",
        "    label = \"64QAM Theoretical Value\"\n",
        ")\n",
        "plt.plot(\n",
        "    EbN0,\n",
        "    errorTheoreticalValue(\n",
        "        M = 8,\n",
        "        mode = mode,\n",
        "        gammaMode = gammaMode,\n",
        "        gamma = np.power(10.0, EbN0/10.0),\n",
        "        errorMode = errorMode\n",
        "    ),\n",
        "    ':y',\n",
        "    label = \"256PSK Theoretical Value\"\n",
        ")\n",
        "\n",
        "\n",
        "plt.xlabel(\"$E_b/N_0$\")\n",
        "plt.ylabel(\"BER\")\n",
        "\n",
        "plt.yscale(\"log\")\n",
        "\n",
        "plt.ylim(10 ** (-5), 1)\n",
        "\n",
        "plt.title(\"$E_b/N_0$-BER (QAM)\")\n",
        "\n",
        "plt.legend()\n",
        "\n",
        "plt.savefig(path + \"/BER_EbN0_QAM.png\")"
      ],
      "metadata": {
        "colab": {
          "base_uri": "https://localhost:8080/",
          "height": 301
        },
        "id": "Jqvvw-4_0Iox",
        "outputId": "bf1a35a7-baed-4cdf-bdd6-8a3e08e42ef6"
      },
      "execution_count": null,
      "outputs": [
        {
          "output_type": "display_data",
          "data": {
            "text/plain": [
              "<Figure size 432x288 with 1 Axes>"
            ],
            "image/png": "[encoded data removed]"
          },
          "metadata": {
            "needs_background": "light"
          }
        }
      ]
    },
    {
      "cell_type": "markdown",
      "source": [
        "#### SER-Eb/N0"
      ],
      "metadata": {
        "id": "l_qV9q7S1_kY"
      }
    },
    {
      "cell_type": "code",
      "source": [
        "#実験結果\n",
        "plt.plot(\n",
        "    np.loadtxt(path + \"/SER_EbN0_16QAM.csv\")[0],\n",
        "    np.loadtxt(path + \"/SER_EbN0_16QAM.csv\")[1],\n",
        "    'or', \n",
        "    label = \"16QAM\"\n",
        ")\n",
        "plt.plot(\n",
        "    np.loadtxt(path + '/SER_EbN0_64QAM.csv')[0],\n",
        "    np.loadtxt(path + '/SER_EbN0_64QAM.csv')[1],\n",
        "    'ob',\n",
        "    label = \"64QAM\"\n",
        ")\n",
        "plt.plot(\n",
        "    np.loadtxt(path + \"/SER_EbN0_256QAM.csv\")[0],\n",
        "    np.loadtxt(path + \"/SER_EbN0_256QAM.csv\")[1],\n",
        "    'og',\n",
        "    label = \"256QAM\"\n",
        ")\n",
        "\n",
        "\n",
        "#理論式\n",
        "mode = \"QAM\"\n",
        "gammaMode = \"EbN0\"\n",
        "N = (EbN0_MAX - EbN0_MIN) + 1\n",
        "EbN0 = np.linspace(EbN0_MIN, EbN0_MAX, N)\n",
        "errorMode = \"SER\"\n",
        "\n",
        "plt.plot(\n",
        "    EbN0,\n",
        "    errorTheoreticalValue(\n",
        "        M = 4,\n",
        "        mode = mode,\n",
        "        gammaMode = gammaMode,\n",
        "        gamma = np.power(10.0, EbN0/10.0),\n",
        "        errorMode = errorMode\n",
        "    ),\n",
        "    ':m',\n",
        "    label = \"16QAM Theoretical Value\"\n",
        ")\n",
        "plt.plot(\n",
        "    EbN0,\n",
        "    errorTheoreticalValue(\n",
        "        M = 6,\n",
        "        mode = mode,\n",
        "        gammaMode = gammaMode,\n",
        "        gamma = np.power(10.0, EbN0/10.0),\n",
        "        errorMode = errorMode\n",
        "    ),\n",
        "    ':c',\n",
        "    label = \"64QAM Theoretical Value\"\n",
        ")\n",
        "plt.plot(\n",
        "    EbN0,\n",
        "    errorTheoreticalValue(\n",
        "        M = 8,\n",
        "        mode = mode,\n",
        "        gammaMode = gammaMode,\n",
        "        gamma = np.power(10.0, EbN0/10.0),\n",
        "        errorMode = errorMode\n",
        "    ),\n",
        "    ':y',\n",
        "    label = \"256PSK Theoretical Value\"\n",
        ")\n",
        "\n",
        "plt.xlabel(\"$E_b/N_0$\")\n",
        "plt.ylabel(\"SER\")\n",
        "\n",
        "plt.yscale(\"log\")\n",
        "\n",
        "#plt.xlim(0, 15)\n",
        "plt.ylim(10 ** (-5), 1)\n",
        "\n",
        "plt.title(\"$E_b/N_0$-SER (QAM)\")\n",
        "\n",
        "plt.legend()\n",
        "\n",
        "plt.savefig(path + \"/SER_EbN0_QAM.png\")"
      ],
      "metadata": {
        "colab": {
          "base_uri": "https://localhost:8080/",
          "height": 301
        },
        "id": "FR84gefI2CD4",
        "outputId": "2122b502-5f41-4215-b1ab-d98c0348843d"
      },
      "execution_count": null,
      "outputs": [
        {
          "output_type": "display_data",
          "data": {
            "text/plain": [
              "<Figure size 432x288 with 1 Axes>"
            ],
            "image/png": "[encoded data removed]"
          },
          "metadata": {
            "needs_background": "light"
          }
        }
      ]
    }
  ],
  "metadata": {
    "colab": {
      "collapsed_sections": [],
      "provenance": [],
      "toc_visible": true
    },
    "kernelspec": {
      "display_name": "Python 3",
      "name": "python3"
    },
    "language_info": {
      "name": "python"
    },
    "gpuClass": "standard"
  },
  "nbformat": 4,
  "nbformat_minor": 0
}