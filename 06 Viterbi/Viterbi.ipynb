{
  "cells": [
    {
      "cell_type": "markdown",
      "metadata": {
        "id": "76HZHMZjehjx"
      },
      "source": [
        "# 6 Viterbi Algorithm"
      ]
    },
    {
      "cell_type": "markdown",
      "source": [],
      "metadata": {
        "id": "8Xbk8WCaFKfD"
      }
    },
    {
      "cell_type": "markdown",
      "source": [
        "## a 概要\n",
        "\n",
        "定常な一次HMMを想定.潜在変数$u$，観測変数$x$が次のようであるとする\n",
        "\n",
        "$$\n",
        "u_0 \\sim A_0(\\cdot) \\\\\n",
        "u_{t + 1} | u_t \\sim A(\\cdot|u_t) \\\\\n",
        "x_t | u_t \\sim \\pi(\\cdot | u_t)\n",
        "$$\n",
        "\n",
        "目的は$X_T = x_1 x_2 \\cdots x_T$を観測して，尤度を最大にする潜在状態$U_T = u_1 u_2 \\cdots u_T$を得ることである．\n",
        "すなわち\n",
        "\n",
        "\\begin{align}\n",
        "U_{T}^{*} &= \\arg\\max_{U_T} p(U_T, X_T) \\\\\n",
        "&= \\arg\\max_{U_T} A_0(u_0)\\prod\\limits_{t = 1}^{T} A(u_{t} | u_{t - 1} ) \\pi(x_t | u_t)\n",
        "\\end{align}\n",
        "\n",
        "\n",
        "素直にこのアルゴリズムを実行してしまうと$O( |\\mathcal{U}|^{T} )$の計算量がかかってしまう．Markov性に注目することで$O( T|\\mathcal{U}|^2)$のDPに落とし込められる．これがViterbiアルゴリズムの概要である．"
      ],
      "metadata": {
        "id": "BjfPclYTnLo9"
      }
    },
    {
      "cell_type": "markdown",
      "source": [],
      "metadata": {
        "id": "DpecMVdMzen3"
      }
    },
    {
      "cell_type": "markdown",
      "source": [
        "## b アルゴリズム\n",
        "\n",
        "\\begin{align}\n",
        "\\mathbb{R}_{\\leq0} \\ni \\delta_{t}(u_t) \n",
        "&:= \\log \\Big(\n",
        "  t\\mbox{ステップ目の状態が}u_t\\mbox{であると固定したうえで，}X_t\\mbox{を観測する確率の}\\max\n",
        "  \\Big) \\\\\n",
        "&= \\max_{U_{t-1}}  \\log p(U_{t-1}, u_t = u_t, X_{t}) \\\\\n",
        "\\mathcal{U}_{t-1} \\ni \\psi_{t}(u_t) &:= \\bigg\\{\n",
        " \\log \\Big(\n",
        "  t\\mbox{ステップ目の状態が}u_t\\mbox{であると固定した上で，}X_t\\mbox{を観測する確率の}\\max \\Big) \\mbox{を指定する状態}u_{t-1}\n",
        "  \\bigg\\} \\\\\n",
        "  &= \\arg\\max_{u_{t-1}}\\big\\{ \\delta_{t-1}(u_{t-1})  + \\log  A(u_t|u_{t-1}) \\big\\} +\\log  \\pi(x_{t} | u_{t})\n",
        "\\end{align}\n",
        "とおくと潜在変数のmarkov性よりDPがつくれる．\n",
        "\n",
        "**DP**<br>\n",
        "$t = 0, 1, \\cdots T-1$に対して\n",
        "\\begin{align}\n",
        "\\mathbb{R}_{\\leq0} \\ni \\delta_{t + 1}(u') &=  \\max_{u_t} \\Big\\{\\delta_t (u_t) + \\log  A (u' | u_t ) \\Big\\} + \\log  \\pi (x_{t + 1} | u') \\\\\n",
        "\\mathcal{U}_t \\ni \\psi_{t + 1}(u') &=   \\arg\\max_{u_t} \\Big\\{ \\delta_t (u_t)  +\\log A (u' | u_t ) \\Big\\} \n",
        "\\end{align}\n",
        "\n",
        "**初期条件**\n",
        "\\begin{align}\n",
        "\\delta_0(u_0) &= \\pi_o(u_o) \\\\\n",
        "\\psi_0(u_0) &= \\{\\}\n",
        "\\end{align}\n",
        "\n",
        "**結果**\n",
        "\\begin{align}\n",
        "P^* &= \\max_{u_T} \\delta_T (u_T) \\\\\n",
        "u_T^* &= \\arg\\max_{u_T} \\delta_{t}(u_T)\n",
        "\\end{align}\n",
        "\n",
        "**状態系列のバックトラック**\n",
        "\\begin{align}\n",
        "u_t^* &= \\psi_{t + 1} (u_{t + 1}^*),t = T-1, \\cdots, 0\n",
        "\\end{align}\n"
      ],
      "metadata": {
        "id": "gAzZRzEowT-Q"
      }
    },
    {
      "cell_type": "markdown",
      "source": [
        "## Pythonおよび必要なライブラリをインポートする．"
      ],
      "metadata": {
        "id": "E90wHaJ-WX6B"
      }
    },
    {
      "cell_type": "code",
      "source": [
        "from google.colab import drive\n",
        "drive.mount('/content/drive')"
      ],
      "metadata": {
        "colab": {
          "base_uri": "https://localhost:8080/"
        },
        "outputId": "d49eb823-588a-4d2c-fc09-59e22afccfdc",
        "id": "657Lh8NgwT-Q"
      },
      "execution_count": null,
      "outputs": [
        {
          "output_type": "stream",
          "name": "stdout",
          "text": [
            "Mounted at /content/drive\n"
          ]
        }
      ]
    },
    {
      "cell_type": "code",
      "source": [
        "path = \"/content/drive/My Drive/Colab Notebooks\""
      ],
      "metadata": {
        "id": "ydKxuG-zwT-Q"
      },
      "execution_count": null,
      "outputs": []
    },
    {
      "cell_type": "code",
      "execution_count": null,
      "metadata": {
        "colab": {
          "base_uri": "https://localhost:8080/"
        },
        "id": "c_8vCj-kCn2s",
        "outputId": "292cc4bb-2ee3-48ad-867e-63840f48b8ec"
      },
      "outputs": [
        {
          "output_type": "stream",
          "name": "stdout",
          "text": [
            "Python 3.7.14\n"
          ]
        }
      ],
      "source": [
        "!python3 --version\n",
        "\n",
        "import random"
      ]
    },
    {
      "cell_type": "code",
      "execution_count": null,
      "metadata": {
        "id": "WQOQ-43civq5"
      },
      "outputs": [],
      "source": [
        "import matplotlib as makeMSL\n",
        "import matplotlib.pyplot as plt\n",
        "import numpy as np\n",
        "import math"
      ]
    },
    {
      "cell_type": "markdown",
      "metadata": {
        "id": "l8KQMf29fkVg"
      },
      "source": [
        "以下は$\\mbox{erfc}$関数を読み込むためのライブラリ"
      ]
    },
    {
      "cell_type": "code",
      "execution_count": null,
      "metadata": {
        "id": "FHNNDNTAfarX"
      },
      "outputs": [],
      "source": [
        "from scipy import special\n",
        "from scipy.linalg import sqrtm"
      ]
    },
    {
      "cell_type": "code",
      "source": [],
      "metadata": {
        "id": "xfVX86dPbrm2"
      },
      "execution_count": null,
      "outputs": []
    },
    {
      "cell_type": "markdown",
      "source": [
        "## Viterbi Algorithm用のモジュール"
      ],
      "metadata": {
        "id": "6Bpg-sqYbr7o"
      }
    },
    {
      "cell_type": "markdown",
      "source": [
        "### エンコーダー\n",
        "情報$X_T \\in \\{0, 1\\}^T$を状態$S_T \\in \\{00, 01, 10, 11\\}^T$を介して畳み込み符号$U_T \\in \\{00, 01, 10, 11\\}^T$として出力する\n",
        "\n",
        "\\begin{align}\n",
        "E: \\{0, 1\\}^T \\ni X_T &\\mapsto U_T \\in \\{00, 01, 10, 11\\}^T \\\\\n",
        "\\end{align}\n",
        "\n",
        "$x_{t + 1}$が入力されると直前の状態$s_{t} = BC$に応じて$u_{t +1}$にエンコードされ，状態が$s_{t + 1}$に更新される\n",
        "\n",
        "\\begin{align}\n",
        "(x_{t + 1}, s_t) \\mapsto (u_{t + 1}, s_{t + 1} )\n",
        "\\end{align}\n",
        "\n",
        "**$(u_{t + 1}, s_{t + 1})$の表**\n",
        "\n",
        "|  $s_{t} \\backslash x_{t + 1}$  |  $00$  |  $01$ |\n",
        "| ---- | ---- | --- |\n",
        "|  $00$  |  $(00, 00)$  |  $(11, 01)$  |\n",
        "|  $01$  |  $(10, 10)$  |  $(01, 11)$  |\n",
        "|  $10$  |  $(11, 00)$  |  $(00, 01)$  |\n",
        "|  $11$  |  $(01, 10)$  |  $(10, 11)$  |"
      ],
      "metadata": {
        "id": "tZebzAsHbr7o"
      }
    },
    {
      "cell_type": "code",
      "source": [
        "'''\n",
        "畳み込み符号エンコーダー\n",
        "'''\n",
        "class EncoderConv:\n",
        "  def __init__(self):\n",
        "    return\n",
        "  \n",
        "  '''\n",
        "  情報Xを畳み込み符号U_Tにエンコードする\n",
        "  @param X                np.ndarray 情報{0, 1}^{T}\n",
        "  @param doesReturnState bool       内部状態まで返すか否か\n",
        "  \n",
        "  @return U                np.ndarray 畳み込み符号 {00, 01, 10, 11}^T\n",
        "  @return S                np.ndarray 内部状態 {00, 01, 10, 11}^{T + 1}     (if doesReturnState == True)\n",
        "  '''\n",
        "  def encode(self, X, doesReturnState = False):\n",
        "    T = X.shape[1]\n",
        "    S = np.zeros( shape = (1, T + 1), dtype = 'int')\n",
        "    U = np.zeros( shape = (1, T), dtype = 'int')\n",
        "\n",
        "    '''初期条件(t = 0)'''\n",
        "    S[0][0] = 0\n",
        "\n",
        "    '''情報x'を受け取り直前の状態sから動的に(u', s')を構成'''\n",
        "    for t in range(T):\n",
        "      B = S[0][t] & 1\n",
        "      C = S[0][t] >> 1\n",
        "\n",
        "      u_upper = X[0][t] ^ B ^ C\n",
        "      u_lower = X[0][t] ^ C\n",
        "      U[0][t] = (u_upper << 1) + u_lower\n",
        "      \n",
        "      C = B\n",
        "      B = X[0][t]\n",
        "      S[0][t + 1] = (C << 1) + B\n",
        "    \n",
        "\n",
        "    if doesReturnState == False:\n",
        "      return U\n",
        "    else:\n",
        "      return U, S"
      ],
      "metadata": {
        "id": "x7ciVb1CgwMk"
      },
      "execution_count": null,
      "outputs": []
    },
    {
      "cell_type": "markdown",
      "source": [
        "### デコーダー\n",
        "畳み込み符号$U_T$から情報$X_T$をデコードする\n",
        "\n",
        "\\begin{align}\n",
        "D: \\{00, 01, 10, 11\\}^T \\ni U_T &\\mapsto X_T \\in \\{0, 1\\}^T  \\\\\n",
        "\\end{align}\n",
        "\n",
        "$u_{t + 1}$を観測すると直前の状態$s_{t} = BC$(こちらも複合する)に応じて$x_{t +1}$にデコードされ，状態が$s_{t + 1}$に更新される\n",
        "\n",
        "\\begin{align}\n",
        "(u_{t + 1}, s_{t}) &\\mapsto (x_{t + 1}, s_{t + 1}) \\\\\n",
        "x_{t + 1} &= \\arg_{x_{t + 1}} I\\Big[ \\rm{encode}(x_{t+1}; s_t) = u_{t + 1} \\Big]\n",
        "\\end{align}"
      ],
      "metadata": {
        "id": "eg5fThgflBte"
      }
    },
    {
      "cell_type": "code",
      "source": [
        "'''\n",
        "畳み込み符号デコーダー\n",
        "'''\n",
        "class DecoderConv:\n",
        "  def __init__(self):\n",
        "    return\n",
        "  \n",
        "  '''\n",
        "  畳み込み符号Uを状態Xにエンコードする\n",
        "  @param U                np.ndarray 畳み込み符号 {00, 01, 10, 11}^T\n",
        "  @param doesReturnState bool       内部状態まで返すか否か\n",
        "  \n",
        "  @return X                np.ndarray 情報 {0, 1}^T\n",
        "  @return S                np.ndarray 内部状態 {00, 01, 10, 11}^{T + 1}     (if doesReturnState == True)\n",
        "  '''\n",
        "  def decode(self, U, doesReturnState = False):\n",
        "    T = U.shape[1]\n",
        "    S = np.zeros( shape = (1, T + 1), dtype = 'int')\n",
        "    X = np.zeros( shape = (1, T), dtype = 'int')\n",
        "\n",
        "    '''初期条件(t = 0)'''\n",
        "    S[0][0] = 0 \n",
        "\n",
        "    '''畳み込み符号u'を受け取り直前の状態sから動的に(x', s')を構成'''\n",
        "    for t in range(T):\n",
        "      B = S[0][t] & 1\n",
        "      C = S[0][t] >> 1\n",
        "\n",
        "      for x in range(2):\n",
        "        u_upper = x ^ B ^ C\n",
        "        u_lower = x ^ C\n",
        "        x_encoded = (u_upper << 1) + u_lower\n",
        "        if x_encoded == U[0][t]:\n",
        "          X[0][t] = x\n",
        "\n",
        "          C = B\n",
        "          B = x\n",
        "          S[0][t + 1] = (C << 1) + B\n",
        "          break\n",
        "    \n",
        "\n",
        "    if doesReturnState == False:\n",
        "      return X\n",
        "    else:\n",
        "      return X, S"
      ],
      "metadata": {
        "id": "QtBIYWu90uMN"
      },
      "execution_count": null,
      "outputs": []
    },
    {
      "cell_type": "markdown",
      "source": [
        "### 畳み込み符号用のViterbiアルゴリズム"
      ],
      "metadata": {
        "id": "dPj47PXMzpCc"
      }
    },
    {
      "cell_type": "code",
      "source": [
        "'''\n",
        "Viterbiアルゴリズム用のモジュール\n",
        "'''\n",
        "\n",
        "class ViterbiModuleConv:\n",
        "  def __init__(self):\n",
        "    self.setS = {0, 1, 2, 3}\n",
        "    self.setSdim = 4\n",
        "    self.setU = {0, 1, 2, 3}\n",
        "    self.setUdim = 4\n",
        "    \n",
        "    '''\n",
        "    p(s'|s, u')を簡単にしたもの\n",
        "    (S', S, U) -> R\n",
        "    ステップt = 0, 1, t, T - 2, T - 1に応じてセット　(ただし1 < t < T - 2)\n",
        "    '''\n",
        "    self.A_0, self.A_1, self.A_t, self.A_TminusTwo, self.A_TminusOne = None, None, None, None, None\n",
        "    self.setA()\n",
        "\n",
        "    '''\n",
        "    XTのステップ数\n",
        "    '''\n",
        "    self.T = None\n",
        "    return\n",
        "\n",
        "  '''\n",
        "  Viterbi algorithm\n",
        "  @param X             np.ndarray 観測系列 {00, 01, 10, 11}^T\n",
        "  @param doesReturnAll bool       内部状態δとU*を返すかどうか\n",
        "\n",
        "  @return Ustar         np.ndarray 推測系列 {00, 01, 10, 11}^|S|^T \n",
        "  (@return Ustar, delta) np.ndarray 推測系列 {00, 01, 10, 11}^T\n",
        "                         delta      スコア     Z^|S|^T\n",
        "  '''\n",
        "  def doViterbi(self, X, doesReturnDelta = False):\n",
        "    T = X.shape[1]\n",
        "    self.setT(T)\n",
        "\n",
        "    delta = np.zeros( shape = (self.setSdim, T + 1), dtype = 'int')\n",
        "    psi   = np.zeros( shape = (self.setSdim, T), dtype = 'int')\n",
        "\n",
        "    '''初期条件'''\n",
        "    delta[0][0] = 100\n",
        "\n",
        "    '''DP'''\n",
        "    for t in range(T):\n",
        "\n",
        "      '''s'を固定して各s'に対して最適なu'*を求める'''\n",
        "      for sDash in self.setS:\n",
        "\n",
        "        '''最適なu*候補のu'を舐めてスコアδを更新できるならする'''\n",
        "        for uDash in self.setU:\n",
        "          for s in self.setS:\n",
        "            if self.A(sDash, s, uDash, t) == 1 and delta[sDash][t + 1] < delta[s][t] + self.score(uDash, X[0][t]):\n",
        "              delta[sDash][t + 1] = delta[s][t] + self.score(uDash, X[0][t])\n",
        "              psi[sDash][t] = uDash\n",
        "    \n",
        "    Ustar = self.traceback(delta, psi)\n",
        "    if doesReturnDelta == False:\n",
        "      return Ustar\n",
        "    else:\n",
        "      return Ustar, delta\n",
        "  \n",
        "  '''\n",
        "  トレースバック\n",
        "  @param psi      np.ndarray ステップtまで見て状態s_tを固定したとき同時確率maxを指定する状態s_{t-1} {00, 01, 10, 11}^T\n",
        "  @return Ustar    np.ndarray Xを観測したときに同時確率をmaxにする系列U* = arg max U p(U, X = X)\n",
        "  '''\n",
        "  def traceback(self, delta, psi):\n",
        "    Ustar = np.zeros( shape = (1, self.T), dtype = 'int')\n",
        "\n",
        "    '''\n",
        "    初期条件\n",
        "    U*_{T - 1} =  argmax_{ U_{T - 1} } delta_{T}( U_{T - 1} )\n",
        "    畳み込み符号のラストが状態00で終わるように設定しているので\n",
        "    U*_{T - 1} = argmax delta_{T}(00) = psi_{T - 1} (00)\n",
        "    '''\n",
        "    Ustar[0][self.T - 1] = psi[0][self.T - 1]\n",
        "\n",
        "    '''\n",
        "    DP\n",
        "    '''\n",
        "    for t in range(self.T - 2, -1, -1):\n",
        "      Ustar[0][t] = psi[ Ustar[0][t + 1] ][t]\n",
        "\n",
        "    return Ustar\n",
        "\n",
        "  '''\n",
        "  遷移確率p_t(s'|s, u')を簡単にしたものを示すメンバ変数セッター\n",
        "    p: (S', S, U, T) -> {0, 1}\n",
        "  '''\n",
        "  def setA(self):\n",
        "    '''\n",
        "    t = 0のとき\n",
        "    {00, 01} = S' <- S * U = {00}^{00, 11}のみである．\n",
        "    '''\n",
        "    self.A_0 = np.array([\n",
        "        [\n",
        "          [1, 0, 0, 0],\n",
        "          [0, 0, 0, 0],\n",
        "          [0, 0, 0, 0],\n",
        "          [0, 0, 0, 0]\n",
        "        ],\n",
        "        [\n",
        "         [0, 0, 0, 1],\n",
        "         [0, 0, 0, 0],\n",
        "         [0, 0, 0, 0],\n",
        "         [0, 0, 0, 0]\n",
        "        ],\n",
        "        [\n",
        "         [0, 0, 0, 0],\n",
        "         [0, 0, 0, 0],\n",
        "         [0, 0, 0, 0],\n",
        "         [0, 0, 0, 0]\n",
        "        ],\n",
        "        [\n",
        "         [0, 0, 0, 0],\n",
        "         [0, 0, 0, 0],\n",
        "         [0, 0, 0, 0],\n",
        "         [0, 0, 0, 0]\n",
        "        ]\n",
        "    ])\n",
        "\n",
        "    '''\n",
        "    t = 1のとき\n",
        "    s* = 00 <- S * U = {00}^{00}\n",
        "    s* = 01 <- S * U = {00}^{11}\n",
        "    s* = 10 <- S * U = {01}^[10]\n",
        "    s* = 11 <- S * U = {01}^{01}　のみ\n",
        "    '''\n",
        "    self.A_1 = np.array([\n",
        "        [\n",
        "          [1, 0, 0, 0],\n",
        "          [0, 0, 0, 0],\n",
        "          [0, 0, 0, 0],\n",
        "          [0, 0, 0, 0]\n",
        "        ],\n",
        "        [\n",
        "         [0, 0, 0, 1],\n",
        "         [0, 0, 0, 0],\n",
        "         [0, 0, 0, 0],\n",
        "         [0, 0, 0, 0]\n",
        "        ],\n",
        "        [\n",
        "         [0, 0, 0, 0],\n",
        "         [0, 0, 1, 0],\n",
        "         [0, 0, 0, 0],\n",
        "         [0, 0, 0, 0]\n",
        "        ],\n",
        "        [\n",
        "         [0, 0, 0, 0],\n",
        "         [0, 1, 0, 0],\n",
        "         [0, 0, 0, 0],\n",
        "         [0, 0, 0, 0]\n",
        "        ]\n",
        "    ])\n",
        "    '''\n",
        "    1 < t < T - 2のとき\n",
        "    '''\n",
        "    self.A_t = np.array([\n",
        "        [\n",
        "          [1, 0, 0, 0],\n",
        "          [0, 0, 0, 0],\n",
        "          [0, 0, 0, 1],\n",
        "          [0, 0, 0, 0]\n",
        "        ],\n",
        "        [\n",
        "         [0, 0, 0, 1],\n",
        "         [0, 0, 0, 0],\n",
        "         [1, 0, 0, 0],\n",
        "         [0, 0, 0, 0]\n",
        "        ],\n",
        "        [\n",
        "         [0, 0, 0, 0],\n",
        "         [0, 0, 1, 0],\n",
        "         [0, 0, 0, 0],\n",
        "         [0, 1, 0, 0]\n",
        "        ],\n",
        "        [\n",
        "         [0, 0, 0, 0],\n",
        "         [0, 1, 0, 0],\n",
        "         [0, 0, 0, 0],\n",
        "         [0, 0, 1, 0]\n",
        "        ]\n",
        "    ])\n",
        "\n",
        "    '''\n",
        "    t = T - 2のとき\n",
        "    {00} = S' <- S * U = (00, 00), (10, 11)\n",
        "    {10} = S' <- S * U = (01, 10), (11, 01)のみ\n",
        "    '''\n",
        "    self.A_TminusTwo = np.array([\n",
        "        [\n",
        "          [1, 0, 0, 0],\n",
        "          [0, 0, 0, 0],\n",
        "          [0, 0, 0, 1],\n",
        "          [0, 0, 0, 0]\n",
        "        ],\n",
        "        [\n",
        "         [0, 0, 0, 0],\n",
        "         [0, 0, 0, 0],\n",
        "         [0, 0, 0, 0],\n",
        "         [0, 0, 0, 0]\n",
        "        ],\n",
        "        [\n",
        "         [0, 0, 0, 0],\n",
        "         [0, 0, 1, 0],\n",
        "         [0, 0, 0, 0],\n",
        "         [0, 1, 0, 0]\n",
        "        ],\n",
        "        [\n",
        "         [0, 0, 0, 0],\n",
        "         [0, 0, 0, 0],\n",
        "         [0, 0, 0, 0],\n",
        "         [0, 0, 0, 0]\n",
        "        ]\n",
        "    ])\n",
        "\n",
        "    '''\n",
        "    t = T - 1のとき\n",
        "    {00} = S' <- S * U = (00, 00), (10, 11)のみ\n",
        "    '''\n",
        "    self.A_TminusOne = np.array([\n",
        "        [\n",
        "          [1, 0, 0, 0],\n",
        "          [0, 0, 0, 0],\n",
        "          [0, 0, 0, 1],\n",
        "          [0, 0, 0, 0]\n",
        "        ],\n",
        "        [\n",
        "         [0, 0, 0, 0],\n",
        "         [0, 0, 0, 0],\n",
        "         [0, 0, 0, 0],\n",
        "         [0, 0, 0, 0]\n",
        "        ],\n",
        "        [\n",
        "         [0, 0, 0, 0],\n",
        "         [0, 0, 0, 0],\n",
        "         [0, 0, 0, 0],\n",
        "         [0, 0, 0, 0]\n",
        "        ],\n",
        "        [\n",
        "         [0, 0, 0, 0],\n",
        "         [0, 0, 0, 0],\n",
        "         [0, 0, 0, 0],\n",
        "         [0, 0, 0, 0]\n",
        "        ]\n",
        "    ])\n",
        "\n",
        "\n",
        "\n",
        "  '''\n",
        "  ステップ数を示すメンバ変数のセッター\n",
        "  @param T      int ステップ数\n",
        "  '''\n",
        "  def setT(self, T):\n",
        "    self.T = T\n",
        "      \n",
        "  '''\n",
        "  p_t(s'|s, u')を簡単にしたものを返す\n",
        "    (S', S, U, T) -> R\n",
        "  @param sDash int         状態s_{t + 1}\n",
        "  @param s      int         状態s_t\n",
        "  @param uDash int         状態u_{t + 1}\n",
        "  @param t      int         ステップ\n",
        "\n",
        "  @return p      int  遷移行列を簡単にしたもの {0, 1}\n",
        "  '''\n",
        "  def A(self, sDash, s, uDash, t):\n",
        "    return self.getA(sDash, s, uDash, t)\n",
        "  \n",
        "\n",
        "  '''\n",
        "  遷移確率を簡略化したもののを返すゲッター\n",
        "  @param sDash int         状態s_{t + 1}\n",
        "  @param s      int         状態s_t\n",
        "  @param uDash int         状態u_{t + 1}\n",
        "  @param t      int         ステップ\n",
        "\n",
        "  @return p      int  遷移行列を簡単にしたもの {0,1}\n",
        "  '''\n",
        "  def getA(self, sDash, s, uDash, t):\n",
        "    if t == 0:\n",
        "      return self.A_0[sDash][s][uDash]\n",
        "    elif t == 1:\n",
        "      return self.A_1[sDash][s][uDash]\n",
        "    elif 1 < t and t < T - 2:\n",
        "      return self.A_t[sDash][s][uDash]\n",
        "    elif t == T - 2:\n",
        "      return self.A_TminusTwo[sDash][s][uDash]\n",
        "    elif t == T - 1:\n",
        "      return self.A_TminusOne[sDash][s][uDash]\n",
        "    else:\n",
        "      raise ValueError(\"unexpected value(t) are found.\")\n",
        "\n",
        "  '''\n",
        "  2ビットのs, xのハミング距離に基づいたスコア = 2 - dist(s, x)\n",
        "  @param s     int 2ビット符号\n",
        "  @param x     int 2ビット符号\n",
        "  @reutrn score int スコア\n",
        "  '''\n",
        "  def score(self, s, x):\n",
        "    return 2 - self.hammingDistance(s, x)\n",
        "\n",
        "  '''\n",
        "  2ビットのs, xのハミング距離\n",
        "  @param s int 2ビット符号\n",
        "  @param x int 2ビット符号\n",
        "  @return d int ハミング距離\n",
        "  '''\n",
        "  def hammingDistance(self, s, x):\n",
        "    delta = s^x\n",
        "    d = (delta % 2) + (delta // 2)\n",
        "    return d"
      ],
      "metadata": {
        "id": "5W1FwHLzw0QU"
      },
      "execution_count": null,
      "outputs": []
    },
    {
      "cell_type": "code",
      "source": [
        "encoder = EncoderConv()\n",
        "decoder = DecoderConv()"
      ],
      "metadata": {
        "id": "s89FOyRGReKo"
      },
      "execution_count": null,
      "outputs": []
    },
    {
      "cell_type": "code",
      "source": [
        "viterbiModule = ViterbiModuleConv()"
      ],
      "metadata": {
        "id": "ll-jGSJ_KjfT"
      },
      "execution_count": null,
      "outputs": []
    },
    {
      "cell_type": "code",
      "source": [
        "T = 128\n",
        "X = np.random.randint(low = 0, high = 2, size = (1, T))\n",
        "X[0][T - 2] = X[0][T - 1] = 0\n",
        "X"
      ],
      "metadata": {
        "colab": {
          "base_uri": "https://localhost:8080/"
        },
        "id": "e-hulRpcR1ZT",
        "outputId": "9d13f99a-a194-4480-f571-98614865abaf"
      },
      "execution_count": null,
      "outputs": [
        {
          "output_type": "execute_result",
          "data": {
            "text/plain": [
              "array([[0, 0, 1, 0, 1, 0, 1, 1, 1, 0, 1, 1, 1, 0, 1, 1, 0, 0, 1, 1, 0, 1,\n",
              "        0, 0, 0, 1, 0, 1, 1, 0, 0, 1, 0, 0, 0, 0, 1, 0, 1, 1, 1, 1, 1, 0,\n",
              "        1, 1, 0, 0, 1, 0, 0, 0, 1, 0, 0, 1, 0, 0, 1, 0, 0, 1, 1, 0, 1, 0,\n",
              "        1, 0, 1, 1, 0, 0, 1, 1, 1, 0, 1, 1, 1, 0, 1, 1, 1, 0, 1, 1, 1, 0,\n",
              "        0, 0, 1, 1, 0, 1, 1, 0, 0, 0, 1, 0, 1, 0, 0, 1, 0, 0, 1, 1, 1, 1,\n",
              "        1, 1, 1, 0, 0, 0, 0, 1, 0, 0, 1, 1, 0, 0, 1, 0, 0, 0]])"
            ]
          },
          "metadata": {},
          "execution_count": 9
        }
      ]
    },
    {
      "cell_type": "code",
      "source": [
        "U = encoder.encode(X)"
      ],
      "metadata": {
        "id": "bCgPfWVYR_2S"
      },
      "execution_count": null,
      "outputs": []
    },
    {
      "cell_type": "code",
      "source": [
        "U"
      ],
      "metadata": {
        "colab": {
          "base_uri": "https://localhost:8080/"
        },
        "id": "kTokMIrEW4sg",
        "outputId": "5c45cdb0-a81f-4e30-e9d0-971ef67a2162"
      },
      "execution_count": null,
      "outputs": [
        {
          "output_type": "execute_result",
          "data": {
            "text/plain": [
              "array([[0, 0, 3, 2, 0, 2, 0, 1, 2, 1, 0, 1, 2, 1, 0, 1, 1, 3, 3, 1, 1, 0,\n",
              "        2, 3, 0, 3, 2, 0, 1, 1, 3, 3, 2, 3, 0, 0, 3, 2, 0, 1, 2, 2, 2, 1,\n",
              "        0, 1, 1, 3, 3, 2, 3, 0, 3, 2, 3, 3, 2, 3, 3, 2, 3, 3, 1, 1, 0, 2,\n",
              "        0, 2, 0, 1, 1, 3, 3, 1, 2, 1, 0, 1, 2, 1, 0, 1, 2, 1, 0, 1, 2, 1,\n",
              "        3, 0, 3, 1, 1, 0, 1, 1, 3, 0, 3, 2, 0, 2, 3, 3, 2, 3, 3, 1, 2, 2,\n",
              "        2, 2, 2, 1, 3, 0, 0, 3, 2, 3, 3, 1, 1, 3, 3, 2, 3, 0]])"
            ]
          },
          "metadata": {},
          "execution_count": 11
        }
      ]
    },
    {
      "cell_type": "code",
      "source": [
        "Ustar, delta = viterbiModule.doViterbi(U, True)"
      ],
      "metadata": {
        "id": "jMtJQez1SFJY"
      },
      "execution_count": null,
      "outputs": []
    },
    {
      "cell_type": "code",
      "source": [
        "Ustar"
      ],
      "metadata": {
        "colab": {
          "base_uri": "https://localhost:8080/"
        },
        "id": "oEtWpEcdV3b3",
        "outputId": "8f20d848-f223-49a7-89cd-acd02a4bb147"
      },
      "execution_count": null,
      "outputs": [
        {
          "output_type": "execute_result",
          "data": {
            "text/plain": [
              "array([[3, 1, 3, 1, 3, 0, 0, 1, 3, 0, 1, 2, 2, 3, 0, 1, 3, 0, 1, 3, 1, 2,\n",
              "        3, 1, 2, 2, 2, 2, 3, 1, 2, 3, 1, 3, 0, 0, 0, 0, 0, 1, 3, 0, 1, 2,\n",
              "        3, 0, 0, 1, 2, 2, 2, 3, 1, 3, 1, 2, 2, 2, 3, 1, 3, 0, 0, 0, 1, 2,\n",
              "        2, 3, 1, 2, 2, 3, 0, 0, 0, 1, 2, 3, 1, 2, 3, 0, 0, 1, 2, 3, 1, 2,\n",
              "        3, 0, 0, 0, 0, 1, 2, 2, 3, 0, 0, 0, 0, 1, 3, 0, 0, 0, 1, 3, 1, 2,\n",
              "        3, 0, 1, 2, 3, 0, 0, 0, 0, 0, 1, 3, 1, 2, 3, 1, 3, 0]])"
            ]
          },
          "metadata": {},
          "execution_count": 48
        }
      ]
    },
    {
      "cell_type": "code",
      "source": [
        "delta"
      ],
      "metadata": {
        "colab": {
          "base_uri": "https://localhost:8080/"
        },
        "id": "I18QMzuzWtV-",
        "outputId": "2c28775b-cc64-4292-b427-16ac82bac0af"
      },
      "execution_count": null,
      "outputs": [
        {
          "output_type": "execute_result",
          "data": {
            "text/plain": [
              "array([[100, 102, 104, 104, 105, 108, 109, 112, 113, 115, 117, 120, 121,\n",
              "        123, 125, 128, 129, 131, 136, 136, 137, 139, 142, 143, 148, 150,\n",
              "        150, 151, 154, 155, 157, 162, 162, 163, 168, 170, 172, 172, 173,\n",
              "        176, 177, 179, 181, 183, 185, 188, 189, 191, 196, 196, 197, 202,\n",
              "        204, 204, 205, 210, 210, 211, 216, 216, 217, 222, 222, 223, 225,\n",
              "        228, 229, 232, 233, 236, 237, 239, 244, 244, 245, 247, 249, 252,\n",
              "        253, 255, 257, 260, 261, 263, 265, 268, 269, 271, 273, 278, 280,\n",
              "        280, 281, 283, 286, 287, 289, 294, 296, 296, 297, 300, 301, 306,\n",
              "        306, 307, 312, 312, 313, 315, 317, 319, 321, 323, 325, 330, 332,\n",
              "        334, 334, 335, 340, 340, 341, 343, 348, 348, 349, 354, 356],\n",
              "       [  0, 100, 102, 106, 105, 110, 109, 114, 113, 115, 117, 122, 121,\n",
              "        123, 125, 130, 129, 131, 134, 138, 137, 139, 144, 143, 146, 148,\n",
              "        152, 151, 156, 155, 157, 160, 164, 163, 166, 168, 170, 174, 173,\n",
              "        178, 177, 179, 181, 183, 185, 190, 189, 191, 194, 198, 197, 200,\n",
              "        202, 206, 205, 208, 212, 211, 214, 218, 217, 220, 224, 223, 225,\n",
              "        230, 229, 234, 233, 238, 237, 239, 242, 246, 245, 247, 249, 254,\n",
              "        253, 255, 257, 262, 261, 263, 265, 270, 269, 271, 273, 276, 278,\n",
              "        282, 281, 283, 288, 287, 289, 292, 294, 298, 297, 302, 301, 304,\n",
              "        308, 307, 310, 314, 313, 315, 317, 319, 321, 323, 325, 328, 330,\n",
              "        332, 336, 335, 338, 342, 341, 343, 346, 350, 349,   0,   0],\n",
              "       [  0,   0, 101, 103, 108, 107, 112, 111, 114, 116, 120, 119, 122,\n",
              "        124, 128, 127, 130, 134, 133, 135, 138, 142, 141, 146, 145, 147,\n",
              "        149, 154, 153, 156, 160, 159, 161, 166, 165, 167, 169, 171, 176,\n",
              "        175, 178, 180, 182, 184, 188, 187, 190, 194, 193, 195, 200, 199,\n",
              "        201, 203, 208, 207, 209, 214, 213, 215, 220, 219, 221, 224, 228,\n",
              "        227, 232, 231, 236, 235, 238, 242, 241, 243, 246, 248, 252, 251,\n",
              "        254, 256, 260, 259, 262, 264, 268, 267, 270, 272, 276, 275, 277,\n",
              "        279, 282, 286, 285, 288, 292, 291, 293, 295, 300, 299, 304, 303,\n",
              "        305, 310, 309, 311, 314, 316, 318, 320, 322, 324, 328, 327, 329,\n",
              "        331, 333, 338, 337, 339, 342, 346, 345, 347, 352, 351,   0],\n",
              "       [  0,   0, 101, 103, 106, 107, 110, 111, 116, 118, 118, 119, 124,\n",
              "        126, 126, 127, 132, 132, 133, 135, 140, 140, 141, 144, 145, 147,\n",
              "        149, 152, 153, 158, 158, 159, 161, 164, 165, 167, 169, 171, 174,\n",
              "        175, 180, 182, 184, 186, 186, 187, 192, 192, 193, 195, 198, 199,\n",
              "        201, 203, 206, 207, 209, 212, 213, 215, 218, 219, 221, 226, 226,\n",
              "        227, 230, 231, 234, 235, 240, 240, 241, 243, 248, 250, 250, 251,\n",
              "        256, 258, 258, 259, 264, 266, 266, 267, 272, 274, 274, 275, 277,\n",
              "        279, 284, 284, 285, 290, 290, 291, 293, 295, 298, 299, 302, 303,\n",
              "        305, 308, 309, 311, 316, 318, 320, 322, 324, 326, 326, 327, 329,\n",
              "        331, 333, 336, 337, 339, 344, 344, 345, 347, 350,   0,   0]])"
            ]
          },
          "metadata": {},
          "execution_count": 49
        }
      ]
    },
    {
      "cell_type": "code",
      "source": [
        "#エラー率\n",
        "print(np.sum(Ustar ^ U) / (2 * T) )"
      ],
      "metadata": {
        "colab": {
          "base_uri": "https://localhost:8080/"
        },
        "id": "bZmeMw6yELOU",
        "outputId": "0614e3ad-41b7-42bd-d565-670401acec98"
      },
      "execution_count": null,
      "outputs": [
        {
          "output_type": "stream",
          "name": "stdout",
          "text": [
            "0.73828125\n"
          ]
        }
      ]
    },
    {
      "cell_type": "markdown",
      "source": [
        "## 通信モデルに基づいたシミュレーション用のモジュール"
      ],
      "metadata": {
        "id": "GCL330XtCyhW"
      }
    },
    {
      "cell_type": "markdown",
      "source": [
        "*  情報源\n",
        "*  情報源符号器\n",
        "*  通信路符号器\n",
        "*  通信路\n",
        "*  白色ガウス雑音\n",
        "*  通信路複復号器\n",
        "*  情報源復号器"
      ],
      "metadata": {
        "id": "AMDdNHytC71f"
      }
    },
    {
      "cell_type": "code",
      "source": [],
      "metadata": {
        "id": "FZLRkk1UXWvw"
      },
      "execution_count": null,
      "outputs": []
    },
    {
      "cell_type": "markdown",
      "source": [
        "### 情報源\n",
        "numpy.randomでも代用可"
      ],
      "metadata": {
        "id": "weIIPCeNt9Hk"
      }
    },
    {
      "cell_type": "code",
      "source": [
        "'''\n",
        "情報源クラス\n",
        "'''\n",
        "class InformationSource:\n",
        "  def __init__(self,\n",
        "                 N = 9,   #次数\n",
        "                 a = 4, b = 9 #帰還タップ\n",
        "                 ):\n",
        "    self.N = N\n",
        "    self.a = a\n",
        "    self.b = b\n",
        "\n",
        "  \n",
        "  '''\n",
        "  乱数(M系列)を発生させる\n",
        "  @param informationSize int             発生させる乱数の個数\n",
        "  @return information     numpy.ndarray 乱数\n",
        "  '''\n",
        "  def outputInformation(self, informationSize):\n",
        "    information = np.empty(informationSize, dtype = int)\n",
        "\n",
        "    for i in range(informationSize):\n",
        "      if i < self.N :\n",
        "        information[i] = random.randrange(2)\n",
        "      else :\n",
        "        information[i] = information[i - self.a] ^ information[i - self.b]\n",
        "\n",
        "    return information"
      ],
      "metadata": {
        "id": "aWzPKbUUt8SH"
      },
      "execution_count": null,
      "outputs": []
    },
    {
      "cell_type": "markdown",
      "source": [
        "### 情報源符号器"
      ],
      "metadata": {
        "id": "BdzINIyq3JMC"
      }
    },
    {
      "cell_type": "code",
      "source": [
        "'''\n",
        "情報源符号器\n",
        "'''\n",
        "class Encoder:\n",
        "  '''\n",
        "  @param M int 符号のビット数\n",
        "  '''\n",
        "  def __init__(self,\n",
        "               M #符号のビット数\n",
        "               ) :\n",
        "    self.M = M\n",
        "\n",
        "    #２進数のマスク\n",
        "    self.mask = np.array([1 << bit for bit in range(M)])\n",
        "  \n",
        "  '''\n",
        "  0/1乱数をM[bit]の符号にする\n",
        "  @param information numpy.ndarray 0/1の乱数(情報)\n",
        "  @return data        numpy.ndarray 符号\n",
        "  '''\n",
        "  def encode(self,\n",
        "             information):\n",
        "    information2 = np.concatenate([information, information])\n",
        "\n",
        "    data = np.array([\n",
        "        self.mask @ information2[i: i + self.M] \n",
        "        for i in range(information.size)\n",
        "    ])\n",
        "    data = np.reshape(data, (1, data.size))\n",
        "\n",
        "    return data\n",
        "\n",
        "    return np.array([\n",
        "        np.array([self.mask @ information2[i: i + self.M] ])\n",
        "        for i in range(information.size)\n",
        "    ])\n",
        "    \n",
        "    '''\n",
        "    return np.array([\n",
        "        self.mask @ information2[i: i + self.M]\n",
        "        for i in range(information.size)\n",
        "    ])\n",
        "    '''"
      ],
      "metadata": {
        "id": "YHgrrmSw3NLE"
      },
      "execution_count": null,
      "outputs": []
    },
    {
      "cell_type": "markdown",
      "source": [
        "### 通信路符号器"
      ],
      "metadata": {
        "id": "t3Cb1L_0Gmdw"
      }
    },
    {
      "cell_type": "markdown",
      "source": [
        "Mは単位が[bit]とする\n",
        "**MPSKのとき**$$\\mathbb{Z} \\mapsto \\mathbb{C}:x\\mapsto \\sqrt{P_s} \\cdot  \\exp\\Big(j\\frac{2\\pi}{2^M}x\\Big)$$  <br>\n",
        "\n",
        "**MQAMのとき**<br>データ$x$を上位ビット$x^U$，下位ビット$x^L$に分けて\n",
        "$$\n",
        "f:\\times2d - (2^{M/2} - 1)d\n",
        "$$\n",
        "を作用させてそれぞれ複素信号$s$の実部$s^I$と虚部$s^Q$とする． <br>\n",
        "ただし$2d$は信号点間隔であり，電力$\\mathbb{E}\\big[|s|^2\\big]$を$P_S$に固定するとき\n",
        "$$\n",
        "P_S = \n",
        "\\frac{1}{2^M} \\cdot\n",
        "\\sum_{x \\in \\{0, 1, \\cdots 2^M - 1\\} }\n",
        "  \\Bigg\\| f(x^U) + jf(x^L) \\Bigg\\|^2\n",
        "$$\n",
        "\n",
        "より$d$は以下のように確定する.\n",
        "\n",
        "$$\n",
        "d = \\sqrt{\\frac{3}{2} \\frac{P_S}{2^M - 1 } }\n",
        "$$"
      ],
      "metadata": {
        "id": "g4U9BMQtG9-k"
      }
    },
    {
      "cell_type": "code",
      "source": [
        "'''\n",
        "通信路符号器\n",
        "'''\n",
        "class Modulator:\n",
        "  '''\n",
        "  constructor\n",
        "  @param M              int   多値数[bit] 単位がビットであることに注意\n",
        "  @param mode          str   変調方式 ex) mode = \"PSK\", mode = \"QAM\"\n",
        "  @param isGrayCode    bool  グレイコードにするか否か\n",
        "  @param powerOfSignal float １シンボルあたりの送信電力 (１ビットあたりの送信電力ではない！)\n",
        "  '''\n",
        "  def __init__(self,\n",
        "               M,\n",
        "               mode,\n",
        "               isGrayCode = True,\n",
        "               powerOfSignal  = 1.0\n",
        "               ):\n",
        "    \n",
        "    self.M = M\n",
        "    self.mode = mode\n",
        "    self.isGrayCode = isGrayCode\n",
        "    self.powerOfSignal = powerOfSignal\n",
        "\n",
        "    if mode == \"QAM\":\n",
        "      self.d = math.sqrt(\n",
        "          1.5 * self.powerOfSignal / ( (1 << self.M) - 1 )\n",
        "      )\n",
        "    \n",
        "    elif mode == \"PSK\":\n",
        "      self.A  = math.sqrt( self.powerOfSignal )\n",
        "\n",
        "  '''\n",
        "  変調\n",
        "  @param data     np.ndarray データ\n",
        "  @return symbol  np.ndarray シンボル\n",
        "  '''\n",
        "  def modulate(self,data):\n",
        "    if self.mode == \"PSK\":\n",
        "      if self.isGrayCode == True:\n",
        "        data = self.grayEncode(data)\n",
        "      return self.A * np.exp(1j * 2.0 * np.pi/ (1 << self.M) * data)\n",
        "    \n",
        "    if self.mode == \"QAM\":\n",
        "      x_U = self.sliceUpperBit(data)\n",
        "      if self.isGrayCode == True:\n",
        "        x_U = self.grayEncode(x_U)\n",
        "\n",
        "      x_L = self.sliceLowerBit(data)\n",
        "      if self.isGrayCode  == True:\n",
        "        x_L = self.grayEncode(x_L)\n",
        "\n",
        "      s_I = self.f(x_U)\n",
        "      s_Q = self.f(x_L)\n",
        "      return s_I + 1j * s_Q\n",
        "  \n",
        "  '''\n",
        "  上位ビット取得\n",
        "  @param x    np.ndarray {0, 1, ..., 2^M - 1} データ\n",
        "  @return x_U np.ndarray 上位ビット\n",
        "  '''\n",
        "  def sliceUpperBit(self, x) :\n",
        "    return (\n",
        "        x >> (self.M//2)\n",
        "    )\n",
        "  \n",
        "  '''\n",
        "  下位ビット取得\n",
        "  @param x    np.ndarray {0, 1, ..., 2^M - 1} データ\n",
        "  @return x_D np.ndarray 下位ビット\n",
        "  '''\n",
        "  def sliceLowerBit(self, x) :\n",
        "    return x & (\n",
        "        ( 1 << (self.M//2) ) - 1\n",
        "    )\n",
        "  \n",
        "  '''\n",
        "  M/2ビットを等間隔に配置\n",
        "  @param x_           np.ndarray  M/2ビットのデータ\n",
        "  @return symbolPart   np.ndarray  信号点のI/Q座標\n",
        "  '''\n",
        "  def f(self, x_):\n",
        "    return self.d * (\n",
        "          x_ * 2 - (\n",
        "              (1 << (self.M//2) ) - 1\n",
        "            )\n",
        "        )\n",
        "  \n",
        "  '''\n",
        "  グレイコードにする\n",
        "  @param n            array_like integer\n",
        "  @return              array_like gray coded object\n",
        "  '''\n",
        "  def grayEncode(self, n):\n",
        "    return n ^ n >> 1\n",
        "  \n",
        "  '''\n",
        "  グレイコードから直す\n",
        "  @param n           array_like gray coded object\n",
        "  @return             array_like gray decoded object\n",
        "  '''\n",
        "  def grayDecode(self, n):\n",
        "    i = isinstance(n, int)\n",
        "    n = np.array([n]) if i else n.copy()\n",
        "    m = n >> 1\n",
        "    while not (m == 0).all():\n",
        "        n ^= m\n",
        "        m >>= 1\n",
        "    return n[0] if i else n\n",
        "  \n",
        "  '''\n",
        "  信号点配置の表示と電力を計算する\n",
        "  '''\n",
        "  def debug(self):\n",
        "    dataSet = np.arange(1 << self.M)\n",
        "    dataset = self.grayEncode(dataSet)\n",
        "    symbolSet = self.modulate(dataSet)\n",
        "\n",
        "    plt.scatter( symbolSet.real, symbolSet.imag, label = \"{}{}\".format(1 << self.M, self.mode))\n",
        "    for n in range(1 << self.M):\n",
        "      data = dataSet[n]\n",
        "      symbol = symbolSet[n]\n",
        "      plt.annotate(\"${}$\".format( format(data, 'b') ), xy = (symbol.real, symbol.imag))\n",
        "\n",
        "    plt.xlabel(\"I\")\n",
        "    plt.ylabel(\"Q\")\n",
        "\n",
        "\n",
        "    plt.legend()\n",
        "    plt.savefig(\"{}{}.png\".format(\n",
        "        1 << self.M,\n",
        "        self.mode  \n",
        "      )\n",
        "    )\n",
        "\n",
        "    plt.show()\n",
        "\n",
        "    print(\"calculated power of signal: {}\".format(\n",
        "        math.sqrt(\n",
        "          np.mean( np.abs(symbolSet) ** 2 )\n",
        "        )\n",
        "      )\n",
        "    )"
      ],
      "metadata": {
        "id": "pF8dDwEnoywv"
      },
      "execution_count": null,
      "outputs": []
    },
    {
      "cell_type": "code",
      "source": [
        "modulatorTest = Modulator(\n",
        "    M = 4,\n",
        "    mode = \"QAM\",\n",
        "    isGrayCode = True\n",
        ")\n",
        "\n",
        "modulatorTest.debug()"
      ],
      "metadata": {
        "colab": {
          "base_uri": "https://localhost:8080/",
          "height": 296
        },
        "id": "f2C4N0n5owgc",
        "outputId": "ae06f13d-bc74-4a22-d926-08626e21cc45"
      },
      "execution_count": null,
      "outputs": [
        {
          "output_type": "display_data",
          "data": {
            "text/plain": [
              "<Figure size 432x288 with 1 Axes>"
            ],
            "image/png": "[encoded data removed]"
          },
          "metadata": {
            "needs_background": "light"
          }
        },
        {
          "output_type": "stream",
          "name": "stdout",
          "text": [
            "calculated power of signal: 1.0\n"
          ]
        }
      ]
    },
    {
      "cell_type": "markdown",
      "source": [
        "### 通信路"
      ],
      "metadata": {
        "id": "C-gpsH--YApR"
      }
    },
    {
      "cell_type": "code",
      "source": [
        "'''\n",
        "通信路\n",
        "'''\n",
        "class Channel:\n",
        "  '''\n",
        "  @param channelMatrix np.ndarray チャネル行列H\n",
        "  '''\n",
        "  def __init__(self, channelMatrix):\n",
        "    self.channelMatrix = channelMatrix\n",
        "  \n",
        "  '''\n",
        "  シンボルsを通信路Hに通して出力( y = Hu 出力)\n",
        "  @param symbol np.ndarray 入力シンボル\n",
        "  @reutrn         np.ndarray 出力シンボル\n",
        "  '''\n",
        "  def transport(self, symbol):\n",
        "    return self.channelMatrix @ symbol"
      ],
      "metadata": {
        "id": "4eb_i4P7YCj1"
      },
      "execution_count": null,
      "outputs": []
    },
    {
      "cell_type": "code",
      "source": [
        "'''\n",
        "クロネッカーモデル通信路\n",
        "'''\n",
        "class KroneckerChannel(Channel):\n",
        "  '''\n",
        "  @paran Nt   送信アンテナ数\n",
        "  @paran Nr   受信アンテナ数\n",
        "  @param rho 相関係数\n",
        "  @param\n",
        "  '''\n",
        "  def __init__(self, Nt, Nr, rho):\n",
        "    self.Nt = Nt\n",
        "    self.Nr = Nr\n",
        "    self.rho = rho\n",
        "    \n",
        "    self.Rt = self.Nt * self.exponentialCorrelationMatrix(self.Nt, self.rho)\n",
        "    self.G = self.gaussianMatrix(self.Nr, self.Nt)\n",
        "    self.Rr = self.Nr * self.exponentialCorrelationMatrix(self.Nr, self.rho)\n",
        "    self.kappa = np.trace(self.Rt)\n",
        "\n",
        "\n",
        "    self.H = self.calcKroneckerChannel(self.Rt, self.G, self.Rr, self.kappa)\n",
        "  \n",
        "  def exponentialCorrelationMatrix(self, N, rho):\n",
        "    mat = np.array([\n",
        "        [ i - j for j in range(N) ]\n",
        "        for i in range(N)\n",
        "    ])\n",
        "    mat = np.abs(mat)\n",
        "    mat = np.power(rho, mat)\n",
        "    return mat\n",
        "  \n",
        "  def gaussianMatrix(self, rowNum, colNum):\n",
        "    mat = np.array([\n",
        "        [\n",
        "            random.gauss(mu = 0, sigma = np.sqrt(0.5) ) + 1j * random.gauss(mu = 0, sigma = np.sqrt(0.5) ) \n",
        "            for col in range(colNum)\n",
        "        ]\n",
        "        for row in range(rowNum)\n",
        "    ])\n",
        "    return mat"
      ],
      "metadata": {
        "id": "lHESuGVd7g54"
      },
      "execution_count": null,
      "outputs": []
    },
    {
      "cell_type": "markdown",
      "source": [
        "### 白色ガウス雑音加算器\n",
        "複素ガウス分布に従う雑音$\\boldsymbol{n}$をBox-Muller法で発生させる．\n",
        "$$\n",
        "\\boldsymbol{n} \\sim \\mathcal{CN}( 0, \\sigma^2  )\n",
        "$$\n",
        "実部と虚部は$\\mathcal{N}(0, \\sigma^2/2)$に従うことに注意"
      ],
      "metadata": {
        "id": "oZqG0ypDZ93B"
      }
    },
    {
      "cell_type": "code",
      "source": [
        "class AwgnAdder:\n",
        "  '''\n",
        "  constructor\n",
        "  '''\n",
        "  def __init__(self):\n",
        "    return\n",
        "  \n",
        "  '''\n",
        "  シンボルにガウスノイズn ~ CN(0, σ^2)をのせて返す\n",
        "  @param symbol  np.ndarray       シンボル\n",
        "  @param variance float            分散\n",
        "  @return symbolNoizes np.ndarray ノイズが加算されたシンボル\n",
        "  '''\n",
        "  def addAwgn(self, symbol, variance):\n",
        "    noizeVector = np.array([\n",
        "          self.generateGaussian(variance) for _ in range(symbol.size)\n",
        "        ])\n",
        "    noizeMatrix = noizeVector.reshape( symbol.shape )\n",
        "    return symbol + noizeMatrix\n",
        "\n",
        "  ''''\n",
        "  複素標準ガウス雑音n ~ CN(0, σ^2)生成\n",
        "  @param variance float     分散σ^2\n",
        "  @return gaussian complex 複素標準ガウス雑音n ~ CN(0, σ^2)\n",
        "  '''\n",
        "  def generateGaussian(self, variance):\n",
        "    #確率変数x_1, x_2 ~ U(0, 1)\n",
        "    x_1 = random.uniform(0.0, 1.0)\n",
        "    x_2 = random.uniform(0.0, 1.0)\n",
        "\n",
        "    #確率変数x_1, x_2を変換して標準正規分布に従う確率変数y_1, y_2とする\n",
        "    y_1 = np.sqrt(-2.0 * np.log(x_1)) * np.cos(2.0 * np.pi * x_2)\n",
        "    y_2 = np.sqrt(-2.0 * np.log(x_1)) * np.sin(2.0 * np.pi * x_2)\n",
        "\n",
        "    return np.sqrt( variance / 2.0) * (y_1 + 1j * y_2)"
      ],
      "metadata": {
        "id": "OhMcx7v4aCjU"
      },
      "execution_count": null,
      "outputs": []
    },
    {
      "cell_type": "markdown",
      "source": [
        "### 通信路複復号器\n",
        "\n",
        "***MPSK M$[\\rm{bit}]$*** のとき <br>\n",
        "受け取った信号$y$に対して\n",
        "$$\n",
        "\\hat{x} = \\rm{round} \\Bigg( \n",
        "  \\frac{\n",
        "  \\rm{arg}(y)\n",
        "}{\n",
        "  2 \\pi / 2^M\n",
        "} \\Bigg)\n",
        "$$\n",
        "と復調する．<br>\n",
        "\n",
        "***MQAM M$[\\rm{bit}]$***のとき <br>\n",
        "受け取った信号$y = y^I + j y^Q$に対して\n",
        "$$\n",
        "\\hat{x}^{(\\cdot)}  = \\rm{round}\\Bigg(\n",
        "  \\frac{1}{2}\n",
        "  \\bigg\\{\n",
        "    \\frac{y^{(\\cdot)} }{d} + 2^{M/2} - 1\n",
        "  \\bigg\\}\n",
        "  \\Bigg)\n",
        "$$\n",
        "として上位ビット$\\hat{x}^U$および下位ビット$\\hat{x}^D$と復調する. <br>\n",
        "ただし$\\hat{x}^{(\\cdot)} < 0$のとき$\\hat{x}^{(\\cdot)} = 0$, $\\hat{x}^{(\\cdot)} \\geq 2^{M/2}$のとき$\\hat{x}^{(\\cdot)} = 2^{M/2} - 1$とする．<br>\n",
        "\n",
        "また，計算量はあるが確実な方法として最小ノルムを指定するシンボルを推定地にする復調法も実装した．すなわち\n",
        "$$\n",
        "\\hat{x} = \\rm{arg min}_{x \\in \\{0, 1, \\cdots, 2^M-1\\} } \\Big\\| \\rm{modulate} (x) - y \\Big\\|\n",
        "$$"
      ],
      "metadata": {
        "id": "VTqNKLB4UoND"
      }
    },
    {
      "cell_type": "code",
      "source": [
        "class Demodulator(Modulator):\n",
        "  '''\n",
        "  constructor\n",
        "  @param M              int   多値数[bit] 単位がビットであることに注意\n",
        "  @param mode          str   変調方式 ex) mode = \"PSK\", mode = \"QAM\"\n",
        "  @param argmin         bool argminで復調するか否か\n",
        "  @param powerOfSignal float １シンボルあたりの送信電力 (１ビットあたりの送信電力ではない！)\n",
        "  '''\n",
        "  def __init__(self,\n",
        "               M,\n",
        "               mode,\n",
        "               isGrayCode = True,\n",
        "               powerOfSignal  = 1.0,\n",
        "               argmin = False\n",
        "               ):\n",
        "    super().__init__(M, mode, isGrayCode, powerOfSignal)\n",
        "    self.argmin = argmin\n",
        "    self.dataOrigin = np.arange(1 << self.M)\n",
        "    if self.isGrayCode == True:\n",
        "      self.dataOrigin =  self.grayEncode( self.dataOrigin )\n",
        "    self.symbolOrigin = self.modulate(self.dataOrigin)\n",
        "    \n",
        "    \n",
        "\n",
        "  '''\n",
        "  復調\n",
        "  @param symbolReceived         np.ndarray 受け取ったシンボル\n",
        "  @return dataDemodulated       np.ndarray 復調されたデータ\n",
        "  '''\n",
        "  def demodulate(self, symbolReceived):\n",
        "    if self.argmin == True:\n",
        "      dataDemodulated =  np.array([\n",
        "          np.argmin(\n",
        "              abs(self.symbolOrigin - symbolReceived_) \n",
        "          )\n",
        "          for symbolReceived_ in symbolReceived\n",
        "      ])\n",
        "\n",
        "      if self.isGrayCode == True:\n",
        "        dataDemodulated = self.grayDecode( dataDemodulated )\n",
        "\n",
        "    elif self.mode == \"PSK\":\n",
        "      dataDemodulated = np.angle( symbolReceived )\n",
        "      dataDemodulated = dataDemodulated / (\n",
        "          2.0 * np.pi / ( 1 << self.M )\n",
        "      )\n",
        "      dataDemodulated = dataDemodulated.round()\n",
        "      dataDemodulated = np.array(dataDemodulated.round(), dtype = 'int')\n",
        "      dataDemodulated = np.where(dataDemodulated < 0,\n",
        "                                   dataDemodulated + (1 << self.M),\n",
        "                                   dataDemodulated)\n",
        "      if self.isGrayCode == True:\n",
        "        dataDemodulated = self.grayDecode( dataDemodulated )\n",
        "    \n",
        "    elif self.mode == \"QAM\":\n",
        "      x_U = symbolReceived.real / self.d + (1 << self.M//2) - 1\n",
        "      x_U /= 2.0\n",
        "      x_U = x_U.round()\n",
        "      x_U = np.array(x_U, dtype = 'int')\n",
        "      x_U = np.where(x_U < 0, 0, x_U)\n",
        "      x_U = np.where(x_U > ( (1 << self.M//2) - 1), (1 << self.M//2) - 1, x_U)\n",
        "\n",
        "      x_L = symbolReceived.imag / self.d + (1 << self.M//2) - 1\n",
        "      x_L /= 2.0\n",
        "      x_L = x_L.round()\n",
        "      x_L = np.array(x_L, dtype = 'int')\n",
        "      x_L = np.where(x_L < 0, 0, x_L)\n",
        "      x_L = np.where(x_L > ( (1 << self.M//2) - 1), (1 << self.M//2) - 1, x_L)\n",
        "\n",
        "      if self.isGrayCode == True:\n",
        "        x_U = self.grayDecode(x_U)\n",
        "        x_L = self.grayDecode(x_L)\n",
        "      \n",
        "      dataDemodulated = (x_U << self.M//2) + x_L\n",
        "    \n",
        "    return dataDemodulated\n",
        "  \n",
        "  '''\n",
        "  信号点配置の表示と電力を計算する\n",
        "  '''\n",
        "  def debug(self):\n",
        "    dataSet = np.arange(1 << self.M)\n",
        "    symbolSet = self.modulate(dataSet)\n",
        "\n",
        "    dataDemodulated = self.demodulate( symbolSet )\n",
        "    print(\"data origin: {}\".format(dataSet))\n",
        "    print(\"data demodulated {}: \".format(dataDemodulated) )"
      ],
      "metadata": {
        "id": "d5qKyhXuZg80"
      },
      "execution_count": null,
      "outputs": []
    },
    {
      "cell_type": "markdown",
      "source": [
        "## その他のモジュール"
      ],
      "metadata": {
        "id": "DYly3wlsBONE"
      }
    },
    {
      "cell_type": "markdown",
      "metadata": {
        "id": "nkqtpBWdJOF-"
      },
      "source": [
        "### $\\rm{SNR}$もしくは$\\frac{E_b}{N_0}$から雑音$\\boldsymbol{n} $の分散$\\sigma^2$を計算する関数"
      ]
    },
    {
      "cell_type": "markdown",
      "metadata": {
        "id": "1H6lcgzMJOF-"
      },
      "source": [
        "**SN比から雑音の分散を計算**<br>繰り返し記述しておくが，雑音$ \\boldsymbol{n}$の実部，虚部はそれぞれ$\\mathcal{N} (0, \\sigma^2/2)$に従う.\n",
        "$$\n",
        "\\rm{SNR} [\\mbox{dB}]  = 10 \\log_{10} \\frac{P_S}{P_N} = 10 \\log_{10} \\frac{1}{  \\sigma^2 }\n",
        "$$\n",
        "\n",
        "$$\n",
        "\\therefore\n",
        "\\rm{分散} \\sigma^2 = 10^{- \\rm{SNR}/10 }\n",
        "$$\n",
        "\n",
        "**$\\frac{ E_b }{ N_0 }$から雑音の分散を計算**<br>\n",
        "\n",
        "\n",
        "$$\n",
        "\\begin{cases}\n",
        "P_S &= M[\\rm{bit}] \\times E_b \\\\\n",
        "\\frac{E_b}{N_0} &= 10 \\log_{10} \\Big( \\frac{ E_b }{ \\sigma^2 } \\Big) \n",
        "\\end{cases}\n",
        "$$\n",
        "\n",
        "\n",
        "$$\n",
        "\\therefore \\mbox{分散} \\sigma^2 = \\frac{P_S}{ M[\\rm{bit}] } 10^{\n",
        " - E_b/N_0 \\big/ 10\n",
        "}\n",
        "$$"
      ]
    },
    {
      "cell_type": "code",
      "source": [
        "'''\n",
        "雑音分散を計算\n",
        "@param rate          float     SNR or EbN0\n",
        "@param rateMode    str      \"SNR\" or \"EbN0\"\n",
        "@param M            int      多値数[bit]\n",
        "@param P_S          float    信号電力\n",
        "@return variance      float    雑音の分散\n",
        "'''\n",
        "def calcVariance(\n",
        "    rate,\n",
        "    rateMode,\n",
        "    M,\n",
        "    P_S = 1.0\n",
        "):\n",
        "  if rateMode == \"SNR\" :\n",
        "    return np.power(10.0, - rate / 10.0 )\n",
        "  \n",
        "  elif rateMode == \"EbN0\":\n",
        "    return P_S / M * np.power(10.0, - rate / 10.0)"
      ],
      "metadata": {
        "id": "fOwE_Cqlk3qY"
      },
      "execution_count": null,
      "outputs": []
    },
    {
      "cell_type": "markdown",
      "metadata": {
        "id": "D9ctFA5WMnWP"
      },
      "source": [
        "### SER/BER計算機\n",
        "送信したデータセットと，復調したデータセットの中身のうち正しく予測したものの割合"
      ]
    },
    {
      "cell_type": "code",
      "execution_count": null,
      "metadata": {
        "id": "6hd7y37ZMnWQ"
      },
      "outputs": [],
      "source": [
        "'''\n",
        "SER/BER計算機\n",
        "@param M              int 多値数[bit]\n",
        "@param errrorMode     str \"SER\" or \"BER\"\n",
        "'''\n",
        "class ErrorCalculator:\n",
        "  def __init__(self, M, errorMode) :\n",
        "    self.M = M\n",
        "    self.errorMode = errorMode\n",
        "\n",
        "  \n",
        "  '''\n",
        "  SER or BER計算\n",
        "  @param dataOrigin        変調する前のデータ\n",
        "  @param dataDemodulated 復調したデータ\n",
        "  '''\n",
        "  def calcError(self,\n",
        "                dataOrigin,\n",
        "                dataDemodulated):\n",
        "    if self.errorMode == \"SER\":\n",
        "      return self.calcSER(dataOrigin, dataDemodulated)\n",
        "    \n",
        "    elif self.errorMode == \"BER\":\n",
        "      return self.calcBER(dataOrigin, dataDemodulated)\n",
        "\n",
        "  '''\n",
        "  SER計算\n",
        "  @param dataOrigin        変調する前のデータ\n",
        "  @param dataDemodulated 復調したデータ\n",
        "  '''\n",
        "  def calcSER(self, \n",
        "              dataOrigin,\n",
        "              dataDemodulated):\n",
        "    return np.count_nonzero(\n",
        "        dataOrigin != dataDemodulated\n",
        "    ) / dataOrigin.size\n",
        "\n",
        "  '''\n",
        "  BER計算\n",
        "  @param dataOrigin        変調する前のデータ\n",
        "  @param dataDemodulated 復調したデータ\n",
        "  '''\n",
        "  def calcBER(self,\n",
        "              dataOrigin,\n",
        "              dataDemodulated):\n",
        "    dataDelta = dataOrigin ^ dataDemodulated\n",
        "    dataDeltaBits = np.array([\n",
        "        self.transformBitsFromInt(data)\n",
        "        for data in dataDelta\n",
        "        ])\n",
        "    '''\n",
        "    or\n",
        "    dataDeltaBits = self.transformBitsFromInt(data)\n",
        "    '''\n",
        "\n",
        "    deltaCnt = np.sum( dataDeltaBits )\n",
        "\n",
        "    return deltaCnt / dataDeltaBits.size\n",
        "\n",
        "  '''\n",
        "  整数を{0,1}^(桁数)に変換\n",
        "  @param integer          int        変換する整数\n",
        "  @return bits             np.ndarray 変換された0/1ビット配列\n",
        "  '''\n",
        "  def transformBitsFromInt(self, integer):\n",
        "    return np.array([\n",
        "        ( integer & (1 << m) ) >> m\n",
        "        for m in range( self.M )\n",
        "    ])\n"
      ]
    },
    {
      "cell_type": "markdown",
      "source": [
        "### SER, BERの理論式\n",
        "\n",
        "$M$[bit]個のビット列からなるシンボル誤り率$P_{\\rm{SER}}$は，ビット誤り率$P_{\\rm{BER}}$と\n",
        "$$\n",
        "P_\\rm{BER} = \\frac{2^{M-1}}{2^M - 1} P_\\rm{SER}\n",
        "$$\n",
        "という関係がある．<br>\n",
        "\n",
        "**PSK**の理論式\n",
        "$M = 1$(BPSK)のとき\n",
        "$$\n",
        "P_\\rm{SER} = \\frac{1}{2} \\rm{erfc}( \\sqrt{\\gamma} )\n",
        "$$\n",
        "\n",
        "それ以外\n",
        "$$\n",
        "P_\\rm{SER} \\simeq \\rm{erfc} \\Bigg(\\sqrt{\\gamma} \\sin \\frac{\\pi}{2^M}\\Bigg)\n",
        "$$\n",
        "\n",
        "**QAM**の理論式\n",
        "\n",
        "$$\n",
        "P_\\rm{SER} \\simeq 2\\Big(1 - \\frac{1}{ 2^{M/2} } \\Big) \\rm{erfc}\n",
        "\\Bigg[ \n",
        "\\sqrt{ \\frac{3}{2(2^M - 1)} \\cdot \\gamma}\n",
        "\\Bigg]\n",
        "$$\n",
        "ただし$\\gamma_p$は最大振幅を持つ信号の電力対雑音電力比\n",
        "\n",
        "あるいは\n",
        "$$\n",
        "P_{BER} = P_{SER} if PSK \\\\\n",
        "P_{BER} = \\alpha \\ \\rm{erfc}\\Big( \\sqrt{\n",
        "  \\frac{\\gamma}{\\beta}\n",
        "}  \\Big)\n",
        "$$\n",
        "\n",
        "| | | |\n",
        "| --- | --- | --- |\n",
        "|  | $\\alpha$ | $\\beta$ |\n",
        "| QPSK | 1/2 | 2 |\n",
        "| 16QAM | 3/8 | 10 |\n",
        "| 64QAM | 7/24 | 42 |\n",
        "| 256QAM | 15/64 | 42 | \n",
        "| 1024QAM | 31/160 | 682 |\n"
      ],
      "metadata": {
        "id": "C-bZqZ1iLrRA"
      }
    },
    {
      "cell_type": "code",
      "source": [
        "'''\n",
        "SNR or Eb/N0によるSER or BERの理論式\n",
        "@param M            int     多値数[bit]\n",
        "@param mode        str    \"PSK\" or \"QAM\"\n",
        "@param gammaMode str    \"EbN0\" or \"SNR\"\n",
        "@param gamma      float   SN比\n",
        "@param errorMode   str    \"SER\" or \"BER\"\n",
        "\n",
        "@return P_e       float 誤り率(P_SER or P_BER)\n",
        "'''\n",
        "def errorTheoreticalValue(\n",
        "    M,\n",
        "    mode,\n",
        "    gammaMode,\n",
        "    gamma,\n",
        "    errorMode\n",
        ") :\n",
        "  if gammaMode == \"EbN0\":\n",
        "    gamma *= M\n",
        "  \n",
        "\n",
        "\n",
        "  if mode == \"PSK\":\n",
        "    P_SER = special.erfc(\n",
        "        np.sqrt(gamma) * np.sin( np.pi / (1 << M) )\n",
        "    )\n",
        "    if M == 1:\n",
        "      P_SER /= 2\n",
        "  \n",
        "\n",
        "  elif mode == \"QAM\":\n",
        "    P_SER = 2.0 * (1.0 - 1.0/(1<< M//2) ) * special.erfc( np.sqrt(\n",
        "          3.0 / (2.0 * ( (1 << M) - 1) ) * gamma\n",
        "        )\n",
        "      )\n",
        "\n",
        "\n",
        "\n",
        "  if errorMode == \"SER\":\n",
        "    return P_SER\n",
        " \n",
        "\n",
        "  elif errorMode == \"BER\":\n",
        "    if mode == \"QAM\":\n",
        "      if M > 10:\n",
        "        P_BER = P_SER / M\n",
        "        #P_BER = (1 << (M  - 1)) / ( (1 << M) - 1) * P_SER\n",
        "      else:  \n",
        "        if M == 4: #16QAM\n",
        "          alpha, beta = 3/8, 10\n",
        "        elif M == 6: #64QAM\n",
        "          alpha, beta = 7/24, 42\n",
        "        elif M == 8: #256QAM\n",
        "          alpha, beta = 15/64, 170\n",
        "        elif M == 10: #1024QAM\n",
        "          alpha, beta = 31/160, 682\n",
        "        P_BER = alpha * special.erfc( np.sqrt( gamma / beta ) )\n",
        "      \n",
        "    else: #PSK\n",
        "      P_BER = P_SER / M\n",
        "      #P_BER = (1 << (M  - 1)) / ( (1 << M) - 1) * P_SER\n",
        " \n",
        "    return P_BER"
      ],
      "metadata": {
        "id": "-eAYtYhdoZQt"
      },
      "execution_count": null,
      "outputs": []
    },
    {
      "cell_type": "markdown",
      "metadata": {
        "id": "2G8yBgYUQKAx"
      },
      "source": [
        "## Simulation of PSK"
      ]
    },
    {
      "cell_type": "markdown",
      "source": [
        "### QPSK"
      ],
      "metadata": {
        "id": "6UPDu8H6EZjD"
      }
    },
    {
      "cell_type": "markdown",
      "source": [
        "####  BER - E_b/N_0"
      ],
      "metadata": {
        "id": "cgC2E6D7SfmJ"
      }
    },
    {
      "cell_type": "markdown",
      "source": [
        "パラメータ\n",
        "\n",
        "|    |    |\n",
        "| ---- | ---- |\n",
        "| 変調方式 | PSK |\n",
        "| 多値数 | 4(QPSK) |\n",
        "|  試行回数  |  100万回  |\n",
        "|  $E_b/N_0$  |  0[dB]~30[dB]  |\n",
        "| 送信電力 | 1 |"
      ],
      "metadata": {
        "id": "8cNOOEPqVRxq"
      }
    },
    {
      "cell_type": "code",
      "source": [
        "#誤り基準\n",
        "errorMode = \"BER\"\n",
        "\n",
        "#変調方式\n",
        "mode = \"PSK\"\n",
        "\n",
        "#多値数\n",
        "M = 2\n",
        "\n",
        "#試行回数\n",
        "sampleSize = 10000\n",
        "\n",
        "#ステップ数\n",
        "T = 128\n",
        "\n",
        "#EbN0\n",
        "rateMode = \"EbN0\"\n",
        "EbN0_MIN = 0\n",
        "EbN0_MAX = 30\n",
        "\n",
        "#定義域(SNR)\n",
        "N = (EbN0_MAX - EbN0_MIN) + 1\n",
        "EbN0 = np.linspace(EbN0_MIN, EbN0_MAX, N)\n",
        "\n",
        "#送信電力\n",
        "powerOfSignal = 1.0"
      ],
      "metadata": {
        "id": "glfT6uQ8Svq4"
      },
      "execution_count": null,
      "outputs": []
    },
    {
      "cell_type": "code",
      "source": [
        "modulator = Modulator(M = M, mode = mode, powerOfSignal = powerOfSignal)\n",
        "channel = Channel(channelMatrix = np.array([1]) )\n",
        "awgnAdder = AwgnAdder()\n",
        "demodulator = Demodulator(M = M, mode = mode, powerOfSignal = powerOfSignal)\n",
        "\n",
        "errorCalculator = ErrorCalculator(M = M, errorMode = errorMode)\n",
        "\n"
      ],
      "metadata": {
        "id": "51-MBZIJXW0O"
      },
      "execution_count": null,
      "outputs": []
    },
    {
      "cell_type": "code",
      "source": [
        "dataOrigin = np.array([\n",
        "    np.random.randint(low = 0, high = 2, size = [1, T])\n",
        "    for _ in range(sampleSize)\n",
        "])\n",
        "\n",
        "encoder.encode(dataOrigin)"
      ],
      "metadata": {
        "colab": {
          "base_uri": "https://localhost:8080/",
          "height": 423
        },
        "id": "FXdHZE9Mh5K4",
        "outputId": "fbcf1403-ed87-4613-ecc5-cf0cdcc7a9d0"
      },
      "execution_count": null,
      "outputs": [
        {
          "output_type": "error",
          "ename": "ValueError",
          "evalue": "ignored",
          "traceback": [
            "\u001b[0;31m---------------------------------------------------------------------------\u001b[0m",
            "\u001b[0;31mTypeError\u001b[0m                                 Traceback (most recent call last)",
            "\u001b[0;31mTypeError\u001b[0m: only size-1 arrays can be converted to Python scalars",
            "\nThe above exception was the direct cause of the following exception:\n",
            "\u001b[0;31mValueError\u001b[0m                                Traceback (most recent call last)",
            "\u001b[0;32m<ipython-input-94-e15fc57390ed>\u001b[0m in \u001b[0;36m<module>\u001b[0;34m\u001b[0m\n\u001b[1;32m      4\u001b[0m ])\n\u001b[1;32m      5\u001b[0m \u001b[0;34m\u001b[0m\u001b[0m\n\u001b[0;32m----> 6\u001b[0;31m \u001b[0mdataEncoded\u001b[0m \u001b[0;34m=\u001b[0m \u001b[0mencoder\u001b[0m\u001b[0;34m.\u001b[0m\u001b[0mencode\u001b[0m\u001b[0;34m(\u001b[0m\u001b[0mdataOrigin\u001b[0m\u001b[0;34m)\u001b[0m\u001b[0;34m\u001b[0m\u001b[0;34m\u001b[0m\u001b[0m\n\u001b[0m",
            "\u001b[0;32m<ipython-input-36-c98f7e778b98>\u001b[0m in \u001b[0;36mencode\u001b[0;34m(self, X, doesReturnState)\u001b[0m\n\u001b[1;32m     29\u001b[0m       \u001b[0mu_upper\u001b[0m \u001b[0;34m=\u001b[0m \u001b[0mX\u001b[0m\u001b[0;34m[\u001b[0m\u001b[0;36m0\u001b[0m\u001b[0;34m]\u001b[0m\u001b[0;34m[\u001b[0m\u001b[0mt\u001b[0m\u001b[0;34m]\u001b[0m \u001b[0;34m^\u001b[0m \u001b[0mB\u001b[0m \u001b[0;34m^\u001b[0m \u001b[0mC\u001b[0m\u001b[0;34m\u001b[0m\u001b[0;34m\u001b[0m\u001b[0m\n\u001b[1;32m     30\u001b[0m       \u001b[0mu_lower\u001b[0m \u001b[0;34m=\u001b[0m \u001b[0mX\u001b[0m\u001b[0;34m[\u001b[0m\u001b[0;36m0\u001b[0m\u001b[0;34m]\u001b[0m\u001b[0;34m[\u001b[0m\u001b[0mt\u001b[0m\u001b[0;34m]\u001b[0m \u001b[0;34m^\u001b[0m \u001b[0mC\u001b[0m\u001b[0;34m\u001b[0m\u001b[0;34m\u001b[0m\u001b[0m\n\u001b[0;32m---> 31\u001b[0;31m       \u001b[0mU\u001b[0m\u001b[0;34m[\u001b[0m\u001b[0;36m0\u001b[0m\u001b[0;34m]\u001b[0m\u001b[0;34m[\u001b[0m\u001b[0mt\u001b[0m\u001b[0;34m]\u001b[0m \u001b[0;34m=\u001b[0m \u001b[0;34m(\u001b[0m\u001b[0mu_upper\u001b[0m \u001b[0;34m<<\u001b[0m \u001b[0;36m1\u001b[0m\u001b[0;34m)\u001b[0m \u001b[0;34m+\u001b[0m \u001b[0mu_lower\u001b[0m\u001b[0;34m\u001b[0m\u001b[0;34m\u001b[0m\u001b[0m\n\u001b[0m\u001b[1;32m     32\u001b[0m \u001b[0;34m\u001b[0m\u001b[0m\n\u001b[1;32m     33\u001b[0m       \u001b[0mC\u001b[0m \u001b[0;34m=\u001b[0m \u001b[0mB\u001b[0m\u001b[0;34m\u001b[0m\u001b[0;34m\u001b[0m\u001b[0m\n",
            "\u001b[0;31mValueError\u001b[0m: setting an array element with a sequence."
          ]
        }
      ]
    },
    {
      "cell_type": "code",
      "source": [
        "dataEncoded"
      ],
      "metadata": {
        "id": "HDJ6Mo1BkK71"
      },
      "execution_count": null,
      "outputs": []
    },
    {
      "cell_type": "code",
      "source": [
        "symbol = modulator.modulate(dataOrigin)"
      ],
      "metadata": {
        "id": "W6SstA3wkISD"
      },
      "execution_count": null,
      "outputs": []
    },
    {
      "cell_type": "code",
      "source": [
        "BER_EbN0_QPSK = np.zeros(shape = EbN0.shape)\n",
        "\n",
        "for n in range(N):\n",
        "  #シンボルsを通信路Hに通しノイズnをのせる\n",
        "  symbolTransported = channel.transport(symbol)\n",
        "\n",
        "  symbolNoized = awgnAdder.addAwgn(\n",
        "                                    symbolTransported, \n",
        "                                    calcVariance(\n",
        "                                        rate = EbN0[n], rateMode = rateMode,\n",
        "                                        M = M, P_S = powerOfSignal)\n",
        "                                  )\n",
        "  \n",
        "  #復調\n",
        "  dataDemodulated = demodulator.demodulate(symbolNoized)\n",
        "\n",
        "  #元のデータと復調データを照らし合わせてBER計算\n",
        "  ber = errorCalculator.calcError(dataOrigin, dataDemodulated)\n",
        "\n",
        "  BER_EbN0_QPSK[n] = ber\n",
        "  print(\"EbN0: {} BER: {}\".format( EbN0[n], ber) )\n",
        "\n",
        "np.savetxt(path + \"/BER_EbN0_QPSK.csv\", np.stack([\n",
        "    EbN0,\n",
        "    BER_EbN0_QPSK\n",
        "]))"
      ],
      "metadata": {
        "colab": {
          "base_uri": "https://localhost:8080/"
        },
        "id": "jwQvFhDMXXoG",
        "outputId": "4e9fa05d-b336-4efd-c537-6d369ad4896a"
      },
      "execution_count": null,
      "outputs": [
        {
          "output_type": "stream",
          "name": "stdout",
          "text": [
            "EbN0: 0.0 BER: 0.078756\n",
            "EbN0: 1.0 BER: 0.056095\n",
            "EbN0: 2.0 BER: 0.037605\n",
            "EbN0: 3.0 BER: 0.0228855\n",
            "EbN0: 4.0 BER: 0.0125165\n",
            "EbN0: 5.0 BER: 0.0058905\n",
            "EbN0: 6.0 BER: 0.0023745\n",
            "EbN0: 7.0 BER: 0.0007415\n",
            "EbN0: 8.0 BER: 0.0001855\n",
            "EbN0: 9.0 BER: 3.1e-05\n",
            "EbN0: 10.0 BER: 5e-06\n",
            "EbN0: 11.0 BER: 0.0\n",
            "EbN0: 12.0 BER: 0.0\n",
            "EbN0: 13.0 BER: 0.0\n",
            "EbN0: 14.0 BER: 0.0\n",
            "EbN0: 15.0 BER: 0.0\n",
            "EbN0: 16.0 BER: 0.0\n",
            "EbN0: 17.0 BER: 0.0\n",
            "EbN0: 18.0 BER: 0.0\n",
            "EbN0: 19.0 BER: 0.0\n",
            "EbN0: 20.0 BER: 0.0\n",
            "EbN0: 21.0 BER: 0.0\n",
            "EbN0: 22.0 BER: 0.0\n",
            "EbN0: 23.0 BER: 0.0\n",
            "EbN0: 24.0 BER: 0.0\n",
            "EbN0: 25.0 BER: 0.0\n",
            "EbN0: 26.0 BER: 0.0\n",
            "EbN0: 27.0 BER: 0.0\n",
            "EbN0: 28.0 BER: 0.0\n",
            "EbN0: 29.0 BER: 0.0\n",
            "EbN0: 30.0 BER: 0.0\n"
          ]
        }
      ]
    },
    {
      "cell_type": "markdown",
      "metadata": {
        "id": "lhJFH1flrChg"
      },
      "source": [
        "##### 実行結果"
      ]
    },
    {
      "cell_type": "code",
      "execution_count": null,
      "metadata": {
        "colab": {
          "base_uri": "https://localhost:8080/",
          "height": 289
        },
        "id": "jcsbQ04esrIp",
        "outputId": "196f1903-d6ef-4a63-8332-3ad8122e15ea"
      },
      "outputs": [
        {
          "output_type": "display_data",
          "data": {
            "text/plain": [
              "<Figure size 432x288 with 1 Axes>"
            ],
            "image/png": "[encoded data removed]"
          },
          "metadata": {
            "needs_background": "light"
          }
        }
      ],
      "source": [
        "#理論式\n",
        "mode = \"PSK\"\n",
        "gammaMode = \"EbN0\"\n",
        "N = (EbN0_MAX - EbN0_MIN) + 1\n",
        "EbN0 = np.linspace(EbN0_MIN, EbN0_MAX, N)\n",
        "errorMode = \"BER\"\n",
        "\n",
        "plt.plot(\n",
        "    EbN0,\n",
        "    errorTheoreticalValue(\n",
        "        M = 2,\n",
        "        mode = mode,\n",
        "        gammaMode = gammaMode,\n",
        "        gamma = np.power(10.0, EbN0/10.0),\n",
        "        errorMode = errorMode\n",
        "    ),\n",
        "    ':c',\n",
        "    label = \"QPSK Theoretical Value\"\n",
        ")\n",
        "\n",
        "\n",
        "#実験結果\n",
        "plt.plot(\n",
        "    np.loadtxt(path + \"/BER_EbN0_QPSK.csv\")[0],\n",
        "    np.loadtxt(path + \"/BER_EbN0_QPSK.csv\")[1],\n",
        "    'ob',\n",
        "    label = \"QPSK simulated\"\n",
        ")\n",
        "\n",
        "plt.yscale('log')\n",
        "\n",
        "plt.xlabel(\"$E_b/N_0$[dB]\")\n",
        "plt.ylabel(\"BER\")\n",
        "\n",
        "plt.ylim(10 ** (-6), 1)\n",
        "\n",
        "plt.legend()\n",
        "\n",
        "plt.savefig(path + \"/BER_EbN0_QPSK.png\")\n",
        "\n",
        "plt.show()"
      ]
    },
    {
      "cell_type": "markdown",
      "source": [
        "## まとめ\n"
      ],
      "metadata": {
        "id": "Q5EAXpQewth8"
      }
    },
    {
      "cell_type": "markdown",
      "source": [
        "### PSK"
      ],
      "metadata": {
        "id": "4_w4obhdwv7B"
      }
    },
    {
      "cell_type": "markdown",
      "source": [
        "#### BER-Eb/N0"
      ],
      "metadata": {
        "id": "HY1SRXPKxa1p"
      }
    },
    {
      "cell_type": "code",
      "source": [
        "#実験結果\n",
        "plt.plot(\n",
        "    np.loadtxt(path + \"/BER_SNR_BPSK.csv\")[0],\n",
        "    np.loadtxt(path + \"/BER_SNR_BPSK.csv\")[1],\n",
        "    'or', \n",
        "    label = \"BPSK\"\n",
        ")\n",
        "\n",
        "\n",
        "plt.xlabel(\"$E_b/N_0$\")\n",
        "plt.ylabel(\"BER\")\n",
        "\n",
        "plt.yscale(\"log\")\n",
        "\n",
        "plt.xlim(0, 15)\n",
        "plt.ylim(10 ** (-5), 1)\n",
        "\n",
        "plt.title(\"$E_b/N_0$-BER (PSK)\")\n",
        "\n",
        "plt.legend()"
      ],
      "metadata": {
        "id": "ZCWGSviXwxm6"
      },
      "execution_count": null,
      "outputs": []
    }
  ],
  "metadata": {
    "colab": {
      "collapsed_sections": [],
      "provenance": [],
      "toc_visible": true
    },
    "kernelspec": {
      "display_name": "Python 3",
      "name": "python3"
    },
    "language_info": {
      "name": "python"
    },
    "gpuClass": "standard"
  },
  "nbformat": 4,
  "nbformat_minor": 0
}