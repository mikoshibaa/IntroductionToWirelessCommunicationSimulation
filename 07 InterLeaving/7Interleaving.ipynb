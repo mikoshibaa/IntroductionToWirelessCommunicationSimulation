{
  "nbformat": 4,
  "nbformat_minor": 0,
  "metadata": {
    "colab": {
      "provenance": []
    },
    "kernelspec": {
      "name": "python3",
      "display_name": "Python 3"
    },
    "language_info": {
      "name": "python"
    }
  },
  "cells": [
    {
      "cell_type": "code",
      "execution_count": 4,
      "metadata": {
        "colab": {
          "base_uri": "https://localhost:8080/"
        },
        "id": "ih4aMtPYLP9B",
        "outputId": "9fef475e-3680-40c1-f378-a2a4492ec6f5"
      },
      "outputs": [
        {
          "output_type": "stream",
          "name": "stdout",
          "text": [
            "Python 3.7.14\n"
          ]
        }
      ],
      "source": [
        "!python3 --version\n",
        "import numpy as np\n",
        "import matplotlib.pyplot as plt"
      ]
    },
    {
      "cell_type": "markdown",
      "source": [
        "## スワップするインデックスペアの生成器"
      ],
      "metadata": {
        "id": "WpwPpfsLN6kX"
      }
    },
    {
      "cell_type": "code",
      "source": [
        "class IndexPairGenerator:\n",
        "  def __init__(self):\n",
        "    return\n",
        "  \n",
        "  '''\n",
        "  スワップするインデックスペアを生成\n",
        "  @param      symbolSize int        送信シンボルの数\n",
        "  @return      indexPair   np.ndarrayスワップするインデックスペア (symbolSize, 2)\n",
        "  '''\n",
        "  def generateIndexPair(self, symbolSize):\n",
        "    idx1 = np.arange(symbolSize)\n",
        "    idx2 = np.arange(symbolSize)\n",
        "\n",
        "    np.random.shuffle(idx1)\n",
        "    np.random.shuffle(idx2)\n",
        "    \n",
        "    return np.array([\n",
        "        idx1, idx2\n",
        "    ])"
      ],
      "metadata": {
        "id": "nGlI-iEkOAV8"
      },
      "execution_count": 99,
      "outputs": []
    },
    {
      "cell_type": "markdown",
      "source": [
        "## インターリーバ"
      ],
      "metadata": {
        "id": "0aSAUjwdZ5FT"
      }
    },
    {
      "cell_type": "code",
      "source": [
        "class InterLeaver:\n",
        "  def __init__(self):\n",
        "    return\n",
        "  \n",
        "  def interLeave(self, symbol, shuffleIndexPair):\n",
        "    symbolShuffled = symbol\n",
        "    for i in range(symbol.size):\n",
        "      symbolShuffled[ shuffleIndexPair[0][i] ] = symbol[shuffleIndexPair[1][i]]\n",
        "      symbolShuffled[ shuffleIndexPair[1][i] ] = symbol[shuffleIndexPair[0][i]]\n",
        "    return symbolShuffled"
      ],
      "metadata": {
        "id": "ElAMe70UTowx"
      },
      "execution_count": 61,
      "outputs": []
    },
    {
      "cell_type": "markdown",
      "source": [
        "## デインターリーバ"
      ],
      "metadata": {
        "id": "-BYc7cDyZ-8W"
      }
    },
    {
      "cell_type": "code",
      "source": [
        "class DeInterLeaver:\n",
        "  def __init__(self):\n",
        "    return\n",
        "  \n",
        "  def deInterLeave(self, symbolShuffled, shuffleIndexPair):\n",
        "    symbolDeShuffled = symbolShuffled\n",
        "    \n",
        "    for i in range(symbolShuffled.size):\n",
        "      symbolDeShuffled[ shuffleIndexPair[0][i] ] = symbolShuffled[shuffleIndexPair[1][i]]\n",
        "      symbolDeShuffled[ shuffleIndexPair[1][i] ] = symbolShuffled[shuffleIndexPair[0][i]]\n",
        "    \n",
        "    return symbolDeShuffled"
      ],
      "metadata": {
        "id": "-kmacgeJWHNa"
      },
      "execution_count": 88,
      "outputs": []
    },
    {
      "cell_type": "markdown",
      "source": [
        "## 実験\n",
        "送信シンボル$10000$, シンボル入れ替え$10000$．これを$10000$回行う"
      ],
      "metadata": {
        "id": "5beDCeWEYCoS"
      }
    },
    {
      "cell_type": "code",
      "source": [
        "#実行回数\n",
        "iterNum = 10000\n",
        "\n",
        "#送信シンボル数\n",
        "symbolNum = 10000"
      ],
      "metadata": {
        "id": "8KOfn-OBYOYu"
      },
      "execution_count": 104,
      "outputs": []
    },
    {
      "cell_type": "code",
      "source": [
        "#エラーカウント\n",
        "errorCnt = 0"
      ],
      "metadata": {
        "id": "X1Gvkqz2YY9g"
      },
      "execution_count": 95,
      "outputs": []
    },
    {
      "cell_type": "code",
      "source": [
        "#シャッフルインデックス生成器, インターリーバ，デインターリーバ\n",
        "indexPairGenerator, interLeaver, deInterLeaver = IndexPairGenerator(), InterLeaver(), DeInterLeaver()"
      ],
      "metadata": {
        "id": "G6csi6QSY81L"
      },
      "execution_count": 100,
      "outputs": []
    },
    {
      "cell_type": "code",
      "source": [
        "for _ in range(iterNum):\n",
        "  #進捗バー\n",
        "  if _ % 1000 == 0:\n",
        "    print(\"#\" * (_ // 1000))\n",
        "\n",
        "  #10000個のシンボル\n",
        "  symbol = np.random.randint(low = 0, high = 26, size = symbolNum)\n",
        "\n",
        "  #シャッフルするインデックスペア\n",
        "  idxPair = indexPairGenerator.generateIndexPair(symbolNum)\n",
        "\n",
        "  #シャッフルされたシンボル\n",
        "  symbolShuffled = interLeaver.interLeave(symbol, idxPair)\n",
        "\n",
        "  #元に直したシンボル\n",
        "  symbolDeShuffled = deInterLeaver.deInterLeave(symbol, idxPair)\n",
        "\n",
        "  #エラーを加算\n",
        "  errorCnt += np.sum(symbol ^ symbolDeShuffled)\n",
        "\n",
        "print(\"error count:{}\".format(errorCnt))"
      ],
      "metadata": {
        "colab": {
          "base_uri": "https://localhost:8080/"
        },
        "id": "ynLgJvBuYbdD",
        "outputId": "c7c37229-ea71-4004-ce05-da9c9691402f"
      },
      "execution_count": 112,
      "outputs": [
        {
          "output_type": "stream",
          "name": "stdout",
          "text": [
            "\n",
            "#\n",
            "##\n",
            "###\n",
            "####\n",
            "#####\n",
            "######\n",
            "#######\n",
            "########\n",
            "#########\n",
            "error count:0\n"
          ]
        }
      ]
    }
  ]
}