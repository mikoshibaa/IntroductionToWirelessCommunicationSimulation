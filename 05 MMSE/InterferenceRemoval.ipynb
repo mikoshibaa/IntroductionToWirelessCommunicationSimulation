{
  "nbformat": 4,
  "nbformat_minor": 0,
  "metadata": {
    "colab": {
      "provenance": [],
      "collapsed_sections": []
    },
    "kernelspec": {
      "name": "python3",
      "display_name": "Python 3"
    },
    "language_info": {
      "name": "python"
    }
  },
  "cells": [
    {
      "cell_type": "markdown",
      "source": [
        "# 最適ウェイト"
      ],
      "metadata": {
        "id": "A-qCFYMwQpaM"
      }
    },
    {
      "cell_type": "markdown",
      "source": [
        "##1 目的\n",
        "不要波の到来方向にヌルを向けるウェイト$w_{\\mbox{opt} }$を作成する"
      ],
      "metadata": {
        "id": "lhgnpbcAQu3B"
      }
    },
    {
      "cell_type": "markdown",
      "source": [
        "## 2 手順\n",
        "$L$本の受信アンテナに所望信号$s$，干渉波$u$，熱雑音が加わって以下のように表現されたとする．\n",
        "$$\n",
        "\\boldsymbol{x} = s \\boldsymbol{x}_s + u \\boldsymbol{x}_u + \\boldsymbol{n}\n",
        "$$\n",
        "これによいウェイト$\\boldsymbol{w}$をかけて$\\boldsymbol{w}^H \\boldsymbol{x}$を所望信号$s$に近づけたい．MMSE基準では以下であることがわかっている．\n",
        "\n",
        "$$\n",
        "\\boldsymbol{w}_{ \\mbox{opt} } =  R_{xx}^{-1} \\boldsymbol{r}_{xs}\n",
        "$$\n",
        "\n",
        "ただし$R_{xx}, \\boldsymbol{r}_{xs}$はそれぞれ以下で表現される相関行列および相関ベクトルである．\n",
        "\n",
        "$$\n",
        "R_{xx} = \\mathbb{E}\\big[\\boldsymbol{x} \\boldsymbol{x}^H\\big] \\\\\n",
        "= P_s \\boldsymbol{x}_s \\boldsymbol{x}_s^H + P_u \\boldsymbol{x}_u \\boldsymbol{x}_u^H + P_n I_L \\\\\n",
        "\\boldsymbol{r}_{xs} = P_s X_s\n",
        "$$\n",
        "\n",
        "具体的にアレー応答ベクトルの表現をおいておく：\n",
        "$$\n",
        "\\boldsymbol{x}_s = \\Bigg[ \\exp\\Big\\{-j\n",
        "\\frac{2\\pi}{\\lambda} (i - 1) d \\sin \\theta_s\n",
        "\\Big\\}\\Bigg]_{i = 1, 2, \\cdots, L} \\\\\n",
        "\\boldsymbol{x}_u = \\Bigg[ \\exp\\Big\\{-j\n",
        "\\frac{2\\pi}{\\lambda} (i - 1) d \\sin \\theta_u\n",
        "\\Big\\}\\Bigg]_{i = 1, 2, \\cdots, L} \n",
        "$$\n"
      ],
      "metadata": {
        "id": "5tqQ9R1eRsZg"
      }
    },
    {
      "cell_type": "markdown",
      "source": [
        "#3 具体的な実験\n",
        "受信アンテナ#$i (= 1, 2, \\cdots, L)$にある角度$\\theta$から\n",
        "$$\n",
        "v(i; \\theta) = \\exp\\Big[-j\\pi (i - 1) \\sin \\theta \\Big]\n",
        "$$\n",
        "という信号が到来したときに以下のシミュレーションパラメータを用いて$30^\\circ$の到来信号を検出するウェイトを作成し，乗算することで，実際に到来方向が正しく推定できちるのか確認する．ただし，出力SNRは\n",
        "$$\n",
        "D_P (\\theta) = \\frac{1}{2} \\bigg\\| \\boldsymbol{w}_{\\mbox{opt}}^H \\boldsymbol{V}(\\theta) \\bigg\\|^2\n",
        "とする．\n",
        "$$"
      ],
      "metadata": {
        "id": "o6j24FEHLm1V"
      }
    },
    {
      "cell_type": "markdown",
      "source": [
        "|  TH  |  TH  |\n",
        "| ---- | ---- |\n",
        "|  送信アンテナ数$T$  |  $2$  |\n",
        "|  受信アンテナ数$R$  |  $2, 4$（可変）  |\n",
        "| 所望波の角度$\\theta_s$ | $30^\\circ$ |\n",
        "| 不要波の角度$\\theta_u$ | $-60^\\circ$ |\n",
        "| 光速$c$ | $3.0 \\times 10^8$ |\n",
        "|信号周波数$f$ | $2.4\\times 10^9$ |\n",
        "| 各電力 | $P_s = 1.0, P_u = 1.0, P_n = 0.01$ |\n",
        "| 推定到来範囲 $\\theta$ | $-90^\\circ \\leq \\theta \\leq 90^\\circ$  |"
      ],
      "metadata": {
        "id": "MXO4tapuFE6T"
      }
    },
    {
      "cell_type": "markdown",
      "source": [
        "簡単な計算より波長は$\\lambda = 0.125$,アンテナ間距離は$d = 6.25 \\times 10^{-2}$とわかる"
      ],
      "metadata": {
        "id": "Kcj0lBtWh5C_"
      }
    },
    {
      "cell_type": "code",
      "source": [
        "!python --version"
      ],
      "metadata": {
        "colab": {
          "base_uri": "https://localhost:8080/"
        },
        "id": "rVF2U3RAUQEw",
        "outputId": "4bb8b829-bcad-4588-9aa0-5755ea3c16d1"
      },
      "execution_count": 421,
      "outputs": [
        {
          "output_type": "stream",
          "name": "stdout",
          "text": [
            "Python 3.7.13\n"
          ]
        }
      ]
    },
    {
      "cell_type": "code",
      "source": [
        "import numpy as np\n",
        "import math\n",
        "import matplotlib.pyplot as plt"
      ],
      "metadata": {
        "id": "ElAUr-jjd23a"
      },
      "execution_count": 422,
      "outputs": []
    },
    {
      "cell_type": "code",
      "source": [
        "#アダプティブアレーアンテナ\n",
        "class AdaptiveArrayAntenna:\n",
        "\n",
        "  #constructor\n",
        "  def __init__(self,\n",
        "               T,\n",
        "               R,\n",
        "               thetaSignal,\n",
        "               thetaInterference,\n",
        "               waveLength,\n",
        "               d,\n",
        "               powerOfSignal,\n",
        "               powerOfInterference,\n",
        "               powerOfNoise\n",
        "               ):\n",
        "    self.T = T\n",
        "    self.R = int(R)\n",
        "    self.thetaSignal = thetaSignal\n",
        "    self.thetaInterference = thetaInterference\n",
        "    self.waveLength = waveLength\n",
        "    self.d = d\n",
        "    self.powerOfSignal = powerOfSignal\n",
        "    self.powerOfInterference = powerOfInterference\n",
        "    self.powerOfNoise = powerOfNoise\n",
        "\n",
        "    self.Xs = self.calcArrayResponseVector( self.thetaSignal )\n",
        "\n",
        "    self.Xu = self.calcArrayResponseVector( self.thetaInterference )\n",
        "\n",
        "    self.Rxx = self.calcRxx()\n",
        "\n",
        "    self.rxs = self.calcrxs()\n",
        "\n",
        "    self.weightOpt = self.calcWeightOpt()\n",
        "  \n",
        "  #アレー応答ベクトル計算\n",
        "  def calcArrayResponseVector(self, theta) :\n",
        "    arrayResponseVector = np.array([\n",
        "        [\n",
        "            np.exp(\n",
        "              - 1j * 2.0 * np.pi / self.waveLength * r * self.d * math.sin(theta)\n",
        "            )   \n",
        "        ] for r in range(self.R)\n",
        "    ])\n",
        "    return arrayResponseVector\n",
        "    \n",
        "  \n",
        "  #相関行列計算\n",
        "  def calcRxx(self):\n",
        "    return (\n",
        "        self.powerOfSignal * self.Xs @ np.conjugate( self.Xs ).T +\n",
        "        self.powerOfInterference * self.Xu @ np.conjugate( self.Xu ).T +\n",
        "        self.powerOfNoise * np.identity(self.R)\n",
        "    )\n",
        "  \n",
        "  #相関ベクトル計算\n",
        "  def calcrxs(self):\n",
        "    return self.powerOfSignal * self.Xs\n",
        "\n",
        "  #最適ウェイト計算(MMSE基準)\n",
        "  def calcWeightOpt(self):\n",
        "    return np.linalg.inv( self.Rxx ) @ self.rxs\n",
        "  \n",
        "  #θから信号が来たと予測し，そのときのSNRを計算\n",
        "  def calcSNR(self, theta):\n",
        "    SNR = abs( \n",
        "        np.conjugate( self.weightOpt ).T @  \n",
        "        np.exp(\n",
        "            - 1j * 2.0 * np.pi / self.waveLength * np.arange( self.R ) * self.d * np.sin(theta)\n",
        "          )\n",
        "        ) ** 2\n",
        "    SNR /= 2\n",
        "\n",
        "    #[dB]に直す\n",
        "    return 10.0 * np.log10(SNR)"
      ],
      "metadata": {
        "id": "dZihxr_aSw02"
      },
      "execution_count": 423,
      "outputs": []
    },
    {
      "cell_type": "markdown",
      "source": [
        "## 受信アンテナ数が$R = 2$のとき"
      ],
      "metadata": {
        "id": "UoB7sNDruFCC"
      }
    },
    {
      "cell_type": "code",
      "source": [
        "adaptiveArrayAntennaR2 = AdaptiveArrayAntenna(\n",
        "    T = 1,\n",
        "    R = 2,\n",
        "    thetaSignal = 30 * math.pi / 180,\n",
        "    thetaInterference = -60 * math.pi / 180,\n",
        "    waveLength = 0.125,\n",
        "    d = 0.0625,\n",
        "    powerOfSignal = 1.0,\n",
        "    powerOfInterference = 1.0,\n",
        "    powerOfNoise = 0.01\n",
        ")"
      ],
      "metadata": {
        "id": "O_sYPNSBXb8K"
      },
      "execution_count": 424,
      "outputs": []
    },
    {
      "cell_type": "code",
      "source": [
        "theta = np.arange(-90, 91)\n",
        "SNR_R2 = np.array([\n",
        "    adaptiveArrayAntennaR2.calcSNR( theta_ * np.pi / 180 )\n",
        "    for theta_ in theta\n",
        "])"
      ],
      "metadata": {
        "id": "wPUN3AydpRNC"
      },
      "execution_count": 425,
      "outputs": []
    },
    {
      "cell_type": "code",
      "source": [
        "plt.plot(theta, SNR_R2, label = \"R = 2\")\n",
        "\n",
        "plt.xlim(-90, 90)\n",
        "plt.ylim(-80, 0)\n",
        "plt.xlabel(\"Estimated Aangle$[^\\circ]$\")\n",
        "plt.ylabel(\"SNR[dB]\")\n",
        "\n",
        "plt.annotate(r'$\\theta_s$', (30, -4), (30, -50),arrowprops=dict(arrowstyle=\"->\"))\n",
        "plt.annotate(r'$\\theta_u$', (-60, -52), (-60, -75),arrowprops=dict(arrowstyle=\"->\"))\n",
        "\n",
        "plt.legend(loc = \"lower right\")\n",
        "\n",
        "plt.savefig(\"movingIntergerenceWaveR2.png\")\n",
        "\n",
        "plt.show()"
      ],
      "metadata": {
        "id": "MiMypwJMkYDQ",
        "colab": {
          "base_uri": "https://localhost:8080/",
          "height": 287
        },
        "outputId": "fd812784-0fdf-4a71-82c9-00ac794d9d2a"
      },
      "execution_count": 426,
      "outputs": [
        {
          "output_type": "display_data",
          "data": {
            "text/plain": [
              "<Figure size 432x288 with 1 Axes>"
            ],
            "image/png": "[encoded data removed]"
          },
          "metadata": {
            "needs_background": "light"
          }
        }
      ]
    },
    {
      "cell_type": "markdown",
      "source": [
        "## 受信アンテナ数が$R = 4$のとき"
      ],
      "metadata": {
        "id": "g15w44-kuQ03"
      }
    },
    {
      "cell_type": "code",
      "source": [
        "adaptiveArrayAntennaR4 = AdaptiveArrayAntenna(\n",
        "    T = 1,\n",
        "    R = 4,\n",
        "    thetaSignal = 30 * math.pi / 180,\n",
        "    thetaInterference = -60 * math.pi / 180,\n",
        "    waveLength = 0.125,\n",
        "    d = 0.0625,\n",
        "    powerOfSignal = 1.0,\n",
        "    powerOfInterference = 1.0,\n",
        "    powerOfNoise = 0.01\n",
        ")"
      ],
      "metadata": {
        "id": "cmxURLc-uQ04"
      },
      "execution_count": 427,
      "outputs": []
    },
    {
      "cell_type": "code",
      "source": [
        "theta = np.arange(-90, 91)\n",
        "SNR_R4 = np.array([\n",
        "    adaptiveArrayAntennaR4.calcSNR( theta_ * np.pi / 180 )\n",
        "    for theta_ in theta\n",
        "])"
      ],
      "metadata": {
        "id": "51iC7njAuQ04"
      },
      "execution_count": 428,
      "outputs": []
    },
    {
      "cell_type": "code",
      "source": [
        "plt.plot(theta, SNR_R4, label = \"R4\")\n",
        "\n",
        "plt.xlim(-90, 90)\n",
        "plt.ylim(-90, 0)\n",
        "plt.xlabel(\"Estimated Aangle$[^\\circ]$\")\n",
        "plt.ylabel(\"SNR[dB]\")\n",
        "\n",
        "plt.annotate(r'$\\theta_s$', (30, -4), (30, -50),arrowprops=dict(arrowstyle=\"->\"))\n",
        "plt.annotate(r'$\\theta_u$', (-60, -70), (-60, -85),arrowprops=dict(arrowstyle=\"->\"))\n",
        "\n",
        "\n",
        "plt.legend(loc = \"lower right\")\n",
        "\n",
        "plt.savefig(\"movingIntergerenceWaveR4.png\")\n",
        "\n",
        "plt.show()"
      ],
      "metadata": {
        "id": "c43LqUIquQ05",
        "colab": {
          "base_uri": "https://localhost:8080/",
          "height": 287
        },
        "outputId": "93047600-e3d5-4ecd-a346-01e65dbf0228"
      },
      "execution_count": 429,
      "outputs": [
        {
          "output_type": "display_data",
          "data": {
            "text/plain": [
              "<Figure size 432x288 with 1 Axes>"
            ],
            "image/png": "[encoded data removed]"
          },
          "metadata": {
            "needs_background": "light"
          }
        }
      ]
    },
    {
      "cell_type": "markdown",
      "source": [
        "## まとめ"
      ],
      "metadata": {
        "id": "r9f73V-IbIV7"
      }
    },
    {
      "cell_type": "code",
      "source": [
        "plt.plot(theta, SNR_R2, label = \"R = 2\")\n",
        "plt.plot(theta, SNR_R4, label = \"R = 4\")\n",
        "\n",
        "plt.xlim(-90, 90)\n",
        "plt.ylim(-90, 0)\n",
        "plt.xlabel(\"Estimated Aangle$[^\\circ]$\")\n",
        "plt.ylabel(\"SNR[dB]\")\n",
        "\n",
        "plt.annotate(r'$\\theta_s$', (30, -4), (30, -50),arrowprops=dict(arrowstyle=\"->\"))\n",
        "plt.annotate(r'$\\theta_u$', (-60, -70), (-60, -85),arrowprops=dict(arrowstyle=\"->\"))\n",
        "\n",
        "\n",
        "plt.legend(loc = \"lower right\")\n",
        "\n",
        "plt.savefig(\"movingIntergerenceWave.png\")\n",
        "\n",
        "plt.show()"
      ],
      "metadata": {
        "colab": {
          "base_uri": "https://localhost:8080/",
          "height": 287
        },
        "id": "AHaI9wxAbLJl",
        "outputId": "ab423a9d-2ee9-4801-97bb-89b6b422d73f"
      },
      "execution_count": 430,
      "outputs": [
        {
          "output_type": "display_data",
          "data": {
            "text/plain": [
              "<Figure size 432x288 with 1 Axes>"
            ],
            "image/png": "[encoded data removed]"
          },
          "metadata": {
            "needs_background": "light"
          }
        }
      ]
    }
  ]
}